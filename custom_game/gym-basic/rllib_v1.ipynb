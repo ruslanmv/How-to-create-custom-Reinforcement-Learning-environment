{
 "cells": [
  {
   "cell_type": "markdown",
   "metadata": {
    "id": "GPDcqKRc-3_J"
   },
   "source": [
    "# Test a RL Algorithm using Ray programming ecosystem\n",
    "---"
   ]
  },
  {
   "cell_type": "markdown",
   "metadata": {
    "id": "nx5ZLyJ5_CfX"
   },
   "source": [
    "The main aim of the current analysis is to provide a general guidelines to prepare and test the following workflow that breaks down the several needed steps to let an Agent, in the context of RL learning modeling problems, be trained onto a given provided rational Environment we purpose for the objectives we have thought and we continue to bear in mind so that we can understand whether the proposed solution actually and indeed works."
   ]
  },
  {
   "cell_type": "markdown",
   "metadata": {
    "id": "QUiAksKy-YFw"
   },
   "source": [
    "## Install further necessary third-party python modules\n",
    "---\n"
   ]
  },
  {
   "cell_type": "markdown",
   "metadata": {
    "id": "e1CcCm1z_zbo"
   },
   "source": [
    "Here in this section we will perform some notebook required management task such as providing ways to install third-party python modules we will adopt to accomplish the goal of our analysis."
   ]
  },
  {
   "cell_type": "code",
   "execution_count": 1,
   "metadata": {
    "colab": {
     "base_uri": "https://localhost:8080/"
    },
    "id": "UvVjuOTGcN3v",
    "outputId": "68e7f5b8-66b8-4e91-8a4d-761b140585fa"
   },
   "outputs": [
    {
     "name": "stdout",
     "output_type": "stream",
     "text": [
      "Looking in indexes: https://pypi.org/simple, https://us-python.pkg.dev/colab-wheels/public/simple/\n",
      "Requirement already satisfied: ray in /usr/local/lib/python3.8/dist-packages (2.2.0)\n",
      "Requirement already satisfied: frozenlist in /usr/local/lib/python3.8/dist-packages (from ray) (1.3.3)\n",
      "Requirement already satisfied: grpcio>=1.32.0 in /usr/local/lib/python3.8/dist-packages (from ray) (1.51.1)\n",
      "Requirement already satisfied: aiosignal in /usr/local/lib/python3.8/dist-packages (from ray) (1.3.1)\n",
      "Requirement already satisfied: virtualenv>=20.0.24 in /usr/local/lib/python3.8/dist-packages (from ray) (20.17.1)\n",
      "Requirement already satisfied: attrs in /usr/local/lib/python3.8/dist-packages (from ray) (22.2.0)\n",
      "Requirement already satisfied: click>=7.0 in /usr/local/lib/python3.8/dist-packages (from ray) (7.1.2)\n",
      "Requirement already satisfied: filelock in /usr/local/lib/python3.8/dist-packages (from ray) (3.9.0)\n",
      "Requirement already satisfied: requests in /usr/local/lib/python3.8/dist-packages (from ray) (2.25.1)\n",
      "Requirement already satisfied: pyyaml in /usr/local/lib/python3.8/dist-packages (from ray) (6.0)\n",
      "Requirement already satisfied: msgpack<2.0.0,>=1.0.0 in /usr/local/lib/python3.8/dist-packages (from ray) (1.0.4)\n",
      "Requirement already satisfied: protobuf!=3.19.5,>=3.15.3 in /usr/local/lib/python3.8/dist-packages (from ray) (3.19.6)\n",
      "Requirement already satisfied: jsonschema in /usr/local/lib/python3.8/dist-packages (from ray) (4.3.3)\n",
      "Requirement already satisfied: numpy>=1.16 in /usr/local/lib/python3.8/dist-packages (from ray) (1.21.6)\n",
      "Requirement already satisfied: platformdirs<3,>=2.4 in /usr/local/lib/python3.8/dist-packages (from virtualenv>=20.0.24->ray) (2.6.2)\n",
      "Requirement already satisfied: distlib<1,>=0.3.6 in /usr/local/lib/python3.8/dist-packages (from virtualenv>=20.0.24->ray) (0.3.6)\n",
      "Requirement already satisfied: pyrsistent!=0.17.0,!=0.17.1,!=0.17.2,>=0.14.0 in /usr/local/lib/python3.8/dist-packages (from jsonschema->ray) (0.19.3)\n",
      "Requirement already satisfied: importlib-resources>=1.4.0 in /usr/local/lib/python3.8/dist-packages (from jsonschema->ray) (5.10.2)\n",
      "Requirement already satisfied: certifi>=2017.4.17 in /usr/local/lib/python3.8/dist-packages (from requests->ray) (2022.12.7)\n",
      "Requirement already satisfied: idna<3,>=2.5 in /usr/local/lib/python3.8/dist-packages (from requests->ray) (2.10)\n",
      "Requirement already satisfied: urllib3<1.27,>=1.21.1 in /usr/local/lib/python3.8/dist-packages (from requests->ray) (1.24.3)\n",
      "Requirement already satisfied: chardet<5,>=3.0.2 in /usr/local/lib/python3.8/dist-packages (from requests->ray) (4.0.0)\n",
      "Requirement already satisfied: zipp>=3.1.0 in /usr/local/lib/python3.8/dist-packages (from importlib-resources>=1.4.0->jsonschema->ray) (3.11.0)\n"
     ]
    }
   ],
   "source": [
    "!pip install ray"
   ]
  },
  {
   "cell_type": "code",
   "execution_count": 2,
   "metadata": {
    "colab": {
     "base_uri": "https://localhost:8080/"
    },
    "id": "Lyd9wDehcaUI",
    "outputId": "036e316e-cc8e-44e5-c1ce-1b0e7affc037"
   },
   "outputs": [
    {
     "name": "stdout",
     "output_type": "stream",
     "text": [
      "Looking in indexes: https://pypi.org/simple, https://us-python.pkg.dev/colab-wheels/public/simple/\n",
      "Requirement already satisfied: lz4 in /usr/local/lib/python3.8/dist-packages (4.3.2)\n"
     ]
    }
   ],
   "source": [
    "!pip install lz4"
   ]
  },
  {
   "cell_type": "markdown",
   "metadata": {
    "id": "TKfFbiEB_1YG"
   },
   "source": [
    "## Imports\n",
    "---"
   ]
  },
  {
   "cell_type": "markdown",
   "metadata": {
    "id": "rGV9o4Oq_3KX"
   },
   "source": [
    "The following section details and lists the modules we are going to exploit.\n",
    "\n",
    "In particular we connect to our google drive remote data storage that will provide both input data fetched for training step as weel as output directory location where we will be able to save our intermediate as well as ultimate results, such as checkpoints files that are in charge or representing snapshots of RL model to be trained at a given point in time during the whole processing step corresponding to training phase of our workflow analysis."
   ]
  },
  {
   "cell_type": "code",
   "execution_count": 3,
   "metadata": {
    "colab": {
     "base_uri": "https://localhost:8080/"
    },
    "id": "ly0Z4g9Q-VTL",
    "outputId": "9c418763-ab5e-437b-b8bd-017a27a5efa6"
   },
   "outputs": [
    {
     "name": "stdout",
     "output_type": "stream",
     "text": [
      "Drive already mounted at /content/drive; to attempt to forcibly remount, call drive.mount(\"/content/drive\", force_remount=True).\n"
     ]
    }
   ],
   "source": [
    "from google.colab import drive\n",
    "drive.mount('/content/drive')"
   ]
  },
  {
   "cell_type": "markdown",
   "metadata": {
    "id": "nXwIiU__Apiu"
   },
   "source": [
    "The, we as eary mentioned proceed with the import of our main packages that provides standard utilities and ways of dealing with our data to be analyzed."
   ]
  },
  {
   "cell_type": "code",
   "execution_count": 4,
   "metadata": {
    "application/vnd.databricks.v1+cell": {
     "cellMetadata": {},
     "inputWidgets": {},
     "nuid": "60e667af-d38f-4f79-9921-48d58980b92d",
     "showTitle": true,
     "title": "Acquisizione dei dati"
    },
    "id": "CFb_hLIDan7n"
   },
   "outputs": [],
   "source": [
    "import os\n",
    "import gym\n",
    "import random\n",
    "import numpy as np\n",
    "import pandas as pd\n",
    "import gym\n",
    "import ray\n",
    "import tqdm"
   ]
  },
  {
   "cell_type": "code",
   "execution_count": 5,
   "metadata": {
    "id": "o1ZgoR-2Ed3U"
   },
   "outputs": [],
   "source": [
    "from sklearn.metrics import silhouette_score\n",
    "from sklearn.preprocessing import MinMaxScaler"
   ]
  },
  {
   "cell_type": "code",
   "execution_count": 6,
   "metadata": {
    "id": "-N7NT_aFEYuX"
   },
   "outputs": [],
   "source": [
    "\n",
    "from ray.rllib.env.env_context import EnvContext\n",
    "from ray.rllib.algorithms import appo\n",
    "from ray.rllib.algorithms.appo import APPOConfig"
   ]
  },
  {
   "cell_type": "markdown",
   "metadata": {
    "id": "HADO-1_MC3DQ"
   },
   "source": [
    "## Globals"
   ]
  },
  {
   "cell_type": "markdown",
   "metadata": {
    "id": "y3QIeCYLIhe1"
   },
   "source": [
    "Global variables are available as input FORM:"
   ]
  },
  {
   "cell_type": "code",
   "execution_count": 7,
   "metadata": {
    "id": "4DhOhJXNC4p3"
   },
   "outputs": [],
   "source": [
    "EMPLOYESS_FILE_PATH = '/content/drive/MyDrive/ANALYSES_AND_TESTS/RL_TESTS/data/employees.csv' #@param {type:\"string\"}"
   ]
  },
  {
   "cell_type": "code",
   "execution_count": 8,
   "metadata": {
    "id": "bbgV8A-kDbAM"
   },
   "outputs": [],
   "source": [
    "SEATS_FILE_PATH = '/content/drive/MyDrive/ANALYSES_AND_TESTS/RL_TESTS/data/seats_dataset.csv' #@param {type:\"string\"}"
   ]
  },
  {
   "cell_type": "code",
   "execution_count": 9,
   "metadata": {
    "id": "kQLiL_9JIGzD"
   },
   "outputs": [],
   "source": [
    "CHECKPOINTS_DIR = '/content/drive/MyDrive/ANALYSES_AND_TESTS/RL_TESTS/out/checkpoints' #@param {type:\"string\"}"
   ]
  },
  {
   "cell_type": "code",
   "execution_count": 10,
   "metadata": {
    "id": "BqLlskMzF6am"
   },
   "outputs": [],
   "source": [
    "FREQ_SHOW_RESULTS = 10 #@param {type:\"integer\"}\n",
    "FREQ_SAVE_MODEL_CHECKPOINT = 100 #@param {type:\"integer\"}"
   ]
  },
  {
   "cell_type": "markdown",
   "metadata": {
    "id": "DYHBgF5jBnNC"
   },
   "source": [
    "## Analysis"
   ]
  },
  {
   "cell_type": "markdown",
   "metadata": {
    "id": "Yy3YoI3RECfM"
   },
   "source": [
    "### Load and Prepare Input Data"
   ]
  },
  {
   "cell_type": "markdown",
   "metadata": {
    "id": "03gFT5GDBpfx"
   },
   "source": [
    "We start our analysis and proceed step by step showing all the actions necessary to correctly provided the right shaped data to our routines and algorithms for training and evaluating the RL learning approach we decided to adopt along with the devised RL Environmentm that will suggest and interact with the Agent to address the policy approximation strategy we desire to obtain.\n",
    "\n",
    "So, we firstly load the data from a specific location into data frame objects used later for feeding the learning system we prepared:"
   ]
  },
  {
   "cell_type": "code",
   "execution_count": 11,
   "metadata": {
    "id": "8eYOMS11Cyay"
   },
   "outputs": [],
   "source": [
    "df_emp = pd.read_csv(EMPLOYESS_FILE_PATH, sep =';')"
   ]
  },
  {
   "cell_type": "code",
   "execution_count": 12,
   "metadata": {
    "colab": {
     "base_uri": "https://localhost:8080/"
    },
    "id": "Om2AsVdfDn-r",
    "outputId": "c1083ebd-49e0-41f1-d2ec-65bd643e9d94"
   },
   "outputs": [
    {
     "name": "stdout",
     "output_type": "stream",
     "text": [
      "<class 'pandas.core.frame.DataFrame'>\n",
      "RangeIndex: 80 entries, 0 to 79\n",
      "Data columns (total 10 columns):\n",
      " #   Column     Non-Null Count  Dtype \n",
      "---  ------     --------------  ----- \n",
      " 0   id         80 non-null     int64 \n",
      " 1   role       80 non-null     object\n",
      " 2   client     80 non-null     object\n",
      " 3   practice   80 non-null     object\n",
      " 4   job        80 non-null     object\n",
      " 5   name       80 non-null     object\n",
      " 6   birthdate  80 non-null     object\n",
      " 7   username   80 non-null     object\n",
      " 8   mail       80 non-null     object\n",
      " 9   address    80 non-null     object\n",
      "dtypes: int64(1), object(9)\n",
      "memory usage: 6.4+ KB\n"
     ]
    }
   ],
   "source": [
    "df_emp.info()"
   ]
  },
  {
   "cell_type": "code",
   "execution_count": 13,
   "metadata": {
    "colab": {
     "base_uri": "https://localhost:8080/",
     "height": 0
    },
    "id": "sIOjG6oND2oj",
    "outputId": "70df80b8-5af6-4cb1-8eef-b727a067bd69"
   },
   "outputs": [
    {
     "data": {
      "text/html": [
       "\n",
       "  <div id=\"df-6fc2400e-9979-4899-bb62-4375be32ed33\">\n",
       "    <div class=\"colab-df-container\">\n",
       "      <div>\n",
       "<style scoped>\n",
       "    .dataframe tbody tr th:only-of-type {\n",
       "        vertical-align: middle;\n",
       "    }\n",
       "\n",
       "    .dataframe tbody tr th {\n",
       "        vertical-align: top;\n",
       "    }\n",
       "\n",
       "    .dataframe thead th {\n",
       "        text-align: right;\n",
       "    }\n",
       "</style>\n",
       "<table border=\"1\" class=\"dataframe\">\n",
       "  <thead>\n",
       "    <tr style=\"text-align: right;\">\n",
       "      <th></th>\n",
       "      <th>id</th>\n",
       "      <th>role</th>\n",
       "      <th>client</th>\n",
       "      <th>practice</th>\n",
       "      <th>job</th>\n",
       "      <th>name</th>\n",
       "      <th>birthdate</th>\n",
       "      <th>username</th>\n",
       "      <th>mail</th>\n",
       "      <th>address</th>\n",
       "    </tr>\n",
       "  </thead>\n",
       "  <tbody>\n",
       "    <tr>\n",
       "      <th>0</th>\n",
       "      <td>0</td>\n",
       "      <td>EM</td>\n",
       "      <td>Brown-Lindsey</td>\n",
       "      <td>C&amp;CA</td>\n",
       "      <td>Production assistant, television</td>\n",
       "      <td>Jennifer Chavez</td>\n",
       "      <td>1944-11-01</td>\n",
       "      <td>wendy61</td>\n",
       "      <td>jamesmccall@hotmail.com</td>\n",
       "      <td>114 Bryan Throughway Suite 189\\nSouth Andreamo...</td>\n",
       "    </tr>\n",
       "    <tr>\n",
       "      <th>1</th>\n",
       "      <td>1</td>\n",
       "      <td>EM</td>\n",
       "      <td>Davidson Inc</td>\n",
       "      <td>DCX</td>\n",
       "      <td>Brewing technologist</td>\n",
       "      <td>Kenneth Goodwin</td>\n",
       "      <td>1973-12-31</td>\n",
       "      <td>adam32</td>\n",
       "      <td>amysantiago@hotmail.com</td>\n",
       "      <td>12111 Harris Shoals\\nChadburgh, NE 62238</td>\n",
       "    </tr>\n",
       "    <tr>\n",
       "      <th>2</th>\n",
       "      <td>2</td>\n",
       "      <td>EM</td>\n",
       "      <td>Williams, Lopez and Brown</td>\n",
       "      <td>I&amp;S</td>\n",
       "      <td>Chartered certified accountant</td>\n",
       "      <td>Andrew Patterson</td>\n",
       "      <td>1958-09-11</td>\n",
       "      <td>mward</td>\n",
       "      <td>weaverlaura@gmail.com</td>\n",
       "      <td>73286 Becker Courts Suite 329\\nNew Rachelside,...</td>\n",
       "    </tr>\n",
       "    <tr>\n",
       "      <th>3</th>\n",
       "      <td>3</td>\n",
       "      <td>EM</td>\n",
       "      <td>Jenkins-Hall</td>\n",
       "      <td>Data Engineer</td>\n",
       "      <td>Film/video editor</td>\n",
       "      <td>Patrick Jenkins DDS</td>\n",
       "      <td>1912-09-30</td>\n",
       "      <td>eric66</td>\n",
       "      <td>jonathan41@hotmail.com</td>\n",
       "      <td>331 Silva Ways\\nLake Meghanshire, MD 15360</td>\n",
       "    </tr>\n",
       "    <tr>\n",
       "      <th>4</th>\n",
       "      <td>4</td>\n",
       "      <td>EM</td>\n",
       "      <td>Bender, Hamilton and Hendricks</td>\n",
       "      <td>Robotics</td>\n",
       "      <td>Health promotion specialist</td>\n",
       "      <td>Brandi Crawford</td>\n",
       "      <td>1919-06-22</td>\n",
       "      <td>sarahbarnes</td>\n",
       "      <td>wendy20@yahoo.com</td>\n",
       "      <td>31349 Smith Light\\nLindaberg, FL 97316</td>\n",
       "    </tr>\n",
       "  </tbody>\n",
       "</table>\n",
       "</div>\n",
       "      <button class=\"colab-df-convert\" onclick=\"convertToInteractive('df-6fc2400e-9979-4899-bb62-4375be32ed33')\"\n",
       "              title=\"Convert this dataframe to an interactive table.\"\n",
       "              style=\"display:none;\">\n",
       "        \n",
       "  <svg xmlns=\"http://www.w3.org/2000/svg\" height=\"24px\"viewBox=\"0 0 24 24\"\n",
       "       width=\"24px\">\n",
       "    <path d=\"M0 0h24v24H0V0z\" fill=\"none\"/>\n",
       "    <path d=\"M18.56 5.44l.94 2.06.94-2.06 2.06-.94-2.06-.94-.94-2.06-.94 2.06-2.06.94zm-11 1L8.5 8.5l.94-2.06 2.06-.94-2.06-.94L8.5 2.5l-.94 2.06-2.06.94zm10 10l.94 2.06.94-2.06 2.06-.94-2.06-.94-.94-2.06-.94 2.06-2.06.94z\"/><path d=\"M17.41 7.96l-1.37-1.37c-.4-.4-.92-.59-1.43-.59-.52 0-1.04.2-1.43.59L10.3 9.45l-7.72 7.72c-.78.78-.78 2.05 0 2.83L4 21.41c.39.39.9.59 1.41.59.51 0 1.02-.2 1.41-.59l7.78-7.78 2.81-2.81c.8-.78.8-2.07 0-2.86zM5.41 20L4 18.59l7.72-7.72 1.47 1.35L5.41 20z\"/>\n",
       "  </svg>\n",
       "      </button>\n",
       "      \n",
       "  <style>\n",
       "    .colab-df-container {\n",
       "      display:flex;\n",
       "      flex-wrap:wrap;\n",
       "      gap: 12px;\n",
       "    }\n",
       "\n",
       "    .colab-df-convert {\n",
       "      background-color: #E8F0FE;\n",
       "      border: none;\n",
       "      border-radius: 50%;\n",
       "      cursor: pointer;\n",
       "      display: none;\n",
       "      fill: #1967D2;\n",
       "      height: 32px;\n",
       "      padding: 0 0 0 0;\n",
       "      width: 32px;\n",
       "    }\n",
       "\n",
       "    .colab-df-convert:hover {\n",
       "      background-color: #E2EBFA;\n",
       "      box-shadow: 0px 1px 2px rgba(60, 64, 67, 0.3), 0px 1px 3px 1px rgba(60, 64, 67, 0.15);\n",
       "      fill: #174EA6;\n",
       "    }\n",
       "\n",
       "    [theme=dark] .colab-df-convert {\n",
       "      background-color: #3B4455;\n",
       "      fill: #D2E3FC;\n",
       "    }\n",
       "\n",
       "    [theme=dark] .colab-df-convert:hover {\n",
       "      background-color: #434B5C;\n",
       "      box-shadow: 0px 1px 3px 1px rgba(0, 0, 0, 0.15);\n",
       "      filter: drop-shadow(0px 1px 2px rgba(0, 0, 0, 0.3));\n",
       "      fill: #FFFFFF;\n",
       "    }\n",
       "  </style>\n",
       "\n",
       "      <script>\n",
       "        const buttonEl =\n",
       "          document.querySelector('#df-6fc2400e-9979-4899-bb62-4375be32ed33 button.colab-df-convert');\n",
       "        buttonEl.style.display =\n",
       "          google.colab.kernel.accessAllowed ? 'block' : 'none';\n",
       "\n",
       "        async function convertToInteractive(key) {\n",
       "          const element = document.querySelector('#df-6fc2400e-9979-4899-bb62-4375be32ed33');\n",
       "          const dataTable =\n",
       "            await google.colab.kernel.invokeFunction('convertToInteractive',\n",
       "                                                     [key], {});\n",
       "          if (!dataTable) return;\n",
       "\n",
       "          const docLinkHtml = 'Like what you see? Visit the ' +\n",
       "            '<a target=\"_blank\" href=https://colab.research.google.com/notebooks/data_table.ipynb>data table notebook</a>'\n",
       "            + ' to learn more about interactive tables.';\n",
       "          element.innerHTML = '';\n",
       "          dataTable['output_type'] = 'display_data';\n",
       "          await google.colab.output.renderOutput(dataTable, element);\n",
       "          const docLink = document.createElement('div');\n",
       "          docLink.innerHTML = docLinkHtml;\n",
       "          element.appendChild(docLink);\n",
       "        }\n",
       "      </script>\n",
       "    </div>\n",
       "  </div>\n",
       "  "
      ],
      "text/plain": [
       "   id role                          client       practice  \\\n",
       "0   0   EM                   Brown-Lindsey           C&CA   \n",
       "1   1   EM                    Davidson Inc            DCX   \n",
       "2   2   EM       Williams, Lopez and Brown            I&S   \n",
       "3   3   EM                    Jenkins-Hall  Data Engineer   \n",
       "4   4   EM  Bender, Hamilton and Hendricks       Robotics   \n",
       "\n",
       "                                job                 name   birthdate  \\\n",
       "0  Production assistant, television      Jennifer Chavez  1944-11-01   \n",
       "1              Brewing technologist      Kenneth Goodwin  1973-12-31   \n",
       "2    Chartered certified accountant     Andrew Patterson  1958-09-11   \n",
       "3                 Film/video editor  Patrick Jenkins DDS  1912-09-30   \n",
       "4       Health promotion specialist      Brandi Crawford  1919-06-22   \n",
       "\n",
       "      username                     mail  \\\n",
       "0      wendy61  jamesmccall@hotmail.com   \n",
       "1       adam32  amysantiago@hotmail.com   \n",
       "2        mward    weaverlaura@gmail.com   \n",
       "3       eric66   jonathan41@hotmail.com   \n",
       "4  sarahbarnes        wendy20@yahoo.com   \n",
       "\n",
       "                                             address  \n",
       "0  114 Bryan Throughway Suite 189\\nSouth Andreamo...  \n",
       "1           12111 Harris Shoals\\nChadburgh, NE 62238  \n",
       "2  73286 Becker Courts Suite 329\\nNew Rachelside,...  \n",
       "3         331 Silva Ways\\nLake Meghanshire, MD 15360  \n",
       "4             31349 Smith Light\\nLindaberg, FL 97316  "
      ]
     },
     "execution_count": 13,
     "metadata": {},
     "output_type": "execute_result"
    }
   ],
   "source": [
    "df_emp.head()"
   ]
  },
  {
   "cell_type": "code",
   "execution_count": 14,
   "metadata": {
    "id": "kaByn7h7bPH6"
   },
   "outputs": [],
   "source": [
    "df_seats = pd.read_csv(SEATS_FILE_PATH, sep =';')"
   ]
  },
  {
   "cell_type": "code",
   "execution_count": 15,
   "metadata": {
    "colab": {
     "base_uri": "https://localhost:8080/"
    },
    "id": "PCidlmiCDpwW",
    "outputId": "ebf22583-ee1e-4362-a34e-7c9809984139"
   },
   "outputs": [
    {
     "name": "stdout",
     "output_type": "stream",
     "text": [
      "<class 'pandas.core.frame.DataFrame'>\n",
      "RangeIndex: 114 entries, 0 to 113\n",
      "Data columns (total 7 columns):\n",
      " #   Column    Non-Null Count  Dtype  \n",
      "---  ------    --------------  -----  \n",
      " 0   id        114 non-null    int64  \n",
      " 1   building  114 non-null    object \n",
      " 2   floor     114 non-null    int64  \n",
      " 3   room      0 non-null      float64\n",
      " 4   island    114 non-null    int64  \n",
      " 5   x_coord   114 non-null    int64  \n",
      " 6   y_coord   114 non-null    int64  \n",
      "dtypes: float64(1), int64(5), object(1)\n",
      "memory usage: 6.4+ KB\n"
     ]
    }
   ],
   "source": [
    "df_seats.info()"
   ]
  },
  {
   "cell_type": "code",
   "execution_count": 16,
   "metadata": {
    "colab": {
     "base_uri": "https://localhost:8080/",
     "height": 0
    },
    "id": "Wg2aZlDtD4XM",
    "outputId": "cfa8c9bb-ca95-4765-bc8b-4895731e3243"
   },
   "outputs": [
    {
     "data": {
      "text/html": [
       "\n",
       "  <div id=\"df-2fa1406b-24aa-404d-807a-8e11ee9d1171\">\n",
       "    <div class=\"colab-df-container\">\n",
       "      <div>\n",
       "<style scoped>\n",
       "    .dataframe tbody tr th:only-of-type {\n",
       "        vertical-align: middle;\n",
       "    }\n",
       "\n",
       "    .dataframe tbody tr th {\n",
       "        vertical-align: top;\n",
       "    }\n",
       "\n",
       "    .dataframe thead th {\n",
       "        text-align: right;\n",
       "    }\n",
       "</style>\n",
       "<table border=\"1\" class=\"dataframe\">\n",
       "  <thead>\n",
       "    <tr style=\"text-align: right;\">\n",
       "      <th></th>\n",
       "      <th>id</th>\n",
       "      <th>building</th>\n",
       "      <th>floor</th>\n",
       "      <th>room</th>\n",
       "      <th>island</th>\n",
       "      <th>x_coord</th>\n",
       "      <th>y_coord</th>\n",
       "    </tr>\n",
       "  </thead>\n",
       "  <tbody>\n",
       "    <tr>\n",
       "      <th>0</th>\n",
       "      <td>0</td>\n",
       "      <td>Artificial Test Building</td>\n",
       "      <td>1</td>\n",
       "      <td>NaN</td>\n",
       "      <td>9</td>\n",
       "      <td>1161</td>\n",
       "      <td>463</td>\n",
       "    </tr>\n",
       "    <tr>\n",
       "      <th>1</th>\n",
       "      <td>1</td>\n",
       "      <td>Artificial Test Building</td>\n",
       "      <td>1</td>\n",
       "      <td>NaN</td>\n",
       "      <td>14</td>\n",
       "      <td>393</td>\n",
       "      <td>463</td>\n",
       "    </tr>\n",
       "    <tr>\n",
       "      <th>2</th>\n",
       "      <td>2</td>\n",
       "      <td>Artificial Test Building</td>\n",
       "      <td>1</td>\n",
       "      <td>NaN</td>\n",
       "      <td>7</td>\n",
       "      <td>1089</td>\n",
       "      <td>462</td>\n",
       "    </tr>\n",
       "    <tr>\n",
       "      <th>3</th>\n",
       "      <td>3</td>\n",
       "      <td>Artificial Test Building</td>\n",
       "      <td>1</td>\n",
       "      <td>NaN</td>\n",
       "      <td>8</td>\n",
       "      <td>1017</td>\n",
       "      <td>462</td>\n",
       "    </tr>\n",
       "    <tr>\n",
       "      <th>4</th>\n",
       "      <td>4</td>\n",
       "      <td>Artificial Test Building</td>\n",
       "      <td>1</td>\n",
       "      <td>NaN</td>\n",
       "      <td>13</td>\n",
       "      <td>602</td>\n",
       "      <td>462</td>\n",
       "    </tr>\n",
       "  </tbody>\n",
       "</table>\n",
       "</div>\n",
       "      <button class=\"colab-df-convert\" onclick=\"convertToInteractive('df-2fa1406b-24aa-404d-807a-8e11ee9d1171')\"\n",
       "              title=\"Convert this dataframe to an interactive table.\"\n",
       "              style=\"display:none;\">\n",
       "        \n",
       "  <svg xmlns=\"http://www.w3.org/2000/svg\" height=\"24px\"viewBox=\"0 0 24 24\"\n",
       "       width=\"24px\">\n",
       "    <path d=\"M0 0h24v24H0V0z\" fill=\"none\"/>\n",
       "    <path d=\"M18.56 5.44l.94 2.06.94-2.06 2.06-.94-2.06-.94-.94-2.06-.94 2.06-2.06.94zm-11 1L8.5 8.5l.94-2.06 2.06-.94-2.06-.94L8.5 2.5l-.94 2.06-2.06.94zm10 10l.94 2.06.94-2.06 2.06-.94-2.06-.94-.94-2.06-.94 2.06-2.06.94z\"/><path d=\"M17.41 7.96l-1.37-1.37c-.4-.4-.92-.59-1.43-.59-.52 0-1.04.2-1.43.59L10.3 9.45l-7.72 7.72c-.78.78-.78 2.05 0 2.83L4 21.41c.39.39.9.59 1.41.59.51 0 1.02-.2 1.41-.59l7.78-7.78 2.81-2.81c.8-.78.8-2.07 0-2.86zM5.41 20L4 18.59l7.72-7.72 1.47 1.35L5.41 20z\"/>\n",
       "  </svg>\n",
       "      </button>\n",
       "      \n",
       "  <style>\n",
       "    .colab-df-container {\n",
       "      display:flex;\n",
       "      flex-wrap:wrap;\n",
       "      gap: 12px;\n",
       "    }\n",
       "\n",
       "    .colab-df-convert {\n",
       "      background-color: #E8F0FE;\n",
       "      border: none;\n",
       "      border-radius: 50%;\n",
       "      cursor: pointer;\n",
       "      display: none;\n",
       "      fill: #1967D2;\n",
       "      height: 32px;\n",
       "      padding: 0 0 0 0;\n",
       "      width: 32px;\n",
       "    }\n",
       "\n",
       "    .colab-df-convert:hover {\n",
       "      background-color: #E2EBFA;\n",
       "      box-shadow: 0px 1px 2px rgba(60, 64, 67, 0.3), 0px 1px 3px 1px rgba(60, 64, 67, 0.15);\n",
       "      fill: #174EA6;\n",
       "    }\n",
       "\n",
       "    [theme=dark] .colab-df-convert {\n",
       "      background-color: #3B4455;\n",
       "      fill: #D2E3FC;\n",
       "    }\n",
       "\n",
       "    [theme=dark] .colab-df-convert:hover {\n",
       "      background-color: #434B5C;\n",
       "      box-shadow: 0px 1px 3px 1px rgba(0, 0, 0, 0.15);\n",
       "      filter: drop-shadow(0px 1px 2px rgba(0, 0, 0, 0.3));\n",
       "      fill: #FFFFFF;\n",
       "    }\n",
       "  </style>\n",
       "\n",
       "      <script>\n",
       "        const buttonEl =\n",
       "          document.querySelector('#df-2fa1406b-24aa-404d-807a-8e11ee9d1171 button.colab-df-convert');\n",
       "        buttonEl.style.display =\n",
       "          google.colab.kernel.accessAllowed ? 'block' : 'none';\n",
       "\n",
       "        async function convertToInteractive(key) {\n",
       "          const element = document.querySelector('#df-2fa1406b-24aa-404d-807a-8e11ee9d1171');\n",
       "          const dataTable =\n",
       "            await google.colab.kernel.invokeFunction('convertToInteractive',\n",
       "                                                     [key], {});\n",
       "          if (!dataTable) return;\n",
       "\n",
       "          const docLinkHtml = 'Like what you see? Visit the ' +\n",
       "            '<a target=\"_blank\" href=https://colab.research.google.com/notebooks/data_table.ipynb>data table notebook</a>'\n",
       "            + ' to learn more about interactive tables.';\n",
       "          element.innerHTML = '';\n",
       "          dataTable['output_type'] = 'display_data';\n",
       "          await google.colab.output.renderOutput(dataTable, element);\n",
       "          const docLink = document.createElement('div');\n",
       "          docLink.innerHTML = docLinkHtml;\n",
       "          element.appendChild(docLink);\n",
       "        }\n",
       "      </script>\n",
       "    </div>\n",
       "  </div>\n",
       "  "
      ],
      "text/plain": [
       "   id                  building  floor  room  island  x_coord  y_coord\n",
       "0   0  Artificial Test Building      1   NaN       9     1161      463\n",
       "1   1  Artificial Test Building      1   NaN      14      393      463\n",
       "2   2  Artificial Test Building      1   NaN       7     1089      462\n",
       "3   3  Artificial Test Building      1   NaN       8     1017      462\n",
       "4   4  Artificial Test Building      1   NaN      13      602      462"
      ]
     },
     "execution_count": 16,
     "metadata": {},
     "output_type": "execute_result"
    }
   ],
   "source": [
    "df_seats.head()"
   ]
  },
  {
   "cell_type": "markdown",
   "metadata": {
    "id": "Y6M4Bx7TCe0p"
   },
   "source": [
    "We also subset the data frames earlier fetched, retrieving just the pieces of informations, that are our main features representing part of the data that the algorithm will exploit for its own computations:"
   ]
  },
  {
   "cell_type": "code",
   "execution_count": 17,
   "metadata": {
    "id": "dvK6pfUuDy40"
   },
   "outputs": [],
   "source": [
    "df_emp = df_emp[['id','practice','client']]"
   ]
  },
  {
   "cell_type": "code",
   "execution_count": 18,
   "metadata": {
    "colab": {
     "base_uri": "https://localhost:8080/"
    },
    "id": "HjDJj_UgDz7K",
    "outputId": "6e39b35b-c65c-4496-d69c-2e5151770c09"
   },
   "outputs": [
    {
     "name": "stdout",
     "output_type": "stream",
     "text": [
      "<class 'pandas.core.frame.DataFrame'>\n",
      "RangeIndex: 80 entries, 0 to 79\n",
      "Data columns (total 3 columns):\n",
      " #   Column    Non-Null Count  Dtype \n",
      "---  ------    --------------  ----- \n",
      " 0   id        80 non-null     int64 \n",
      " 1   practice  80 non-null     object\n",
      " 2   client    80 non-null     object\n",
      "dtypes: int64(1), object(2)\n",
      "memory usage: 2.0+ KB\n"
     ]
    }
   ],
   "source": [
    "df_emp.info()"
   ]
  },
  {
   "cell_type": "code",
   "execution_count": 19,
   "metadata": {
    "application/vnd.databricks.v1+cell": {
     "cellMetadata": {},
     "inputWidgets": {},
     "nuid": "45972f99-2383-42f0-ba31-16865a573b6e",
     "showTitle": false,
     "title": ""
    },
    "colab": {
     "base_uri": "https://localhost:8080/"
    },
    "id": "oOdTCH6Xan7p",
    "outputId": "00116a69-4349-43e8-a486-4092a8b43c73"
   },
   "outputs": [
    {
     "name": "stderr",
     "output_type": "stream",
     "text": [
      "<ipython-input-19-e2f54f01b915>:2: SettingWithCopyWarning: \n",
      "A value is trying to be set on a copy of a slice from a DataFrame.\n",
      "Try using .loc[row_indexer,col_indexer] = value instead\n",
      "\n",
      "See the caveats in the documentation: https://pandas.pydata.org/pandas-docs/stable/user_guide/indexing.html#returning-a-view-versus-a-copy\n",
      "  df_seats['id_seat'] = df_seats.index\n"
     ]
    }
   ],
   "source": [
    "df_seats = df_seats[['island','floor','x_coord','y_coord']]\n",
    "df_seats['id_seat'] = df_seats.index"
   ]
  },
  {
   "cell_type": "code",
   "execution_count": 20,
   "metadata": {
    "colab": {
     "base_uri": "https://localhost:8080/"
    },
    "id": "cZ_eplMcD10h",
    "outputId": "c97152a4-5554-4c39-a04b-f665e28179e7"
   },
   "outputs": [
    {
     "name": "stdout",
     "output_type": "stream",
     "text": [
      "<class 'pandas.core.frame.DataFrame'>\n",
      "RangeIndex: 80 entries, 0 to 79\n",
      "Data columns (total 3 columns):\n",
      " #   Column    Non-Null Count  Dtype \n",
      "---  ------    --------------  ----- \n",
      " 0   id        80 non-null     int64 \n",
      " 1   practice  80 non-null     object\n",
      " 2   client    80 non-null     object\n",
      "dtypes: int64(1), object(2)\n",
      "memory usage: 2.0+ KB\n"
     ]
    }
   ],
   "source": [
    "df_emp.info()"
   ]
  },
  {
   "cell_type": "code",
   "execution_count": 21,
   "metadata": {
    "application/vnd.databricks.v1+cell": {
     "cellMetadata": {},
     "inputWidgets": {},
     "nuid": "1821fab1-c462-484c-ae84-1052ad2f3e85",
     "showTitle": true,
     "title": "Preprocessing dei datasets per il calcolo"
    },
    "colab": {
     "base_uri": "https://localhost:8080/"
    },
    "id": "rr9p96rSan7r",
    "outputId": "47dbbad5-3799-48b5-8c76-c03eb9d8221d"
   },
   "outputs": [
    {
     "name": "stderr",
     "output_type": "stream",
     "text": [
      "/usr/local/lib/python3.8/dist-packages/pandas/core/frame.py:3678: SettingWithCopyWarning: \n",
      "A value is trying to be set on a copy of a slice from a DataFrame.\n",
      "Try using .loc[row_indexer,col_indexer] = value instead\n",
      "\n",
      "See the caveats in the documentation: https://pandas.pydata.org/pandas-docs/stable/user_guide/indexing.html#returning-a-view-versus-a-copy\n",
      "  self[col] = igetitem(value, i)\n",
      "/usr/local/lib/python3.8/dist-packages/pandas/core/frame.py:3641: SettingWithCopyWarning: \n",
      "A value is trying to be set on a copy of a slice from a DataFrame.\n",
      "Try using .loc[row_indexer,col_indexer] = value instead\n",
      "\n",
      "See the caveats in the documentation: https://pandas.pydata.org/pandas-docs/stable/user_guide/indexing.html#returning-a-view-versus-a-copy\n",
      "  self[k1] = value[k2]\n"
     ]
    }
   ],
   "source": [
    "scaler = MinMaxScaler()\n",
    "\n",
    "df_seats_scaled = df_seats\n",
    "df_seats_scaled[['x_coord','y_coord']] = scaler.fit_transform(df_seats_scaled[['x_coord','y_coord']])\n",
    "\n",
    "df_seats_scaled[['island_scaled']] = df_seats_scaled[['island']]*2\n",
    "\n",
    "floor_scale_factor = max(df_seats_scaled['island_scaled'])\n",
    "df_seats_scaled[['floor_scaled']] = df_seats_scaled[['floor']]*2*floor_scale_factor"
   ]
  },
  {
   "cell_type": "code",
   "execution_count": 22,
   "metadata": {
    "application/vnd.databricks.v1+cell": {
     "cellMetadata": {},
     "inputWidgets": {},
     "nuid": "b0ef515a-b101-46a8-b091-f988287e93ea",
     "showTitle": false,
     "title": ""
    },
    "colab": {
     "base_uri": "https://localhost:8080/",
     "height": 0
    },
    "id": "71ZnJtmUan7r",
    "outputId": "7f87ee0c-493a-43ab-9dcf-813f9be156f9"
   },
   "outputs": [
    {
     "data": {
      "text/html": [
       "\n",
       "  <div id=\"df-e81d386e-9adb-45ff-9af7-0dfc0b6d8d47\">\n",
       "    <div class=\"colab-df-container\">\n",
       "      <div>\n",
       "<style scoped>\n",
       "    .dataframe tbody tr th:only-of-type {\n",
       "        vertical-align: middle;\n",
       "    }\n",
       "\n",
       "    .dataframe tbody tr th {\n",
       "        vertical-align: top;\n",
       "    }\n",
       "\n",
       "    .dataframe thead th {\n",
       "        text-align: right;\n",
       "    }\n",
       "</style>\n",
       "<table border=\"1\" class=\"dataframe\">\n",
       "  <thead>\n",
       "    <tr style=\"text-align: right;\">\n",
       "      <th></th>\n",
       "      <th>island</th>\n",
       "      <th>floor</th>\n",
       "      <th>x_coord</th>\n",
       "      <th>y_coord</th>\n",
       "      <th>id_seat</th>\n",
       "      <th>island_scaled</th>\n",
       "      <th>floor_scaled</th>\n",
       "    </tr>\n",
       "  </thead>\n",
       "  <tbody>\n",
       "    <tr>\n",
       "      <th>0</th>\n",
       "      <td>9</td>\n",
       "      <td>1</td>\n",
       "      <td>1.000000</td>\n",
       "      <td>0.708411</td>\n",
       "      <td>0</td>\n",
       "      <td>18</td>\n",
       "      <td>56</td>\n",
       "    </tr>\n",
       "    <tr>\n",
       "      <th>1</th>\n",
       "      <td>14</td>\n",
       "      <td>1</td>\n",
       "      <td>0.307484</td>\n",
       "      <td>0.708411</td>\n",
       "      <td>1</td>\n",
       "      <td>28</td>\n",
       "      <td>56</td>\n",
       "    </tr>\n",
       "    <tr>\n",
       "      <th>2</th>\n",
       "      <td>7</td>\n",
       "      <td>1</td>\n",
       "      <td>0.935077</td>\n",
       "      <td>0.706542</td>\n",
       "      <td>2</td>\n",
       "      <td>14</td>\n",
       "      <td>56</td>\n",
       "    </tr>\n",
       "    <tr>\n",
       "      <th>3</th>\n",
       "      <td>8</td>\n",
       "      <td>1</td>\n",
       "      <td>0.870153</td>\n",
       "      <td>0.706542</td>\n",
       "      <td>3</td>\n",
       "      <td>16</td>\n",
       "      <td>56</td>\n",
       "    </tr>\n",
       "    <tr>\n",
       "      <th>4</th>\n",
       "      <td>13</td>\n",
       "      <td>1</td>\n",
       "      <td>0.495942</td>\n",
       "      <td>0.706542</td>\n",
       "      <td>4</td>\n",
       "      <td>26</td>\n",
       "      <td>56</td>\n",
       "    </tr>\n",
       "    <tr>\n",
       "      <th>...</th>\n",
       "      <td>...</td>\n",
       "      <td>...</td>\n",
       "      <td>...</td>\n",
       "      <td>...</td>\n",
       "      <td>...</td>\n",
       "      <td>...</td>\n",
       "      <td>...</td>\n",
       "    </tr>\n",
       "    <tr>\n",
       "      <th>109</th>\n",
       "      <td>1</td>\n",
       "      <td>2</td>\n",
       "      <td>0.614968</td>\n",
       "      <td>0.082243</td>\n",
       "      <td>109</td>\n",
       "      <td>2</td>\n",
       "      <td>112</td>\n",
       "    </tr>\n",
       "    <tr>\n",
       "      <th>110</th>\n",
       "      <td>1</td>\n",
       "      <td>2</td>\n",
       "      <td>0.584310</td>\n",
       "      <td>0.050467</td>\n",
       "      <td>110</td>\n",
       "      <td>2</td>\n",
       "      <td>112</td>\n",
       "    </tr>\n",
       "    <tr>\n",
       "      <th>111</th>\n",
       "      <td>1</td>\n",
       "      <td>2</td>\n",
       "      <td>0.648332</td>\n",
       "      <td>0.048598</td>\n",
       "      <td>111</td>\n",
       "      <td>2</td>\n",
       "      <td>112</td>\n",
       "    </tr>\n",
       "    <tr>\n",
       "      <th>112</th>\n",
       "      <td>1</td>\n",
       "      <td>2</td>\n",
       "      <td>0.603246</td>\n",
       "      <td>0.035514</td>\n",
       "      <td>112</td>\n",
       "      <td>2</td>\n",
       "      <td>112</td>\n",
       "    </tr>\n",
       "    <tr>\n",
       "      <th>113</th>\n",
       "      <td>1</td>\n",
       "      <td>2</td>\n",
       "      <td>0.638413</td>\n",
       "      <td>0.000000</td>\n",
       "      <td>113</td>\n",
       "      <td>2</td>\n",
       "      <td>112</td>\n",
       "    </tr>\n",
       "  </tbody>\n",
       "</table>\n",
       "<p>114 rows × 7 columns</p>\n",
       "</div>\n",
       "      <button class=\"colab-df-convert\" onclick=\"convertToInteractive('df-e81d386e-9adb-45ff-9af7-0dfc0b6d8d47')\"\n",
       "              title=\"Convert this dataframe to an interactive table.\"\n",
       "              style=\"display:none;\">\n",
       "        \n",
       "  <svg xmlns=\"http://www.w3.org/2000/svg\" height=\"24px\"viewBox=\"0 0 24 24\"\n",
       "       width=\"24px\">\n",
       "    <path d=\"M0 0h24v24H0V0z\" fill=\"none\"/>\n",
       "    <path d=\"M18.56 5.44l.94 2.06.94-2.06 2.06-.94-2.06-.94-.94-2.06-.94 2.06-2.06.94zm-11 1L8.5 8.5l.94-2.06 2.06-.94-2.06-.94L8.5 2.5l-.94 2.06-2.06.94zm10 10l.94 2.06.94-2.06 2.06-.94-2.06-.94-.94-2.06-.94 2.06-2.06.94z\"/><path d=\"M17.41 7.96l-1.37-1.37c-.4-.4-.92-.59-1.43-.59-.52 0-1.04.2-1.43.59L10.3 9.45l-7.72 7.72c-.78.78-.78 2.05 0 2.83L4 21.41c.39.39.9.59 1.41.59.51 0 1.02-.2 1.41-.59l7.78-7.78 2.81-2.81c.8-.78.8-2.07 0-2.86zM5.41 20L4 18.59l7.72-7.72 1.47 1.35L5.41 20z\"/>\n",
       "  </svg>\n",
       "      </button>\n",
       "      \n",
       "  <style>\n",
       "    .colab-df-container {\n",
       "      display:flex;\n",
       "      flex-wrap:wrap;\n",
       "      gap: 12px;\n",
       "    }\n",
       "\n",
       "    .colab-df-convert {\n",
       "      background-color: #E8F0FE;\n",
       "      border: none;\n",
       "      border-radius: 50%;\n",
       "      cursor: pointer;\n",
       "      display: none;\n",
       "      fill: #1967D2;\n",
       "      height: 32px;\n",
       "      padding: 0 0 0 0;\n",
       "      width: 32px;\n",
       "    }\n",
       "\n",
       "    .colab-df-convert:hover {\n",
       "      background-color: #E2EBFA;\n",
       "      box-shadow: 0px 1px 2px rgba(60, 64, 67, 0.3), 0px 1px 3px 1px rgba(60, 64, 67, 0.15);\n",
       "      fill: #174EA6;\n",
       "    }\n",
       "\n",
       "    [theme=dark] .colab-df-convert {\n",
       "      background-color: #3B4455;\n",
       "      fill: #D2E3FC;\n",
       "    }\n",
       "\n",
       "    [theme=dark] .colab-df-convert:hover {\n",
       "      background-color: #434B5C;\n",
       "      box-shadow: 0px 1px 3px 1px rgba(0, 0, 0, 0.15);\n",
       "      filter: drop-shadow(0px 1px 2px rgba(0, 0, 0, 0.3));\n",
       "      fill: #FFFFFF;\n",
       "    }\n",
       "  </style>\n",
       "\n",
       "      <script>\n",
       "        const buttonEl =\n",
       "          document.querySelector('#df-e81d386e-9adb-45ff-9af7-0dfc0b6d8d47 button.colab-df-convert');\n",
       "        buttonEl.style.display =\n",
       "          google.colab.kernel.accessAllowed ? 'block' : 'none';\n",
       "\n",
       "        async function convertToInteractive(key) {\n",
       "          const element = document.querySelector('#df-e81d386e-9adb-45ff-9af7-0dfc0b6d8d47');\n",
       "          const dataTable =\n",
       "            await google.colab.kernel.invokeFunction('convertToInteractive',\n",
       "                                                     [key], {});\n",
       "          if (!dataTable) return;\n",
       "\n",
       "          const docLinkHtml = 'Like what you see? Visit the ' +\n",
       "            '<a target=\"_blank\" href=https://colab.research.google.com/notebooks/data_table.ipynb>data table notebook</a>'\n",
       "            + ' to learn more about interactive tables.';\n",
       "          element.innerHTML = '';\n",
       "          dataTable['output_type'] = 'display_data';\n",
       "          await google.colab.output.renderOutput(dataTable, element);\n",
       "          const docLink = document.createElement('div');\n",
       "          docLink.innerHTML = docLinkHtml;\n",
       "          element.appendChild(docLink);\n",
       "        }\n",
       "      </script>\n",
       "    </div>\n",
       "  </div>\n",
       "  "
      ],
      "text/plain": [
       "     island  floor   x_coord   y_coord  id_seat  island_scaled  floor_scaled\n",
       "0         9      1  1.000000  0.708411        0             18            56\n",
       "1        14      1  0.307484  0.708411        1             28            56\n",
       "2         7      1  0.935077  0.706542        2             14            56\n",
       "3         8      1  0.870153  0.706542        3             16            56\n",
       "4        13      1  0.495942  0.706542        4             26            56\n",
       "..      ...    ...       ...       ...      ...            ...           ...\n",
       "109       1      2  0.614968  0.082243      109              2           112\n",
       "110       1      2  0.584310  0.050467      110              2           112\n",
       "111       1      2  0.648332  0.048598      111              2           112\n",
       "112       1      2  0.603246  0.035514      112              2           112\n",
       "113       1      2  0.638413  0.000000      113              2           112\n",
       "\n",
       "[114 rows x 7 columns]"
      ]
     },
     "execution_count": 22,
     "metadata": {},
     "output_type": "execute_result"
    }
   ],
   "source": [
    "df_seats_scaled"
   ]
  },
  {
   "cell_type": "markdown",
   "metadata": {
    "id": "AbCVkkBZHCuB"
   },
   "source": [
    "Test take floor from seat id:"
   ]
  },
  {
   "cell_type": "code",
   "execution_count": 23,
   "metadata": {
    "colab": {
     "base_uri": "https://localhost:8080/"
    },
    "id": "rFoT-_X7G1SE",
    "outputId": "c45926b5-72f0-4671-c3ad-fa68b0409b02"
   },
   "outputs": [
    {
     "data": {
      "text/plain": [
       "1.0"
      ]
     },
     "execution_count": 23,
     "metadata": {},
     "output_type": "execute_result"
    }
   ],
   "source": [
    "(df_seats\n",
    "    .set_index(\"id_seat\")\n",
    "    .loc[2, [\"floor\"]].values[0]\n",
    ")"
   ]
  },
  {
   "cell_type": "markdown",
   "metadata": {
    "id": "GsvEOms5D9gm"
   },
   "source": [
    "### Define Environment"
   ]
  },
  {
   "cell_type": "code",
   "execution_count": 24,
   "metadata": {
    "application/vnd.databricks.v1+cell": {
     "cellMetadata": {},
     "inputWidgets": {},
     "nuid": "284f9fa2-85bb-4b4c-962a-a5e2ef32d8ae",
     "showTitle": false,
     "title": ""
    },
    "id": "UD6FVsUCan7-"
   },
   "outputs": [],
   "source": [
    "class MyEnv_France(gym.Env):\n",
    "\n",
    "    def __init__(self, config: EnvContext):\n",
    "        self.df_seats = config[\"df_seats\"]\n",
    "        self.df_emp = config[\"df_employees\"]\n",
    "        self.max_seats = len(self.df_seats)\n",
    "        self.max_employees = len(self.df_emp)\n",
    "        \n",
    "        self.fake_seats = self.max_seats + 1\n",
    "        self.fake_emp = self.max_employees + 1\n",
    "        \n",
    "        self.action_space = gym.spaces.Discrete(self.max_seats) #Discrete(2) -> {0,1}\n",
    "        \n",
    "        #Provo a considerare solo gli indici, altrimenti modificare un po' quello sotto\n",
    "        self.observation_space = gym.spaces.Dict(\n",
    "            {\"id_emp\": gym.spaces.Box(low=0, high=self.max_employees + 1, shape=(self.max_employees + 1,), dtype=np.uint8), #vedere se per l'allenamento è meglio il Box\n",
    "             \"id_seat\": gym.spaces.Box(low=0, high=self.max_seats + 1, shape=(self.max_seats + 1,), dtype=np.uint8)\n",
    "            }\n",
    "        )\n",
    "        \n",
    "    def reset(self):\n",
    "        self.state = self.observation_space.sample()\n",
    "        self.bound_random = np.random.randint(70, self.max_employees)\n",
    "        \n",
    "        self.state['id_seat'][:self.bound_random] = np.random.choice(range(self.max_seats), self.bound_random, replace=False)\n",
    "        self.state['id_emp'][:self.bound_random] = np.random.choice(range(self.max_employees), self.bound_random, replace=False)\n",
    "        self.state['id_seat'][self.bound_random:] = self.fake_seats\n",
    "        self.state['id_emp'][self.bound_random:] = self.fake_emp\n",
    "        \n",
    "        info = {}\n",
    "\n",
    "        observation = self.state\n",
    "        \n",
    "        self.index_count = 0   \n",
    "        self.done = False\n",
    "        self.actions = []\n",
    "        \n",
    "        return observation\n",
    "    \n",
    "    def step(self, action): \n",
    "         \n",
    "        if self.index_count == self.bound_random:\n",
    "            self.done = True\n",
    "        else:\n",
    "            if action not in self.actions:\n",
    "                floor_number = (\n",
    "                    self.df_seats\n",
    "                    .set_index(\"id_seat\")\n",
    "                    .loc[action, [\"floor\"]].values[0]\n",
    "                )\n",
    "                #inserire check per verificare se l'azione è già stata fatta\n",
    "                self.state['id_seat'][self.index_count] = action\n",
    "                \n",
    "                #calcoo numero di step per vedere se andare avanti o no\n",
    "                self.reward = self.score(self.state['id_seat'], self.state['id_emp'], self.index_count)\n",
    "                if floor_number == 1:\n",
    "                    self.reward = self.reward * 2\n",
    "                else:\n",
    "                    self.reward = self.reward * 1.5\n",
    "                \n",
    "                self.index_count += 1\n",
    "            else:\n",
    "                self.reward = -1.5\n",
    "                             \n",
    "        if self.reward > 1.9:\n",
    "            self.done = True\n",
    "                \n",
    "        info = {}\n",
    "        \n",
    "        return self.state, self.reward, self.done, info\n",
    "    \n",
    "    def render(self):\n",
    "        print(\"NUOVO STEP: \\n\")\n",
    "    \n",
    "    def score(self, seat_array, emp_array, index):\n",
    "        #join\n",
    "        self.seat_indices = seat_array[0:index+1]\n",
    "        self.emp_indices = emp_array[0:index+1]\n",
    "        seats = self.df_seats.iloc[self.seat_indices]\n",
    "        emps = self.df_emp.iloc[self.emp_indices]\n",
    "        emps_join = emps.copy()\n",
    "        emps_join['id_seat'] = self.seat_indices\n",
    "        merged_df = pd.merge(emps_join, seats, on='id_seat', how='inner')\n",
    "\n",
    "        #score\n",
    "        try:\n",
    "            label_practice = merged_df['practice']\n",
    "            label_client = merged_df['client']\n",
    "            Z = merged_df[['x_coord', 'y_coord','island_scaled','floor_scaled']]\n",
    "            total_score = silhouette_score(Z, label_practice) + silhouette_score(Z, label_client)\n",
    "        except:\n",
    "            total_score = 0\n",
    "        \n",
    "        return total_score # seats, silhouette_score(Z, label_practice), silhouette_score(Z, label_client)"
   ]
  },
  {
   "cell_type": "markdown",
   "metadata": {
    "id": "9Sd5EF1HFudA"
   },
   "source": [
    "### Init Ray"
   ]
  },
  {
   "cell_type": "code",
   "execution_count": 25,
   "metadata": {
    "colab": {
     "base_uri": "https://localhost:8080/",
     "height": 79
    },
    "id": "mQMUxuiPFv_x",
    "outputId": "22009670-3c72-4ec1-e02e-5d690ec56242"
   },
   "outputs": [
    {
     "name": "stderr",
     "output_type": "stream",
     "text": [
      "2023-01-26 08:14:34,587\tINFO worker.py:1538 -- Started a local Ray instance.\n"
     ]
    },
    {
     "data": {
      "text/html": [
       "<div>\n",
       "    <div style=\"margin-left: 50px;display: flex;flex-direction: row;align-items: center\">\n",
       "        <h3 style=\"color: var(--jp-ui-font-color0)\">Ray</h3>\n",
       "        <svg version=\"1.1\" id=\"ray\" width=\"3em\" viewBox=\"0 0 144.5 144.6\" style=\"margin-left: 3em;margin-right: 3em\">\n",
       "            <g id=\"layer-1\">\n",
       "                <path fill=\"#00a2e9\" class=\"st0\" d=\"M97.3,77.2c-3.8-1.1-6.2,0.9-8.3,5.1c-3.5,6.8-9.9,9.9-17.4,9.6S58,88.1,54.8,81.2c-1.4-3-3-4-6.3-4.1\n",
       "                    c-5.6-0.1-9.9,0.1-13.1,6.4c-3.8,7.6-13.6,10.2-21.8,7.6C5.2,88.4-0.4,80.5,0,71.7c0.1-8.4,5.7-15.8,13.8-18.2\n",
       "                    c8.4-2.6,17.5,0.7,22.3,8c1.3,1.9,1.3,5.2,3.6,5.6c3.9,0.6,8,0.2,12,0.2c1.8,0,1.9-1.6,2.4-2.8c3.5-7.8,9.7-11.8,18-11.9\n",
       "                    c8.2-0.1,14.4,3.9,17.8,11.4c1.3,2.8,2.9,3.6,5.7,3.3c1-0.1,2,0.1,3,0c2.8-0.5,6.4,1.7,8.1-2.7s-2.3-5.5-4.1-7.5\n",
       "                    c-5.1-5.7-10.9-10.8-16.1-16.3C84,38,81.9,37.1,78,38.3C66.7,42,56.2,35.7,53,24.1C50.3,14,57.3,2.8,67.7,0.5\n",
       "                    C78.4-2,89,4.7,91.5,15.3c0.1,0.3,0.1,0.5,0.2,0.8c0.7,3.4,0.7,6.9-0.8,9.8c-1.7,3.2-0.8,5,1.5,7.2c6.7,6.5,13.3,13,19.8,19.7\n",
       "                    c1.8,1.8,3,2.1,5.5,1.2c9.1-3.4,17.9-0.6,23.4,7c4.8,6.9,4.6,16.1-0.4,22.9c-5.4,7.2-14.2,9.9-23.1,6.5c-2.3-0.9-3.5-0.6-5.1,1.1\n",
       "                    c-6.7,6.9-13.6,13.7-20.5,20.4c-1.8,1.8-2.5,3.2-1.4,5.9c3.5,8.7,0.3,18.6-7.7,23.6c-7.9,5-18.2,3.8-24.8-2.9\n",
       "                    c-6.4-6.4-7.4-16.2-2.5-24.3c4.9-7.8,14.5-11,23.1-7.8c3,1.1,4.7,0.5,6.9-1.7C91.7,98.4,98,92.3,104.2,86c1.6-1.6,4.1-2.7,2.6-6.2\n",
       "                    c-1.4-3.3-3.8-2.5-6.2-2.6C99.8,77.2,98.9,77.2,97.3,77.2z M72.1,29.7c5.5,0.1,9.9-4.3,10-9.8c0-0.1,0-0.2,0-0.3\n",
       "                    C81.8,14,77,9.8,71.5,10.2c-5,0.3-9,4.2-9.3,9.2c-0.2,5.5,4,10.1,9.5,10.3C71.8,29.7,72,29.7,72.1,29.7z M72.3,62.3\n",
       "                    c-5.4-0.1-9.9,4.2-10.1,9.7c0,0.2,0,0.3,0,0.5c0.2,5.4,4.5,9.7,9.9,10c5.1,0.1,9.9-4.7,10.1-9.8c0.2-5.5-4-10-9.5-10.3\n",
       "                    C72.6,62.3,72.4,62.3,72.3,62.3z M115,72.5c0.1,5.4,4.5,9.7,9.8,9.9c5.6-0.2,10-4.8,10-10.4c-0.2-5.4-4.6-9.7-10-9.7\n",
       "                    c-5.3-0.1-9.8,4.2-9.9,9.5C115,72.1,115,72.3,115,72.5z M19.5,62.3c-5.4,0.1-9.8,4.4-10,9.8c-0.1,5.1,5.2,10.4,10.2,10.3\n",
       "                    c5.6-0.2,10-4.9,9.8-10.5c-0.1-5.4-4.5-9.7-9.9-9.6C19.6,62.3,19.5,62.3,19.5,62.3z M71.8,134.6c5.9,0.2,10.3-3.9,10.4-9.6\n",
       "                    c0.5-5.5-3.6-10.4-9.1-10.8c-5.5-0.5-10.4,3.6-10.8,9.1c0,0.5,0,0.9,0,1.4c-0.2,5.3,4,9.8,9.3,10\n",
       "                    C71.6,134.6,71.7,134.6,71.8,134.6z\"/>\n",
       "            </g>\n",
       "        </svg>\n",
       "        <table>\n",
       "            <tr>\n",
       "                <td style=\"text-align: left\"><b>Python version:</b></td>\n",
       "                <td style=\"text-align: left\"><b>3.8.10</b></td>\n",
       "            </tr>\n",
       "            <tr>\n",
       "                <td style=\"text-align: left\"><b>Ray version:</b></td>\n",
       "                <td style=\"text-align: left\"><b> 2.2.0</b></td>\n",
       "            </tr>\n",
       "            \n",
       "        </table>\n",
       "    </div>\n",
       "</div>\n"
      ],
      "text/plain": [
       "RayContext(dashboard_url='', python_version='3.8.10', ray_version='2.2.0', ray_commit='b6af0887ee5f2e460202133791ad941a41f15beb', address_info={'node_ip_address': '172.28.0.12', 'raylet_ip_address': '172.28.0.12', 'redis_address': None, 'object_store_address': '/tmp/ray/session_2023-01-26_08-14-29_802418_13072/sockets/plasma_store', 'raylet_socket_name': '/tmp/ray/session_2023-01-26_08-14-29_802418_13072/sockets/raylet', 'webui_url': '', 'session_dir': '/tmp/ray/session_2023-01-26_08-14-29_802418_13072', 'metrics_export_port': 50546, 'gcs_address': '172.28.0.12:44954', 'address': '172.28.0.12:44954', 'dashboard_agent_listen_port': 52365, 'node_id': 'fe7b16fe6c6f60f12d822216768b3c6753279e40b0beaf8e35a7c3e7'})"
      ]
     },
     "execution_count": 25,
     "metadata": {},
     "output_type": "execute_result"
    }
   ],
   "source": [
    "if not ray.is_initialized():\n",
    "    ray.init()\n",
    "    assert ray.is_initialized()"
   ]
  },
  {
   "cell_type": "markdown",
   "metadata": {
    "id": "Q1uCrni9EMa-"
   },
   "source": [
    "### Prepare config and Create RL Algorithm Instance to be Trained"
   ]
  },
  {
   "cell_type": "markdown",
   "metadata": {
    "id": "W1lAYb1OK0Nn"
   },
   "source": [
    "Model Configs:"
   ]
  },
  {
   "cell_type": "code",
   "execution_count": null,
   "metadata": {
    "id": "bpvoRMhJKfUS"
   },
   "outputs": [],
   "source": [
    "HORIZON = 10000 #@param {type: 'integer'}"
   ]
  },
  {
   "cell_type": "markdown",
   "metadata": {
    "id": "VHuX0INAK2tr"
   },
   "source": [
    "Create Model Configs:"
   ]
  },
  {
   "cell_type": "code",
   "execution_count": null,
   "metadata": {
    "id": "83J_hRBsKyhq"
   },
   "outputs": [],
   "source": [
    "config = (\n",
    "    APPOConfig()\n",
    "    .rollouts(horizon=10000)\n",
    "    .environment(\n",
    "        MyEnv_France,\n",
    "        env_config={\n",
    "            \"df_seats\":df_seats_scaled,\n",
    "            \"df_employees\": df_emp\n",
    "        }\n",
    "    )\n",
    ")"
   ]
  },
  {
   "cell_type": "markdown",
   "metadata": {
    "id": "94FEiSe6K4Hd"
   },
   "source": [
    "Create Model:"
   ]
  },
  {
   "cell_type": "code",
   "execution_count": 26,
   "metadata": {
    "colab": {
     "base_uri": "https://localhost:8080/"
    },
    "id": "vw1e4yIlEL9T",
    "outputId": "a8b943ef-4bd0-4ab0-85a6-d5abd6d2f7d7"
   },
   "outputs": [
    {
     "name": "stderr",
     "output_type": "stream",
     "text": [
      "2023-01-26 08:14:36,745\tWARNING deprecation.py:47 -- DeprecationWarning: `algo = Algorithm(env='<class '__main__.MyEnv_France'>', ...)` has been deprecated. Use `algo = AlgorithmConfig().environment('<class '__main__.MyEnv_France'>').build()` instead. This will raise an error in the future!\n",
      "2023-01-26 08:14:36,760\tINFO algorithm_config.py:2503 -- Your framework setting is 'tf', meaning you are using static-graph mode. Set framework='tf2' to enable eager execution with tf2.x. You may also then want to set eager_tracing=True in order to reach similar execution speed as with static-graph mode.\n",
      "2023-01-26 08:14:36,855\tINFO tensorboardx.py:42 -- pip install \"ray[tune]\" to see TensorBoard files.\n",
      "2023-01-26 08:14:36,869\tWARNING unified.py:54 -- Could not instantiate TBXLogger: No module named 'tensorboardX'.\n",
      "2023-01-26 08:14:36,888\tINFO algorithm.py:501 -- Current log_level is WARN. For more information, set 'log_level': 'INFO' / 'DEBUG' or use the -v and -vv flags.\n",
      "\u001b[2m\u001b[36m(pid=13539)\u001b[0m /usr/local/lib/python3.8/dist-packages/flatbuffers/compat.py:19: DeprecationWarning: the imp module is deprecated in favour of importlib; see the module's documentation for alternative uses\n",
      "\u001b[2m\u001b[36m(pid=13539)\u001b[0m   import imp\n",
      "\u001b[2m\u001b[36m(pid=13538)\u001b[0m /usr/local/lib/python3.8/dist-packages/flatbuffers/compat.py:19: DeprecationWarning: the imp module is deprecated in favour of importlib; see the module's documentation for alternative uses\n",
      "\u001b[2m\u001b[36m(pid=13538)\u001b[0m   import imp\n",
      "\u001b[2m\u001b[36m(RolloutWorker pid=13538)\u001b[0m 2023-01-26 08:14:51,943\tWARNING env.py:147 -- Your env doesn't have a .spec.max_episode_steps attribute. This is fine if you have set 'horizon' in your config dictionary, or `soft_horizon`. However, if you haven't, 'horizon' will default to infinity, and your environment will not be reset.\n",
      "2023-01-26 08:14:57,829\tINFO trainable.py:172 -- Trainable.setup took 20.955 seconds. If your trainable is slow to initialize, consider setting reuse_actors=True to reduce actor creation overheads.\n",
      "2023-01-26 08:14:57,833\tWARNING util.py:66 -- Install gputil for GPU system monitoring.\n"
     ]
    }
   ],
   "source": [
    "algo = appo.APPO(env=MyEnv_France, config=config)"
   ]
  },
  {
   "cell_type": "markdown",
   "metadata": {
    "id": "aceke1w6EIHa"
   },
   "source": [
    "### Train Defined Environment"
   ]
  },
  {
   "cell_type": "code",
   "execution_count": null,
   "metadata": {
    "id": "l1ZuOjVyJguQ"
   },
   "outputs": [],
   "source": [
    "import warnings\n",
    "warnings.filterwarnings(\"ignore\")"
   ]
  },
  {
   "cell_type": "code",
   "execution_count": null,
   "metadata": {
    "colab": {
     "base_uri": "https://localhost:8080/"
    },
    "id": "55sbbNbLc60_",
    "outputId": "994897b6-91f2-4d5d-ac92-f209d38869c3"
   },
   "outputs": [
    {
     "name": "stderr",
     "output_type": "stream",
     "text": [
      "\r",
      "0it [00:00, ?it/s]2023-01-26 08:15:07,520\tWARNING deprecation.py:47 -- DeprecationWarning: `concat_samples` has been deprecated. Use `concat_samples() from rllib.policy.sample_batch` instead. This will raise an error in the future!\n",
      "/usr/local/lib/python3.8/dist-packages/ray/rllib/utils/metrics/window_stat.py:50: RuntimeWarning: Mean of empty slice\n",
      "  return float(np.nanmean(self.items[: self.count]))\n",
      "/usr/local/lib/python3.8/dist-packages/numpy/lib/nanfunctions.py:1670: RuntimeWarning: Degrees of freedom <= 0 for slice.\n",
      "  var = nanvar(a, axis=axis, dtype=dtype, out=out, ddof=ddof,\n",
      "1it [00:17, 17.17s/it]"
     ]
    },
    {
     "name": "stdout",
     "output_type": "stream",
     "text": [
      "Average Episode reward: -55.5013\n"
     ]
    },
    {
     "name": "stderr",
     "output_type": "stream",
     "text": [
      "/usr/local/lib/python3.8/dist-packages/ray/rllib/utils/metrics/window_stat.py:50: RuntimeWarning: Mean of empty slice\n",
      "  return float(np.nanmean(self.items[: self.count]))\n",
      "/usr/local/lib/python3.8/dist-packages/numpy/lib/nanfunctions.py:1670: RuntimeWarning: Degrees of freedom <= 0 for slice.\n",
      "  var = nanvar(a, axis=axis, dtype=dtype, out=out, ddof=ddof,\n",
      "11it [02:21, 12.84s/it]"
     ]
    },
    {
     "name": "stdout",
     "output_type": "stream",
     "text": [
      "Average Episode reward: -54.3261\n"
     ]
    },
    {
     "name": "stderr",
     "output_type": "stream",
     "text": [
      "21it [04:21, 11.87s/it]"
     ]
    },
    {
     "name": "stdout",
     "output_type": "stream",
     "text": [
      "Average Episode reward: -54.3328\n"
     ]
    },
    {
     "name": "stderr",
     "output_type": "stream",
     "text": [
      "31it [06:38, 14.86s/it]"
     ]
    },
    {
     "name": "stdout",
     "output_type": "stream",
     "text": [
      "Average Episode reward: -53.9113\n"
     ]
    },
    {
     "name": "stderr",
     "output_type": "stream",
     "text": [
      "41it [08:48, 12.90s/it]"
     ]
    },
    {
     "name": "stdout",
     "output_type": "stream",
     "text": [
      "Average Episode reward: -53.9264\n"
     ]
    },
    {
     "name": "stderr",
     "output_type": "stream",
     "text": [
      "43it [09:13, 12.59s/it]"
     ]
    }
   ],
   "source": [
    "mean_ppo = []\n",
    "\n",
    "with warnings.catch_warnings():\n",
    "    warnings.simplefilter(\"ignore\")\n",
    "    with tqdm.tqdm(1000) as pbar:\n",
    "        for ii in range(1000):\n",
    "            result = algo.train()\n",
    "            if ii % FREQ_SHOW_RESULTS == 0:\n",
    "                pbar.write(\n",
    "                    \"Average Episode reward: %.4f\" % (result['episode_reward_mean'],)\n",
    "                )\n",
    "            if ii % FREQ_SAVE_MODEL_CHECKPOINT == 0:\n",
    "                # checkpoint_dir = algo.save(\"/tmp/rllib_checkpoint\")\n",
    "                _ = algo.save(os.path.join(CHECKPOINTS_DIR, f\"rllib_checkpoint_{ii}\"))\n",
    "            mean_ppo.append(result['episode_reward_mean'])\n",
    "            pbar.update(1)"
   ]
  },
  {
   "cell_type": "markdown",
   "metadata": {
    "id": "h36Ih1-WFy2o"
   },
   "source": [
    "### Shutdown Ray"
   ]
  },
  {
   "cell_type": "code",
   "execution_count": null,
   "metadata": {
    "id": "6cnL0iCudMXN"
   },
   "outputs": [],
   "source": [
    "if ray.is_initialized():\n",
    "    ray.shutdown()\n",
    "    assert not ray.is_initialized()"
   ]
  },
  {
   "cell_type": "markdown",
   "metadata": {
    "id": "hnHhuDhCFH2A"
   },
   "source": [
    "### Inference"
   ]
  },
  {
   "cell_type": "code",
   "execution_count": null,
   "metadata": {
    "id": "J_dJ1ZqXc1HX"
   },
   "outputs": [],
   "source": [
    "#Consuming\n",
    "env = MyEnv_France(config = {\"df_seats\":df_seats_scaled, \"df_employees\": df_emp})\n",
    "episode_reward = 0\n",
    "done = False\n",
    "obs = env.reset()\n",
    "\n",
    "obs_fist = obs.copy()\n",
    "\n",
    "while not done:\n",
    "    action = algo.compute_single_action(obs)\n",
    "    obs, reward, done, info = env.step(action)\n",
    "    print(\"questo è lo score\", env.score(obs['id_seat'], obs['id_emp']))\n",
    "    print(\"Reward a questo step:\",reward)\n",
    "    episode_reward += reward"
   ]
  },
  {
   "cell_type": "markdown",
   "metadata": {
    "id": "dSXNJetUI0a1"
   },
   "source": [
    "## Summary"
   ]
  },
  {
   "cell_type": "markdown",
   "metadata": {
    "id": "okhnjH3pI2N4"
   },
   "source": [
    "Here compile summary notes if any to be reported in order to complete the actual analysis."
   ]
  },
  {
   "cell_type": "markdown",
   "metadata": {
    "id": "Yf1gHlgnFKsx"
   },
   "source": [
    "## References\n",
    "---"
   ]
  },
  {
   "cell_type": "markdown",
   "metadata": {
    "id": "l3G6xaX1FMoP"
   },
   "source": [
    "### Colab Reference Manuals\n",
    "- [How to produce Forms](https://colab.research.google.com/notebooks/forms.ipynb#scrollTo=3jKM6GfzlgpS)\n",
    "- [How to provide Widgets](https://colab.research.google.com/notebooks/widgets.ipynb)"
   ]
  },
  {
   "cell_type": "markdown",
   "metadata": {
    "id": "zFrfD0AYHiTv"
   },
   "source": [
    "### Ray RLlib:\n",
    "- [serve/tutorials](https://docs.ray.io/en/latest/serve/tutorials/rllib.html):\n",
    "    - the article shows how to save RLlib models as intermediate checkpoints"
   ]
  }
 ],
 "metadata": {
  "application/vnd.databricks.v1+notebook": {
   "dashboards": [],
   "language": "python",
   "notebookMetadata": {
    "mostRecentlyExecutedCommandWithImplicitDF": {
     "commandId": 3657912876879326,
     "dataframes": [
      "_sqldf"
     ]
    },
    "pythonIndentUnit": 4
   },
   "notebookName": "rllib_learning_2",
   "notebookOrigID": 593957696234847,
   "widgets": {}
  },
  "colab": {
   "collapsed_sections": [
    "QUiAksKy-YFw",
    "TKfFbiEB_1YG",
    "Yy3YoI3RECfM",
    "GsvEOms5D9gm",
    "Yf1gHlgnFKsx"
   ],
   "provenance": []
  },
  "gpuClass": "standard",
  "kernelspec": {
   "display_name": "Python 3 (ipykernel)",
   "language": "python",
   "name": "python3"
  },
  "language_info": {
   "codemirror_mode": {
    "name": "ipython",
    "version": 3
   },
   "file_extension": ".py",
   "mimetype": "text/x-python",
   "name": "python",
   "nbconvert_exporter": "python",
   "pygments_lexer": "ipython3",
   "version": "3.8.0"
  }
 },
 "nbformat": 4,
 "nbformat_minor": 1
}
