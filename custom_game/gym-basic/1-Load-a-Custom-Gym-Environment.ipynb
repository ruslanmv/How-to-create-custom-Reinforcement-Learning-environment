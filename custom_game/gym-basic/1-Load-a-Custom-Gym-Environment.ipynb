{
 "cells": [
  {
   "cell_type": "code",
   "execution_count": 1,
   "id": "aec783f0",
   "metadata": {},
   "outputs": [],
   "source": [
    "import time\n",
    "import matplotlib.pyplot as plt\n",
    "import gym"
   ]
  },
  {
   "cell_type": "markdown",
   "id": "38025e61",
   "metadata": {},
   "source": [
    "# Method 1: Use local test class"
   ]
  },
  {
   "cell_type": "code",
   "execution_count": 3,
   "id": "6d6783e2",
   "metadata": {},
   "outputs": [],
   "source": [
    "import gym\n",
    "from gym import spaces\n",
    "class BasicEnv(gym.Env):\n",
    "    metadata = {'render.modes': ['human']}\n",
    "\n",
    "    def __init__(self):\n",
    "        # There are two actions, first will get reward of 1, second reward of -1. \n",
    "        self.action_space = spaces.Discrete(5)\n",
    "        self.observation_space = spaces.Discrete(2)\n",
    "\n",
    "    def step(self, action):\n",
    "\n",
    "        # if we took an action, we were in state 1\n",
    "        state = 1\n",
    "    \n",
    "        if action == 2:\n",
    "            reward = 1\n",
    "        else:\n",
    "            reward = -1\n",
    "            \n",
    "        # regardless of the action, game is done after a single step\n",
    "        done = True\n",
    "\n",
    "        info = {}\n",
    "\n",
    "        return state, reward, done, info\n",
    "\n",
    "    def reset(self):\n",
    "        state = 0\n",
    "        return state\n",
    "  \n",
    "    def render(self, mode='human'):\n",
    "        pass\n",
    "\n",
    "    def close(self):\n",
    "        pass"
   ]
  },
  {
   "cell_type": "code",
   "execution_count": 4,
   "id": "9fe43dee",
   "metadata": {},
   "outputs": [],
   "source": [
    "# method 1 - use local test class\n",
    "env = BasicEnv()"
   ]
  },
  {
   "cell_type": "markdown",
   "id": "61c4f6d7",
   "metadata": {},
   "source": [
    "We start at state = 0"
   ]
  },
  {
   "cell_type": "code",
   "execution_count": 5,
   "id": "b5a19e73",
   "metadata": {},
   "outputs": [
    {
     "data": {
      "text/plain": [
       "0"
      ]
     },
     "execution_count": 5,
     "metadata": {},
     "output_type": "execute_result"
    }
   ],
   "source": [
    "env.reset()"
   ]
  },
  {
   "cell_type": "markdown",
   "id": "9f24c6d0",
   "metadata": {},
   "source": [
    "and the agent can choose between 5 actions, numbered 0 to 4."
   ]
  },
  {
   "cell_type": "code",
   "execution_count": 6,
   "id": "316a60fb",
   "metadata": {},
   "outputs": [],
   "source": [
    "env.render(\"human\")"
   ]
  },
  {
   "cell_type": "code",
   "execution_count": 7,
   "id": "140594a1",
   "metadata": {},
   "outputs": [
    {
     "name": "stdout",
     "output_type": "stream",
     "text": [
      "4\n"
     ]
    }
   ],
   "source": [
    "action = env.action_space.sample()\n",
    "print(action)"
   ]
  },
  {
   "cell_type": "markdown",
   "id": "53a16eb9",
   "metadata": {},
   "source": [
    "If they pick action = 2, they get a reward of 1, otherwise, the reward is -1. "
   ]
  },
  {
   "cell_type": "code",
   "execution_count": 8,
   "id": "91aefb3b",
   "metadata": {},
   "outputs": [
    {
     "name": "stdout",
     "output_type": "stream",
     "text": [
      "1 -1 True {}\n",
      "Reward = -1 with action = 4\n"
     ]
    }
   ],
   "source": [
    "state, reward, done, info = env.step(1)\n",
    "print(state,reward, done, info)\n",
    "print(\"Reward = {} with action = {}\".format(reward,action))"
   ]
  },
  {
   "cell_type": "markdown",
   "id": "4a442f16",
   "metadata": {},
   "source": [
    "If we pick action = 2, they get a reward of 1"
   ]
  },
  {
   "cell_type": "markdown",
   "id": "57040629",
   "metadata": {},
   "source": [
    "We just reset the state"
   ]
  },
  {
   "cell_type": "code",
   "execution_count": 65,
   "id": "a72d3a1e",
   "metadata": {
    "scrolled": true
   },
   "outputs": [
    {
     "data": {
      "text/plain": [
       "0"
      ]
     },
     "execution_count": 65,
     "metadata": {},
     "output_type": "execute_result"
    }
   ],
   "source": [
    "env.reset()"
   ]
  },
  {
   "cell_type": "markdown",
   "id": "bf0ca95c",
   "metadata": {},
   "source": [
    "We can define the action by hand inside the step"
   ]
  },
  {
   "cell_type": "code",
   "execution_count": 9,
   "id": "862ace5a",
   "metadata": {},
   "outputs": [
    {
     "name": "stdout",
     "output_type": "stream",
     "text": [
      "1 1 True {}\n",
      "Reward = 1 with action = 2\n"
     ]
    }
   ],
   "source": [
    "action=2\n",
    "state, reward, done, info = env.step(action)\n",
    "print(state,reward, done, info)\n",
    "print(\"Reward = {} with action = {}\".format(reward,action))"
   ]
  },
  {
   "cell_type": "markdown",
   "id": "9a8c503d",
   "metadata": {},
   "source": [
    "otherwise"
   ]
  },
  {
   "cell_type": "code",
   "execution_count": 10,
   "id": "0d0b1f77",
   "metadata": {},
   "outputs": [
    {
     "name": "stdout",
     "output_type": "stream",
     "text": [
      "1 -1 True {}\n",
      "Reward = -1 with action = 1\n"
     ]
    }
   ],
   "source": [
    "action=1\n",
    "state, reward, done, info = env.step(action)\n",
    "print(state,reward, done, info)\n",
    "print(\"Reward = {} with action = {}\".format(reward,action))"
   ]
  },
  {
   "cell_type": "markdown",
   "id": "c2acb041",
   "metadata": {},
   "source": [
    "Once we have lerned how to pass the actions inside the step we can test further enviroments "
   ]
  },
  {
   "cell_type": "code",
   "execution_count": 68,
   "id": "0d229637",
   "metadata": {},
   "outputs": [],
   "source": [
    "import numpy as np\n",
    "from gym import spaces\n",
    "# same as BasicEnv, with one difference: the reward for each action is a normal variable\n",
    "# purpose is to see if we can use libraries\n",
    "\n",
    "class BasicEnv2(gym.Env):\n",
    "    metadata = {'render.modes': ['human']}\n",
    "\n",
    "    def __init__(self):\n",
    "        # There are two actions, first will get reward of 1, second reward of -1. \n",
    "        self.action_space = gym.spaces.Discrete(5)\n",
    "        self.observation_space = gym.spaces.Discrete(2)\n",
    "\n",
    "    def step(self, action):\n",
    "\n",
    "        # if we took an action, we were in state 1\n",
    "        state = 1\n",
    "    \n",
    "        reward = np.random.normal(loc = action, scale = action)\n",
    "            \n",
    "        # regardless of the action, game is done after a single step\n",
    "        done = True\n",
    "\n",
    "        info = {}\n",
    "\n",
    "        return state, reward, done, info\n",
    "\n",
    "    def reset(self):\n",
    "        state = 0\n",
    "        return state\n",
    "  \n",
    "    def render(self, mode='human'):\n",
    "        pass\n",
    "\n",
    "    def close(self):\n",
    "        pass"
   ]
  },
  {
   "cell_type": "code",
   "execution_count": 69,
   "id": "04e7c453",
   "metadata": {},
   "outputs": [],
   "source": [
    "# method 1 - use local test class\n",
    "env = BasicEnv2()"
   ]
  },
  {
   "cell_type": "code",
   "execution_count": 70,
   "id": "974346d8",
   "metadata": {},
   "outputs": [
    {
     "data": {
      "text/plain": [
       "0"
      ]
     },
     "execution_count": 70,
     "metadata": {},
     "output_type": "execute_result"
    }
   ],
   "source": [
    "env.reset()"
   ]
  },
  {
   "cell_type": "code",
   "execution_count": 71,
   "id": "e1139ddc",
   "metadata": {},
   "outputs": [],
   "source": [
    "env.render(\"human\")"
   ]
  },
  {
   "cell_type": "code",
   "execution_count": 72,
   "id": "f16dce44",
   "metadata": {},
   "outputs": [],
   "source": [
    "action = env.action_space.sample()"
   ]
  },
  {
   "cell_type": "code",
   "execution_count": 73,
   "id": "358a6f6b",
   "metadata": {},
   "outputs": [
    {
     "name": "stdout",
     "output_type": "stream",
     "text": [
      "2\n"
     ]
    }
   ],
   "source": [
    "print(action)"
   ]
  },
  {
   "cell_type": "code",
   "execution_count": 74,
   "id": "3d44f6ca",
   "metadata": {},
   "outputs": [
    {
     "name": "stdout",
     "output_type": "stream",
     "text": [
      "1 2.789265547053389 True {}\n",
      "Reward = 2.789265547053389 with action = 2\n"
     ]
    }
   ],
   "source": [
    "state, reward, done, info = env.step(1)\n",
    "print(state,reward, done, info)\n",
    "print(\"Reward = {} with action = {}\".format(reward,action))"
   ]
  },
  {
   "cell_type": "markdown",
   "id": "56cf3372",
   "metadata": {},
   "source": [
    "# Method 2: Build from gym package"
   ]
  },
  {
   "cell_type": "markdown",
   "id": "ae69debc",
   "metadata": {},
   "source": [
    "Once the Enviroment were created \n",
    "``` \n",
    "gym-basic/\n",
    "  setup.py\n",
    "  gym_basic/\n",
    "    __init__.py\n",
    "    envs/\n",
    "      __init__.py\n",
    "      basic_env.py\n",
    "      basic_env_2.py\n",
    "```\n",
    "\n",
    "pip install -e gym-basic"
   ]
  },
  {
   "cell_type": "code",
   "execution_count": 11,
   "id": "72b45300",
   "metadata": {},
   "outputs": [],
   "source": [
    "import gym\n",
    "# method 2 - build from gym package\n",
    "env = gym.make(\"gym_basic:basic-v0\")"
   ]
  },
  {
   "cell_type": "code",
   "execution_count": 12,
   "id": "bb531d03",
   "metadata": {},
   "outputs": [
    {
     "name": "stdout",
     "output_type": "stream",
     "text": [
      "0\n"
     ]
    }
   ],
   "source": [
    "env.reset()\n",
    "env.render(\"human\")\n",
    "action = env.action_space.sample()\n",
    "print(action)"
   ]
  },
  {
   "cell_type": "code",
   "execution_count": 13,
   "id": "f37d83e7",
   "metadata": {},
   "outputs": [
    {
     "name": "stdout",
     "output_type": "stream",
     "text": [
      "1 -1 True {}\n",
      "Reward = -1 with action = 0\n"
     ]
    }
   ],
   "source": [
    "state, reward, done, info = env.step(action)\n",
    "print(state,reward, done, info)\n",
    "print(\"Reward = {} with action = {}\".format(reward,action))"
   ]
  },
  {
   "cell_type": "code",
   "execution_count": 14,
   "id": "fd7739fe",
   "metadata": {},
   "outputs": [
    {
     "name": "stdout",
     "output_type": "stream",
     "text": [
      "1 1 True {}\n",
      "Reward = 1 with action = 2\n"
     ]
    }
   ],
   "source": [
    "action=2\n",
    "state, reward, done, info = env.step(action)\n",
    "print(state,reward, done, info)\n",
    "print(\"Reward = {} with action = {}\".format(reward,action))"
   ]
  },
  {
   "cell_type": "code",
   "execution_count": null,
   "id": "8c7029bc",
   "metadata": {},
   "outputs": [],
   "source": []
  },
  {
   "cell_type": "code",
   "execution_count": 31,
   "id": "3585fd0d",
   "metadata": {},
   "outputs": [],
   "source": [
    "# method 1 - build from gym package\n",
    "env = gym.make(\"gym_basic:basic-v2\")"
   ]
  },
  {
   "cell_type": "code",
   "execution_count": 34,
   "id": "a7367716",
   "metadata": {},
   "outputs": [],
   "source": [
    "env.reset()\n",
    "env.render(\"human\")"
   ]
  },
  {
   "cell_type": "code",
   "execution_count": 35,
   "id": "b17579f5",
   "metadata": {},
   "outputs": [
    {
     "name": "stdout",
     "output_type": "stream",
     "text": [
      "3\n"
     ]
    }
   ],
   "source": [
    "action = env.action_space.sample()\n",
    "print(action)"
   ]
  },
  {
   "cell_type": "code",
   "execution_count": 36,
   "id": "b0aa7179",
   "metadata": {},
   "outputs": [
    {
     "name": "stdout",
     "output_type": "stream",
     "text": [
      "1 3.311051392573194 True {}\n",
      "Reward = 3.311051392573194 with action = 3\n"
     ]
    }
   ],
   "source": [
    "state, reward, done, info = env.step(1)\n",
    "print(state,reward, done, info)\n",
    "print(\"Reward = {} with action = {}\".format(reward,action))"
   ]
  },
  {
   "cell_type": "markdown",
   "id": "ae7e85e0",
   "metadata": {},
   "source": [
    "# Rendering - Part 1"
   ]
  },
  {
   "cell_type": "markdown",
   "id": "79243b92",
   "metadata": {},
   "source": [
    "The next step is load an image called \n",
    "**point_blue.png**, we just pointed the image at one fixed position.\n",
    "\n",
    "We take the first enviroment **BasicEnv** and we modify as follows:"
   ]
  },
  {
   "cell_type": "code",
   "execution_count": 17,
   "id": "c0dbab41",
   "metadata": {},
   "outputs": [],
   "source": [
    "import gym\n",
    "from gym import spaces\n",
    "\n",
    "import numpy as np\n",
    "\n",
    "import pygame\n",
    "from pygame import display\n",
    "from pygame.surfarray import array3d\n",
    "\n",
    "# --- New code begin---\n",
    "BLACK = pygame.Color(0, 0, 0)\n",
    "WHITE = pygame.Color(255, 255, 255)\n",
    "RED = pygame.Color(255, 0, 0)\n",
    "GREEN = pygame.Color(0, 255, 0)\n",
    "BLUE = pygame.Color(0, 0, 255)\n",
    "\n",
    "#Load images\n",
    "worker_image = pygame.image.load(\"point_blue.png\")\n",
    "#To the image we assing a kind of gym object\n",
    "worker_rect = worker_image.get_rect()\n",
    "# Moreover we add a position in the screen display\n",
    "worker_rect.topleft = (25, 25) # .center, .topright\n",
    "\n",
    "# --- New code end---  \n",
    "\n",
    "class BasicEnv3(gym.Env):\n",
    "    metadata = {'render.modes': ['human']}\n",
    "\n",
    "    def __init__(self):\n",
    "        # There are two actions, first will get reward of 1, second reward of -1. \n",
    "        self.action_space = spaces.Discrete(5)\n",
    "        self.observation_space = spaces.Discrete(2)\n",
    "        \n",
    "        # --- New code begin---\n",
    "        \n",
    "        # We inizialize the display\n",
    "        self.frame_size_x = 200\n",
    "        self.frame_size_y = 200\n",
    "        self.game_window = pygame.display.set_mode((self.frame_size_x, self.frame_size_y))        \n",
    "        # --- New code end--- \n",
    "\n",
    "    def step(self, action):\n",
    "\n",
    "        # if we took an action, we were in state 1\n",
    "        state = 1\n",
    "    \n",
    "        if action == 2:\n",
    "            reward = 1\n",
    "        else:\n",
    "            reward = -1\n",
    "            \n",
    "        # regardless of the action, game is done after a single step\n",
    "        done = True\n",
    "\n",
    "        info = {}\n",
    "        \n",
    "        \n",
    "        # --- New code begin---        \n",
    "        # We update the state with an image\n",
    "        self.update_game_state()\n",
    "        img = self.get_image_array_from_game()\n",
    "        \n",
    "        state=img\n",
    "        # --- New code end---\n",
    "        \n",
    "        return state, reward, done, info\n",
    "    \n",
    "    \n",
    "    def update_game_state(self):\n",
    "        #We fill the screen to white\n",
    "        self.game_window.fill(WHITE)\n",
    "        \n",
    "        #Blit assets ( we add the image to the game window)\n",
    "        self.game_window.blit(worker_image, worker_rect)\n",
    "        \n",
    "    def get_image_array_from_game(self):\n",
    "        img = array3d(display.get_surface())\n",
    "        #Preprocessing of channels ( needed for tensorflow)\n",
    "        img = np.swapaxes(img, 0, 1)\n",
    "        return img    \n",
    "    \n",
    "    def reset(self):\n",
    "        state = 0\n",
    "        return state\n",
    "  \n",
    "    def render(self, mode='human'):\n",
    "        if mode == \"human\":\n",
    "            display.update()        \n",
    "\n",
    "    def close(self):\n",
    "        pass"
   ]
  },
  {
   "cell_type": "code",
   "execution_count": 18,
   "id": "be4cf627",
   "metadata": {},
   "outputs": [
    {
     "name": "stdout",
     "output_type": "stream",
     "text": [
      "4\n",
      "Reward = -1 with action = 4\n"
     ]
    }
   ],
   "source": [
    "# method 1 - use local test class\n",
    "env = BasicEnv3()\n",
    "env.reset()\n",
    "action = env.action_space.sample()\n",
    "print(action)\n",
    "state, reward, done, info = env.step(action)\n",
    "print(\"Reward = {} with action = {}\".format(reward,action))"
   ]
  },
  {
   "cell_type": "code",
   "execution_count": 19,
   "id": "08e772eb",
   "metadata": {},
   "outputs": [
    {
     "name": "stdout",
     "output_type": "stream",
     "text": [
      "-1 True {}\n"
     ]
    },
    {
     "data": {
      "text/plain": [
       "<matplotlib.image.AxesImage at 0x1778d6e1908>"
      ]
     },
     "execution_count": 19,
     "metadata": {},
     "output_type": "execute_result"
    },
    {
     "data": {
      "image/png": "[encoded data removed]",
      "text/plain": [
       "<Figure size 640x480 with 1 Axes>"
      ]
     },
     "metadata": {},
     "output_type": "display_data"
    }
   ],
   "source": [
    "import matplotlib.pyplot as plt\n",
    "print(reward, done, info)\n",
    "plt.figure()\n",
    "plt.imshow(state)"
   ]
  },
  {
   "cell_type": "markdown",
   "id": "7bce1e36",
   "metadata": {},
   "source": [
    "# Rendering - Part 2\n",
    "We are interested now, to add an additional red point that will be the target \n"
   ]
  },
  {
   "cell_type": "code",
   "execution_count": 20,
   "id": "f5818f92",
   "metadata": {},
   "outputs": [
    {
     "name": "stdout",
     "output_type": "stream",
     "text": [
      "Initial position 100 100\n"
     ]
    }
   ],
   "source": [
    "import gym\n",
    "from gym import spaces\n",
    "import numpy as np\n",
    "\n",
    "import pygame\n",
    "from pygame import display\n",
    "from pygame.surfarray import array3d\n",
    "import random\n",
    "\n",
    "BLACK = pygame.Color(0, 0, 0)\n",
    "WHITE = pygame.Color(255, 255, 255)\n",
    "RED = pygame.Color(255, 0, 0)\n",
    "GREEN = pygame.Color(0, 255, 0)\n",
    "BLUE = pygame.Color(0, 0, 255)\n",
    "\n",
    "#Load images\n",
    "worker_image = pygame.image.load(\"point_blue.png\")\n",
    "#To the image we assing a kind of gym object\n",
    "worker_rect = worker_image.get_rect()\n",
    "# Moreover we add a position in the screen display\n",
    "worker_rect.topleft = (25, 25)\n",
    "\n",
    "#Target image and position\n",
    "position_coordinates=[(50,50),\n",
    "                      (100,50),\n",
    "                      (150,50)]\n",
    "target_image = pygame.image.load(\"point_red.png\")\n",
    "target_rect = target_image.get_rect()\n",
    "print('Initial position',100,100)\n",
    "target_rect.center = (100, 100)\n",
    "\n",
    "class BasicEnv4(gym.Env):\n",
    "    metadata = {'render.modes': ['human']}\n",
    "\n",
    "    def __init__(self):\n",
    "        # There are two actions, first will get reward of 1, second reward of -1. \n",
    "        self.action_space = spaces.Discrete(5)\n",
    "        self.observation_space = spaces.Discrete(2)\n",
    "        \n",
    "        # We inizialize the display\n",
    "        self.frame_size_x = 200\n",
    "        self.frame_size_y = 200\n",
    "        self.game_window = pygame.display.set_mode((self.frame_size_x, self.frame_size_y))        \n",
    "        # --- New code end--- \n",
    "\n",
    "    def step(self, action):\n",
    "\n",
    "        # if we took an action, we were in state 1\n",
    "        state = 1\n",
    "    \n",
    "        if action == 2:\n",
    "            reward = 1\n",
    "        else:\n",
    "            reward = -1\n",
    "            \n",
    "        # regardless of the action, game is done after a single step\n",
    "        done = True\n",
    "\n",
    "        info = {}\n",
    "         \n",
    "              \n",
    "        # We update the state with an image\n",
    "        self.update_game_state()\n",
    "        img = self.get_image_array_from_game()\n",
    "        state=img\n",
    "    \n",
    "        \n",
    "        return state, reward, done, info\n",
    "    \n",
    "    \n",
    "    def update_game_state(self):\n",
    "        #We fill the screen to white\n",
    "        self.game_window.fill(WHITE)\n",
    "        \n",
    "        #Blit assets ( we add the image to the game window)\n",
    "        self.game_window.blit(worker_image, worker_rect)\n",
    "        self.game_window.blit(target_image, target_rect)\n",
    "        \n",
    "        \n",
    "    def get_image_array_from_game(self):\n",
    "        img = array3d(display.get_surface())\n",
    "        #Preprocessing of channels ( needed for tensorflow)\n",
    "        img = np.swapaxes(img, 0, 1)\n",
    "        return img    \n",
    "    \n",
    "    def reset(self):\n",
    "        \n",
    "        \n",
    "        target_pos=random.choice(position_coordinates)\n",
    "        print('Target position',target_pos[0], target_pos[1])\n",
    "        target_rect.center = (target_pos[0], target_pos[1])\n",
    "\n",
    "\n",
    "        state = 0\n",
    "        return state\n",
    "  \n",
    "    def render(self, mode='human'):\n",
    "        if mode == \"human\":\n",
    "            display.update()        \n",
    "\n",
    "    def close(self):\n",
    "        pass"
   ]
  },
  {
   "cell_type": "code",
   "execution_count": null,
   "id": "c938a6d8",
   "metadata": {},
   "outputs": [],
   "source": []
  },
  {
   "cell_type": "code",
   "execution_count": 25,
   "id": "a41b2738",
   "metadata": {},
   "outputs": [
    {
     "name": "stdout",
     "output_type": "stream",
     "text": [
      "Target position 150 50\n",
      "1\n",
      "Reward = -1 with action = 1\n",
      "-1 True {}\n"
     ]
    },
    {
     "data": {
      "text/plain": [
       "<matplotlib.image.AxesImage at 0x177913ea518>"
      ]
     },
     "execution_count": 25,
     "metadata": {},
     "output_type": "execute_result"
    },
    {
     "data": {
      "image/png": "[encoded data removed]",
      "text/plain": [
       "<Figure size 640x480 with 1 Axes>"
      ]
     },
     "metadata": {},
     "output_type": "display_data"
    }
   ],
   "source": [
    "# method 1 - use local test class\n",
    "env = BasicEnv4()\n",
    "env.reset()\n",
    "action = env.action_space.sample()\n",
    "print(action)\n",
    "state, reward, done, info = env.step(action)\n",
    "print(\"Reward = {} with action = {}\".format(reward,action))\n",
    "import matplotlib.pyplot as plt\n",
    "print(reward, done, info)\n",
    "plt.figure()\n",
    "plt.imshow(state)"
   ]
  },
  {
   "cell_type": "markdown",
   "id": "1b46e0af",
   "metadata": {},
   "source": [
    "# Action - Part 1\n",
    "We are interested now to add the input to the enviroment, let add just the four keys, up, down, left, right"
   ]
  },
  {
   "cell_type": "code",
   "execution_count": 35,
   "id": "27286add",
   "metadata": {},
   "outputs": [],
   "source": [
    "import gym\n",
    "from gym import spaces\n",
    "import numpy as np\n",
    "\n",
    "import pygame\n",
    "from pygame import display\n",
    "from pygame.surfarray import array3d\n",
    "import random\n",
    "\n",
    "BLACK = pygame.Color(0, 0, 0)\n",
    "WHITE = pygame.Color(255, 255, 255)\n",
    "RED = pygame.Color(255, 0, 0)\n",
    "GREEN = pygame.Color(0, 255, 0)\n",
    "BLUE = pygame.Color(0, 0, 255)\n",
    "\n",
    "#Load images\n",
    "worker_image = pygame.image.load(\"point_blue.png\")\n",
    "#To the image we assing a kind of gym object\n",
    "worker_rect = worker_image.get_rect()\n",
    "worker_pos=[25,25]\n",
    "# Moreover we add a position in the screen display\n",
    "worker_rect.center = (worker_pos[0], worker_pos[1])\n",
    "\n",
    "#Target image and position\n",
    "position_coordinates=[(50,50),\n",
    "                      (100,50),\n",
    "                      (150,50)]\n",
    "\n",
    "target_image = pygame.image.load(\"point_red.png\")\n",
    "\n",
    "class BasicEnv5(gym.Env):\n",
    "    metadata = {'render.modes': ['human']}\n",
    "\n",
    "    def __init__(self):\n",
    "        # There are two actions, first will get reward of 1, second reward of -1. \n",
    "        self.action_space = spaces.Discrete(4)\n",
    "        self.observation_space = spaces.Discrete(2)\n",
    "        \n",
    "        # We inizialize the display\n",
    "        self.frame_size_x = 200\n",
    "        self.frame_size_y = 200\n",
    "        self.game_window = pygame.display.set_mode((self.frame_size_x, self.frame_size_y))   \n",
    "        self.worker_pos=[25,25]\n",
    "        \n",
    "        #Load images\n",
    "        self.worker_image = pygame.image.load(\"point_blue.png\")\n",
    "        #To the image we assing a kind of gym object\n",
    "        self.worker_rect = worker_image.get_rect()\n",
    "        self.worker_pos=[25,25]\n",
    "        # Moreover we add a position in the screen display\n",
    "        self.worker_rect.center = (worker_pos[0], worker_pos[1])\n",
    "        \n",
    "        self.target_image = pygame.image.load(\"point_red.png\")\n",
    "        self.target_rect = target_image.get_rect()\n",
    "        print('Initial position',100,100)\n",
    "        self.target_rect.center = (100, 100)\n",
    "        \n",
    "    def step(self, action):\n",
    "        reward = 0\n",
    "        self.worker_pos = self.move(action, self.worker_pos)\n",
    "        if action != None:\n",
    "            print(self.worker_pos)\n",
    "        #reward = self.seat_handler()\n",
    "        # regardless of the action, game is done after a single step\n",
    "        done = True\n",
    "        info = {}\n",
    "        # We update the state with an image\n",
    "        self.update_game_state()\n",
    "        img = self.get_image_array_from_game()\n",
    "        state=img\n",
    "        return state, reward, done, info\n",
    "    \n",
    "    def worker_step(self,event):   \n",
    "        '''\n",
    "        Takes human keyboard event and then returns it as an action string\n",
    "        '''\n",
    "        action = None\n",
    "        if event.type == pygame.QUIT:\n",
    "            pygame.quit()\n",
    "            sys.exit()\n",
    "        ################################################ \n",
    "        ########## CONVERT KEYPRESS TO DIRECTION ###### \n",
    "        ############################################## \n",
    "        elif event.type == pygame.KEYDOWN:\n",
    "            \n",
    "            if event.key == pygame.K_UP:\n",
    "                action = 'UP'\n",
    "            if event.key == pygame.K_DOWN:\n",
    "                action = 'DOWN'\n",
    "            if event.key == pygame.K_LEFT:\n",
    "                action = 'LEFT'\n",
    "            if event.key == pygame.K_RIGHT:\n",
    "                action = 'RIGHT'\n",
    "            # Esc -> Create event to quit the game\n",
    "            if event.key == pygame.K_ESCAPE:\n",
    "                pygame.event.post(pygame.event.Event(pygame.QUIT))                \n",
    "        return action    \n",
    "    \n",
    "    def update_game_state(self):\n",
    "        \n",
    "        #We fill the screen to white\n",
    "        self.game_window.fill(WHITE)\n",
    "        \n",
    "        print(self.worker_pos[0],self.worker_pos[1])\n",
    "        self.worker_rect.x=self.worker_pos[0]\n",
    "        self.worker_rect.y=self.worker_pos[1]\n",
    "        \n",
    "        #Draw rectangles to represent the rect's of each object\n",
    "        pygame.draw.rect(self.game_window, (0, 255, 0), self.target_rect, 1)\n",
    "        pygame.draw.rect(self.game_window, (255, 255, 0), self.worker_rect, 1)\n",
    "        \n",
    "        #Blit assets\n",
    "        self.game_window.blit(target_image, self.target_rect)\n",
    "        self.game_window.blit(worker_image, self.worker_rect)\n",
    "        \n",
    "        \n",
    "    def get_image_array_from_game(self):\n",
    "        img = array3d(display.get_surface())\n",
    "        #Preprocessing of channels ( needed for tensorflow)\n",
    "        img = np.swapaxes(img, 0, 1)\n",
    "        return img    \n",
    "    \n",
    "    def reset(self):\n",
    "        target_pos=random.choice(position_coordinates)\n",
    "        print('Target position',target_pos[0], target_pos[1])\n",
    "        self.target_rect.center = (target_pos[0], target_pos[1])\n",
    "        state = 0\n",
    "        return state\n",
    "    \n",
    "    def move(self,action,worker_pos):\n",
    "        '''\n",
    "        Changes direction based on action input.\n",
    "        Updates Office_pos list to reflect direction change.\n",
    "        '''\n",
    "        if not action:\n",
    "            return worker_pos\n",
    "        if action == 'UP':\n",
    "            worker_pos[1] -= 10\n",
    "        if action == 'DOWN':\n",
    "            worker_pos[1] += 10\n",
    "        if action == 'LEFT':\n",
    "            worker_pos[0] -= 10\n",
    "        if action == 'RIGHT':\n",
    "            worker_pos[0] += 10         \n",
    "        return worker_pos    \n",
    "  \n",
    "    def render(self, mode='human'):\n",
    "        if mode == \"human\":\n",
    "            display.update()        \n",
    "    def close(self):\n",
    "        pass"
   ]
  },
  {
   "cell_type": "code",
   "execution_count": 46,
   "id": "0324b16c",
   "metadata": {},
   "outputs": [
    {
     "name": "stdout",
     "output_type": "stream",
     "text": [
      "Initial position 100 100\n",
      "Target position 100 50\n",
      "action_n 0\n",
      "UP\n",
      "[25, 15]\n",
      "25 15\n",
      "Reward = 0 with action = UP\n",
      "0 True {}\n"
     ]
    },
    {
     "data": {
      "text/plain": [
       "<matplotlib.image.AxesImage at 0x19e0d8f1710>"
      ]
     },
     "execution_count": 46,
     "metadata": {},
     "output_type": "execute_result"
    },
    {
     "data": {
      "image/png": "[encoded data removed]",
      "text/plain": [
       "<Figure size 640x480 with 1 Axes>"
      ]
     },
     "metadata": {},
     "output_type": "display_data"
    }
   ],
   "source": [
    "# method 1 - use local test class\n",
    "env = BasicEnv5()\n",
    "env.reset()\n",
    "action_n = env.action_space.sample()\n",
    "print('action_n',action_n)\n",
    "action_key={\n",
    "       0:'UP',\n",
    "       1:'DOWN',\n",
    "       2:'RIGHT',\n",
    "       3:'LEFT'}\n",
    "action=action_key[action_n]\n",
    "print(action)\n",
    "state, reward, done, info = env.step(action)\n",
    "print(\"Reward = {} with action = {}\".format(reward,action))\n",
    "import matplotlib.pyplot as plt\n",
    "print(reward, done, info)\n",
    "plt.figure()\n",
    "plt.imshow(state)"
   ]
  },
  {
   "cell_type": "code",
   "execution_count": 47,
   "id": "2aa00dfe",
   "metadata": {},
   "outputs": [
    {
     "name": "stdout",
     "output_type": "stream",
     "text": [
      "Initial position 100 100\n",
      "25 25\n",
      "25 25\n",
      "25 25\n",
      "25 25\n",
      "25 25\n",
      "25 25\n",
      "25 25\n",
      "25 25\n",
      "25 25\n",
      "25 25\n",
      "25 25\n",
      "25 25\n",
      "25 25\n",
      "25 25\n",
      "25 25\n",
      "25 25\n",
      "25 25\n",
      "25 25\n",
      "25 25\n",
      "25 25\n",
      "25 25\n",
      "25 25\n",
      "25 25\n",
      "25 25\n",
      "25 25\n",
      "25 25\n",
      "25 25\n",
      "25 25\n",
      "25 25\n",
      "25 25\n",
      "25 25\n",
      "25 25\n",
      "25 25\n",
      "25 25\n",
      "25 25\n",
      "25 25\n",
      "25 25\n",
      "25 25\n",
      "25 25\n",
      "[35, 25]\n",
      "35 25\n",
      "Reward = 0 with action = RIGHT\n",
      "[45, 25]\n",
      "45 25\n",
      "Reward = 0 with action = RIGHT\n",
      "[55, 25]\n",
      "55 25\n",
      "Reward = 0 with action = RIGHT\n",
      "[65, 25]\n",
      "65 25\n",
      "Reward = 0 with action = RIGHT\n",
      "65 25\n",
      "[75, 25]\n",
      "75 25\n",
      "Reward = 0 with action = RIGHT\n",
      "75 25\n",
      "75 25\n",
      "75 25\n",
      "75 25\n",
      "75 25\n",
      "[75, 35]\n",
      "75 35\n",
      "Reward = 0 with action = DOWN\n",
      "[75, 45]\n",
      "75 45\n",
      "Reward = 0 with action = DOWN\n",
      "75 45\n",
      "75 45\n",
      "75 45\n",
      "75 45\n",
      "75 45\n",
      "[75, 55]\n",
      "75 55\n",
      "Reward = 0 with action = DOWN\n",
      "75 55\n",
      "75 55\n",
      "[75, 65]\n",
      "75 65\n",
      "Reward = 0 with action = DOWN\n",
      "75 65\n",
      "[75, 75]\n",
      "75 75\n",
      "Reward = 0 with action = DOWN\n",
      "75 75\n",
      "75 75\n",
      "[75, 85]\n",
      "75 85\n",
      "Reward = 0 with action = DOWN\n",
      "75 85\n",
      "[75, 95]\n",
      "75 95\n",
      "Reward = 0 with action = DOWN\n",
      "75 95\n",
      "[75, 105]\n",
      "75 105\n",
      "Reward = 0 with action = DOWN\n",
      "75 105\n",
      "[75, 115]\n",
      "75 115\n",
      "Reward = 0 with action = DOWN\n",
      "75 115\n",
      "[75, 125]\n",
      "75 125\n",
      "Reward = 0 with action = DOWN\n",
      "75 125\n",
      "[75, 135]\n",
      "75 135\n",
      "Reward = 0 with action = DOWN\n",
      "[85, 135]\n",
      "85 135\n",
      "Reward = 0 with action = RIGHT\n",
      "85 135\n",
      "85 135\n",
      "[95, 135]\n",
      "95 135\n",
      "Reward = 0 with action = RIGHT\n",
      "95 135\n",
      "[105, 135]\n",
      "105 135\n",
      "Reward = 0 with action = RIGHT\n",
      "105 135\n",
      "105 135\n",
      "[115, 135]\n",
      "115 135\n",
      "Reward = 0 with action = RIGHT\n",
      "115 135\n",
      "[125, 135]\n",
      "125 135\n",
      "Reward = 0 with action = RIGHT\n",
      "125 135\n",
      "125 135\n",
      "125 135\n",
      "125 135\n",
      "125 135\n",
      "125 135\n",
      "125 135\n",
      "125 135\n",
      "125 135\n",
      "125 135\n",
      "125 135\n",
      "125 135\n",
      "125 135\n",
      "125 135\n",
      "125 135\n",
      "125 135\n",
      "125 135\n",
      "125 135\n",
      "125 135\n",
      "125 135\n",
      "125 135\n"
     ]
    },
    {
     "ename": "SystemExit",
     "evalue": "",
     "output_type": "error",
     "traceback": [
      "An exception has occurred, use %tb to see the full traceback.\n",
      "\u001b[1;31mSystemExit\u001b[0m\n"
     ]
    },
    {
     "name": "stderr",
     "output_type": "stream",
     "text": [
      "C:\\Users\\RMAGANAV\\Anaconda3\\envs\\gym\\lib\\site-packages\\IPython\\core\\interactiveshell.py:3465: UserWarning: To exit: use 'exit', 'quit', or Ctrl-D.\n",
      "  warn(\"To exit: use 'exit', 'quit', or Ctrl-D.\", stacklevel=1)\n"
     ]
    }
   ],
   "source": [
    "import sys\n",
    "env = BasicEnv5()\n",
    "# This is technically a FPS Refresh rate\n",
    "FPS = 10\n",
    "# FPS (frames per second) controller\n",
    "fps_controller = pygame.time.Clock()\n",
    "# Checks for errors encountered\n",
    "check_errors = pygame.init()\n",
    "# Initialise game window\n",
    "pygame.display.set_caption('Testing Game') \n",
    "#The main game loop\n",
    "running = True\n",
    "while running:\n",
    "    # Check Input from Human Step \n",
    "    for event in pygame.event.get():\n",
    "        action = env.worker_step(event)    \n",
    "        if event.type == pygame.QUIT:\n",
    "            running = False\n",
    "    state, reward, done, info = env.step(action)\n",
    "    \n",
    "    if action != None:\n",
    "        print(\"Reward = {} with action = {}\".format(reward,action))    \n",
    "    \n",
    "    '''\n",
    "    # Check for move change based on action and Update worker Position\n",
    "    worker_pos = env.move(env.action,env.worker_pos)\n",
    "    print(worker_pos)\n",
    "    #Draw the Screen\n",
    "    env.game_window.fill(WHITE)\n",
    "\n",
    "    #bg = pygame.image.load(\"background.png\")\n",
    "    #env.game_window.blit(bg, (0, 0))    \n",
    "        \n",
    "    worker_rect.x=worker_pos[0]\n",
    "    worker_rect.y=worker_pos[1]\n",
    "    # Draw desktop\n",
    "    \n",
    "    #Draw rectangles to represent the rect's of each object\n",
    "    pygame.draw.rect(env.game_window, (0, 255, 0), target_rect, 1)\n",
    "    pygame.draw.rect(env.game_window, (255, 255, 0), worker_rect, 1)\n",
    " \n",
    "    #Blit assets\n",
    "    env.game_window.blit(target_image, target_rect)\n",
    "    env.game_window.blit(worker_image, worker_rect)\n",
    "    '''\n",
    "\n",
    "    # Check if we lost\n",
    "    #env.game_over()\n",
    "    #env.display_score(BLACK, 'consolas', 20)\n",
    "    # Refresh game screen\n",
    "    pygame.display.update()\n",
    "    # Refresh rate\n",
    "    fps_controller.tick(FPS)\n",
    "    img = array3d(env.game_window)"
   ]
  },
  {
   "cell_type": "markdown",
   "id": "ca95e88f",
   "metadata": {},
   "source": [
    "# Action - Part 2\n",
    "We are interested now to replace the keyboard input by the mouse "
   ]
  },
  {
   "cell_type": "code",
   "execution_count": 19,
   "id": "ea9ad2a5",
   "metadata": {},
   "outputs": [],
   "source": [
    "import gym\n",
    "from gym import spaces\n",
    "import numpy as np\n",
    "\n",
    "import pygame\n",
    "from pygame import display\n",
    "from pygame.surfarray import array3d\n",
    "import random\n",
    "\n",
    "BLACK = pygame.Color(0, 0, 0)\n",
    "WHITE = pygame.Color(255, 255, 255)\n",
    "RED = pygame.Color(255, 0, 0)\n",
    "GREEN = pygame.Color(0, 255, 0)\n",
    "BLUE = pygame.Color(0, 0, 255)\n",
    "\n",
    "#Load images\n",
    "worker_image = pygame.image.load(\"point_blue.png\")\n",
    "#To the image we assing a kind of gym object\n",
    "worker_rect = worker_image.get_rect()\n",
    "worker_pos=[25,25]\n",
    "# Moreover we add a position in the screen display\n",
    "worker_rect.center = (worker_pos[0], worker_pos[1])\n",
    "\n",
    "#Target image and position\n",
    "position_coordinates=[(50,50),\n",
    "                      (100,50),\n",
    "                      (150,50)]\n",
    "\n",
    "target_image = pygame.image.load(\"point_red.png\")\n",
    "\n",
    "class BasicEnv6(gym.Env):\n",
    "    metadata = {'render.modes': ['human']}\n",
    "\n",
    "    def __init__(self):\n",
    "        # There are two actions, first will get reward of 1, second reward of -1. \n",
    "        self.action_space = spaces.Discrete(1)\n",
    "        self.observation_space = spaces.Discrete(2)\n",
    "        \n",
    "        # We inizialize the display\n",
    "        self.frame_size_x = 200\n",
    "        self.frame_size_y = 200\n",
    "        self.game_window = pygame.display.set_mode((self.frame_size_x, self.frame_size_y))   \n",
    "        self.worker_pos=[25,25]\n",
    "        \n",
    "        #Load images\n",
    "        self.worker_image = pygame.image.load(\"point_blue.png\")\n",
    "        #To the image we assing a kind of gym object\n",
    "        self.worker_rect = worker_image.get_rect()\n",
    "        self.worker_pos=[25,25]\n",
    "        # Moreover we add a position in the screen display\n",
    "        self.worker_rect.center = (worker_pos[0], worker_pos[1])\n",
    "        \n",
    "        self.target_image = pygame.image.load(\"point_red.png\")\n",
    "        self.target_rect = target_image.get_rect()\n",
    "        print('Initial position',100,100)\n",
    "        self.target_rect.center = (100, 100)\n",
    "        \n",
    "    def step(self, action):\n",
    "        reward = 0\n",
    "        self.worker_pos = self.move(action, self.worker_pos)\n",
    "        if action != None:\n",
    "            print(self.worker_pos)\n",
    "        #reward = self.seat_handler()\n",
    "        # regardless of the action, game is done after a single step\n",
    "        done = True\n",
    "        info = {}\n",
    "        # We update the state with an image\n",
    "        self.update_game_state()\n",
    "        img = self.get_image_array_from_game()\n",
    "        state=img\n",
    "        return state, reward, done, info\n",
    "    \n",
    "    def worker_step(self,event):   \n",
    "        '''\n",
    "        Takes human keyboard event and then returns it as an action string\n",
    "        '''\n",
    "        action = None\n",
    "        if event.type == pygame.QUIT:\n",
    "            pygame.quit()\n",
    "            sys.exit()\n",
    "            \n",
    "        #Move based on mouse clicks\n",
    "        if event.type == pygame.MOUSEBUTTONDOWN:\n",
    "            print(event)\n",
    "            mouse_x = event.pos[0]\n",
    "            mouse_y = event.pos[1]\n",
    "            self.worker_pos[0]=mouse_x\n",
    "            self.worker_pos[1]=mouse_y\n",
    "            action = 'CLICK'\n",
    "        \n",
    "        #Drag the object when the mouse button is clicked\n",
    "        if event.type == pygame.MOUSEMOTION and event.buttons[0] == 1:\n",
    "            print(event)\n",
    "            mouse_x = event.pos[0]\n",
    "            mouse_y = event.pos[1]\n",
    "            #dragon_rect.centerx = mouse_x\n",
    "            #dragon_rect.centery = mouse_y\n",
    "            self.worker_pos[0]=mouse_x\n",
    "            self.worker_pos[1]=mouse_y\n",
    "            action = 'CLICK'            \n",
    "        \n",
    "        elif event.type == pygame.KEYDOWN:\n",
    "        \n",
    "            # Esc -> Create event to quit the game\n",
    "            if event.key == pygame.K_ESCAPE:\n",
    "                pygame.event.post(pygame.event.Event(pygame.QUIT))                \n",
    "        \n",
    "        \n",
    "        return action    \n",
    "    \n",
    "    def update_game_state(self):\n",
    "        \n",
    "        #We fill the screen to white\n",
    "        self.game_window.fill(WHITE)\n",
    "        \n",
    "        #print(self.worker_pos[0],self.worker_pos[1])\n",
    "        self.worker_rect.x=self.worker_pos[0]\n",
    "        self.worker_rect.y=self.worker_pos[1]\n",
    "        \n",
    "        #Draw rectangles to represent the rect's of each object\n",
    "        pygame.draw.rect(self.game_window, (0, 255, 0), self.target_rect, 1)\n",
    "        pygame.draw.rect(self.game_window, (255, 255, 0), self.worker_rect, 1)\n",
    "        \n",
    "        #Blit assets\n",
    "        self.game_window.blit(target_image, self.target_rect)\n",
    "        self.game_window.blit(worker_image, self.worker_rect)\n",
    "        \n",
    "        \n",
    "    def get_image_array_from_game(self):\n",
    "        img = array3d(display.get_surface())\n",
    "        #Preprocessing of channels ( needed for tensorflow)\n",
    "        img = np.swapaxes(img, 0, 1)\n",
    "        return img    \n",
    "    \n",
    "    def reset(self):\n",
    "        target_pos=random.choice(position_coordinates)\n",
    "        print('Target position',target_pos[0], target_pos[1])\n",
    "        self.target_rect.center = (target_pos[0], target_pos[1])\n",
    "        state = 0\n",
    "        return state\n",
    "    \n",
    "    def move(self,action,worker_pos):\n",
    "        '''\n",
    "        Changes direction based on action input.\n",
    "        Updates Office_pos list to reflect direction change.\n",
    "        '''\n",
    "        if not action:\n",
    "            return worker_pos\n",
    "        if action=='CLICK':\n",
    "            return worker_pos\n",
    "       \n",
    "        return worker_pos    \n",
    "  \n",
    "    def render(self, mode='human'):\n",
    "        if mode == \"human\":\n",
    "            display.update()        \n",
    "    def close(self):\n",
    "        pass"
   ]
  },
  {
   "cell_type": "code",
   "execution_count": 64,
   "id": "a4da1e77",
   "metadata": {},
   "outputs": [
    {
     "name": "stdout",
     "output_type": "stream",
     "text": [
      "Initial position 100 100\n",
      "Target position 150 50\n",
      "action_n 0\n",
      "CLICK\n",
      "[25, 25]\n",
      "Reward = 0 with action = CLICK\n",
      "0 True {}\n"
     ]
    },
    {
     "data": {
      "text/plain": [
       "<matplotlib.image.AxesImage at 0x19e056bc198>"
      ]
     },
     "execution_count": 64,
     "metadata": {},
     "output_type": "execute_result"
    },
    {
     "data": {
      "image/png": "[encoded data removed]",
      "text/plain": [
       "<Figure size 640x480 with 1 Axes>"
      ]
     },
     "metadata": {},
     "output_type": "display_data"
    }
   ],
   "source": [
    "# method 1 - use local test class\n",
    "env = BasicEnv6()\n",
    "env.reset()\n",
    "action_n = env.action_space.sample()\n",
    "print('action_n',action_n)\n",
    "action_key={0:'CLICK'}\n",
    "action=action_key[action_n]\n",
    "print(action)\n",
    "state, reward, done, info = env.step(action)\n",
    "print(\"Reward = {} with action = {}\".format(reward,action))\n",
    "import matplotlib.pyplot as plt\n",
    "print(reward, done, info)\n",
    "plt.figure()\n",
    "plt.imshow(state)"
   ]
  },
  {
   "cell_type": "code",
   "execution_count": 20,
   "id": "906c70ff",
   "metadata": {},
   "outputs": [
    {
     "name": "stdout",
     "output_type": "stream",
     "text": [
      "Initial position 100 100\n",
      "<Event(1025-MouseButtonDown {'pos': (101, 62), 'button': 1, 'touch': False, 'window': None})>\n",
      "[101, 62]\n",
      "Reward = 0 with action = CLICK\n",
      "[101, 62]\n",
      "Reward = 0 with action = CLICK\n",
      "<Event(1025-MouseButtonDown {'pos': (101, 100), 'button': 1, 'touch': False, 'window': None})>\n",
      "[101, 100]\n",
      "Reward = 0 with action = CLICK\n",
      "[101, 100]\n",
      "Reward = 0 with action = CLICK\n",
      "<Event(1025-MouseButtonDown {'pos': (49, 101), 'button': 1, 'touch': False, 'window': None})>\n",
      "[49, 101]\n",
      "Reward = 0 with action = CLICK\n",
      "[49, 101]\n",
      "Reward = 0 with action = CLICK\n",
      "<Event(1025-MouseButtonDown {'pos': (62, 80), 'button': 1, 'touch': False, 'window': None})>\n",
      "[62, 80]\n",
      "Reward = 0 with action = CLICK\n",
      "[62, 80]\n",
      "Reward = 0 with action = CLICK\n",
      "<Event(1025-MouseButtonDown {'pos': (105, 101), 'button': 1, 'touch': False, 'window': None})>\n",
      "[105, 101]\n",
      "Reward = 0 with action = CLICK\n",
      "[105, 101]\n",
      "Reward = 0 with action = CLICK\n",
      "<Event(1025-MouseButtonDown {'pos': (103, 97), 'button': 1, 'touch': False, 'window': None})>\n",
      "[103, 97]\n",
      "Reward = 0 with action = CLICK\n",
      "[103, 97]\n",
      "Reward = 0 with action = CLICK\n",
      "<Event(1025-MouseButtonDown {'pos': (93, 97), 'button': 1, 'touch': False, 'window': None})>\n",
      "[93, 97]\n",
      "Reward = 0 with action = CLICK\n",
      "[93, 97]\n",
      "Reward = 0 with action = CLICK\n",
      "[93, 97]\n",
      "Reward = 0 with action = CLICK\n",
      "<Event(1025-MouseButtonDown {'pos': (38, 24), 'button': 1, 'touch': False, 'window': None})>\n",
      "[38, 24]\n",
      "Reward = 0 with action = CLICK\n",
      "[38, 24]\n",
      "Reward = 0 with action = CLICK\n",
      "[38, 24]\n",
      "Reward = 0 with action = CLICK\n",
      "<Event(1025-MouseButtonDown {'pos': (34, 49), 'button': 1, 'touch': False, 'window': None})>\n",
      "[34, 49]\n",
      "Reward = 0 with action = CLICK\n",
      "[34, 49]\n",
      "Reward = 0 with action = CLICK\n",
      "[34, 49]\n",
      "Reward = 0 with action = CLICK\n",
      "<Event(1025-MouseButtonDown {'pos': (72, 39), 'button': 1, 'touch': False, 'window': None})>\n",
      "[72, 39]\n",
      "Reward = 0 with action = CLICK\n",
      "[72, 39]\n",
      "Reward = 0 with action = CLICK\n",
      "[72, 39]\n",
      "Reward = 0 with action = CLICK\n",
      "<Event(1024-MouseMotion {'pos': (79, 146), 'rel': (7, 107), 'buttons': (1, 0, 0), 'touch': False, 'window': None})>\n",
      "[79, 146]\n",
      "Reward = 0 with action = CLICK\n",
      "<Event(1024-MouseMotion {'pos': (78, 166), 'rel': (-1, 20), 'buttons': (1, 0, 0), 'touch': False, 'window': None})>\n",
      "[78, 166]\n",
      "Reward = 0 with action = CLICK\n",
      "<Event(1024-MouseMotion {'pos': (75, 147), 'rel': (-3, -19), 'buttons': (1, 0, 0), 'touch': False, 'window': None})>\n",
      "[75, 147]\n",
      "Reward = 0 with action = CLICK\n",
      "<Event(1024-MouseMotion {'pos': (77, 167), 'rel': (2, 20), 'buttons': (1, 0, 0), 'touch': False, 'window': None})>\n",
      "[77, 167]\n",
      "Reward = 0 with action = CLICK\n",
      "<Event(1024-MouseMotion {'pos': (66, 177), 'rel': (-11, 10), 'buttons': (1, 0, 0), 'touch': False, 'window': None})>\n",
      "[66, 177]\n",
      "Reward = 0 with action = CLICK\n",
      "<Event(1024-MouseMotion {'pos': (63, 161), 'rel': (-3, -16), 'buttons': (1, 0, 0), 'touch': False, 'window': None})>\n",
      "[63, 161]\n",
      "Reward = 0 with action = CLICK\n",
      "<Event(1024-MouseMotion {'pos': (63, 160), 'rel': (0, -1), 'buttons': (1, 0, 0), 'touch': False, 'window': None})>\n",
      "[63, 160]\n",
      "Reward = 0 with action = CLICK\n",
      "<Event(1024-MouseMotion {'pos': (53, 157), 'rel': (-10, -3), 'buttons': (1, 0, 0), 'touch': False, 'window': None})>\n",
      "[53, 157]\n",
      "Reward = 0 with action = CLICK\n",
      "<Event(1024-MouseMotion {'pos': (55, 143), 'rel': (2, -14), 'buttons': (1, 0, 0), 'touch': False, 'window': None})>\n",
      "[55, 143]\n",
      "Reward = 0 with action = CLICK\n",
      "<Event(1024-MouseMotion {'pos': (48, 129), 'rel': (-7, -14), 'buttons': (1, 0, 0), 'touch': False, 'window': None})>\n",
      "[48, 129]\n",
      "Reward = 0 with action = CLICK\n",
      "<Event(1024-MouseMotion {'pos': (45, 94), 'rel': (-3, -35), 'buttons': (1, 0, 0), 'touch': False, 'window': None})>\n",
      "[45, 94]\n",
      "Reward = 0 with action = CLICK\n",
      "<Event(1024-MouseMotion {'pos': (50, 81), 'rel': (5, -13), 'buttons': (1, 0, 0), 'touch': False, 'window': None})>\n",
      "[50, 81]\n",
      "Reward = 0 with action = CLICK\n",
      "<Event(1025-MouseButtonDown {'pos': (50, 81), 'button': 1, 'touch': False, 'window': None})>\n",
      "[50, 81]\n",
      "Reward = 0 with action = CLICK\n",
      "[50, 81]\n",
      "Reward = 0 with action = CLICK\n",
      "<Event(1025-MouseButtonDown {'pos': (107, 69), 'button': 1, 'touch': False, 'window': None})>\n",
      "[107, 69]\n",
      "Reward = 0 with action = CLICK\n",
      "[107, 69]\n",
      "Reward = 0 with action = CLICK\n",
      "<Event(1025-MouseButtonDown {'pos': (92, 132), 'button': 1, 'touch': False, 'window': None})>\n",
      "[92, 132]\n",
      "Reward = 0 with action = CLICK\n",
      "[92, 132]\n",
      "Reward = 0 with action = CLICK\n",
      "[92, 132]\n",
      "Reward = 0 with action = CLICK\n",
      "<Event(1025-MouseButtonDown {'pos': (102, 59), 'button': 1, 'touch': False, 'window': None})>\n",
      "[102, 59]\n",
      "Reward = 0 with action = CLICK\n",
      "[102, 59]\n",
      "Reward = 0 with action = CLICK\n"
     ]
    },
    {
     "ename": "SystemExit",
     "evalue": "",
     "output_type": "error",
     "traceback": [
      "An exception has occurred, use %tb to see the full traceback.\n",
      "\u001b[1;31mSystemExit\u001b[0m\n"
     ]
    }
   ],
   "source": [
    "import sys\n",
    "env = BasicEnv6()\n",
    "# This is technically a FPS Refresh rate\n",
    "FPS = 10\n",
    "# FPS (frames per second) controller\n",
    "fps_controller = pygame.time.Clock()\n",
    "# Checks for errors encountered\n",
    "check_errors = pygame.init()\n",
    "# Initialise game window\n",
    "pygame.display.set_caption('Testing Game') \n",
    "#The main game loop\n",
    "running = True\n",
    "while running:\n",
    "    # Check Input from Human Step \n",
    "    for event in pygame.event.get():\n",
    "        action = env.worker_step(event)    \n",
    "        if event.type == pygame.QUIT:\n",
    "            running = False\n",
    "    state, reward, done, info = env.step(action)\n",
    "    \n",
    "    if action != None:\n",
    "        print(\"Reward = {} with action = {}\".format(reward,action))    \n",
    "\n",
    "    # Refresh game screen\n",
    "    pygame.display.update()\n",
    "    # Refresh rate\n",
    "    fps_controller.tick(FPS)\n",
    "    img = array3d(env.game_window)"
   ]
  },
  {
   "cell_type": "markdown",
   "id": "8b04de08",
   "metadata": {},
   "source": [
    "# Part 3 - Definition of the Action Space\n",
    "\n",
    "In this part we are interested to define the action space, i.e. all the posibilities allowed for an action.\n",
    "To do this we should define inse the __init__ class the space.\n"
   ]
  },
  {
   "cell_type": "code",
   "execution_count": null,
   "id": "b557b1ce",
   "metadata": {},
   "outputs": [],
   "source": [
    "import gym\n",
    "from gym import spaces\n",
    "import numpy as np\n",
    "\n",
    "import pygame\n",
    "from pygame import display\n",
    "from pygame.surfarray import array3d\n",
    "import random\n",
    "\n",
    "BLACK = pygame.Color(0, 0, 0)\n",
    "WHITE = pygame.Color(255, 255, 255)\n",
    "RED = pygame.Color(255, 0, 0)\n",
    "GREEN = pygame.Color(0, 255, 0)\n",
    "BLUE = pygame.Color(0, 0, 255)\n",
    "\n",
    "#Load images\n",
    "worker_image = pygame.image.load(\"point_blue.png\")\n",
    "#To the image we assing a kind of gym object\n",
    "worker_rect = worker_image.get_rect()\n",
    "worker_pos=[25,25]\n",
    "# Moreover we add a position in the screen display\n",
    "worker_rect.center = (worker_pos[0], worker_pos[1])\n",
    "\n",
    "#Target image and position\n",
    "position_coordinates=[(50,50),\n",
    "                      (100,50),\n",
    "                      (150,50)]\n",
    "\n",
    "target_image = pygame.image.load(\"point_red.png\")\n",
    "\n",
    "class BasicEnv7(gym.Env):\n",
    "    metadata = {'render.modes': ['human']}\n",
    "\n",
    "    def __init__(self):\n",
    "        # There are two actions, first will get reward of 1, second reward of -1. \n",
    "        self.action_space = spaces.Discrete(1)\n",
    "        self.observation_space = spaces.Discrete(2)\n",
    "        \n",
    "        # We inizialize the display\n",
    "        self.frame_size_x = 200\n",
    "        self.frame_size_y = 200\n",
    "        self.game_window = pygame.display.set_mode((self.frame_size_x, self.frame_size_y))   \n",
    "        self.worker_pos=[25,25]\n",
    "        \n",
    "        #Load images\n",
    "        self.worker_image = pygame.image.load(\"point_blue.png\")\n",
    "        #To the image we assing a kind of gym object\n",
    "        self.worker_rect = worker_image.get_rect()\n",
    "        self.worker_pos=[25,25]\n",
    "        # Moreover we add a position in the screen display\n",
    "        self.worker_rect.center = (worker_pos[0], worker_pos[1])\n",
    "        \n",
    "        self.target_image = pygame.image.load(\"point_red.png\")\n",
    "        self.target_rect = target_image.get_rect()\n",
    "        print('Initial position',100,100)\n",
    "        self.target_rect.center = (100, 100)\n",
    "        \n",
    "    def step(self, action):\n",
    "        reward = 0\n",
    "        self.worker_pos = self.move(action, self.worker_pos)\n",
    "        if action != None:\n",
    "            print(self.worker_pos)\n",
    "        #reward = self.seat_handler()\n",
    "        # regardless of the action, game is done after a single step\n",
    "        done = True\n",
    "        info = {}\n",
    "        # We update the state with an image\n",
    "        self.update_game_state()\n",
    "        img = self.get_image_array_from_game()\n",
    "        state=img\n",
    "        return state, reward, done, info\n",
    "    \n",
    "    def worker_step(self,event):   \n",
    "        '''\n",
    "        Takes human keyboard event and then returns it as an action string\n",
    "        '''\n",
    "        action = None\n",
    "        if event.type == pygame.QUIT:\n",
    "            pygame.quit()\n",
    "            sys.exit()\n",
    "            \n",
    "        #Move based on mouse clicks\n",
    "        if event.type == pygame.MOUSEBUTTONDOWN:\n",
    "            print(event)\n",
    "            mouse_x = event.pos[0]\n",
    "            mouse_y = event.pos[1]\n",
    "            self.worker_pos[0]=mouse_x\n",
    "            self.worker_pos[1]=mouse_y\n",
    "            action = 'CLICK'\n",
    "        \n",
    "        #Drag the object when the mouse button is clicked\n",
    "        if event.type == pygame.MOUSEMOTION and event.buttons[0] == 1:\n",
    "            print(event)\n",
    "            mouse_x = event.pos[0]\n",
    "            mouse_y = event.pos[1]\n",
    "            #dragon_rect.centerx = mouse_x\n",
    "            #dragon_rect.centery = mouse_y\n",
    "            self.worker_pos[0]=mouse_x\n",
    "            self.worker_pos[1]=mouse_y\n",
    "            action = 'CLICK'            \n",
    "        \n",
    "        elif event.type == pygame.KEYDOWN:\n",
    "        \n",
    "            # Esc -> Create event to quit the game\n",
    "            if event.key == pygame.K_ESCAPE:\n",
    "                pygame.event.post(pygame.event.Event(pygame.QUIT))                \n",
    "        \n",
    "        \n",
    "        return action    \n",
    "    \n",
    "    def update_game_state(self):\n",
    "        \n",
    "        #We fill the screen to white\n",
    "        self.game_window.fill(WHITE)\n",
    "        \n",
    "        #print(self.worker_pos[0],self.worker_pos[1])\n",
    "        self.worker_rect.x=self.worker_pos[0]\n",
    "        self.worker_rect.y=self.worker_pos[1]\n",
    "        \n",
    "        #Draw rectangles to represent the rect's of each object\n",
    "        pygame.draw.rect(self.game_window, (0, 255, 0), self.target_rect, 1)\n",
    "        pygame.draw.rect(self.game_window, (255, 255, 0), self.worker_rect, 1)\n",
    "        \n",
    "        #Blit assets\n",
    "        self.game_window.blit(target_image, self.target_rect)\n",
    "        self.game_window.blit(worker_image, self.worker_rect)\n",
    "        \n",
    "        \n",
    "    def get_image_array_from_game(self):\n",
    "        img = array3d(display.get_surface())\n",
    "        #Preprocessing of channels ( needed for tensorflow)\n",
    "        img = np.swapaxes(img, 0, 1)\n",
    "        return img    \n",
    "    \n",
    "    def reset(self):\n",
    "        target_pos=random.choice(position_coordinates)\n",
    "        print('Target position',target_pos[0], target_pos[1])\n",
    "        self.target_rect.center = (target_pos[0], target_pos[1])\n",
    "        state = 0\n",
    "        return state\n",
    "    \n",
    "    def move(self,action,worker_pos):\n",
    "        '''\n",
    "        Changes direction based on action input.\n",
    "        Updates Office_pos list to reflect direction change.\n",
    "        '''\n",
    "        if not action:\n",
    "            return worker_pos\n",
    "        if action=='CLICK':\n",
    "            return worker_pos\n",
    "       \n",
    "        return worker_pos    \n",
    "  \n",
    "    def render(self, mode='human'):\n",
    "        if mode == \"human\":\n",
    "            display.update()        \n",
    "    def close(self):\n",
    "        pass"
   ]
  },
  {
   "cell_type": "code",
   "execution_count": null,
   "id": "cb3a6559",
   "metadata": {},
   "outputs": [],
   "source": []
  },
  {
   "cell_type": "code",
   "execution_count": 58,
   "id": "e3d351ec",
   "metadata": {},
   "outputs": [],
   "source": [
    "import itertools\n",
    "max_sit = 10\n",
    "permutation_num = [1, 2, 3, 4, 5, 6]\n",
    "permutation = [p for p in itertools.product(permutation_num, repeat=3)]\n",
    "cardinality = len(permutation)\n"
   ]
  },
  {
   "cell_type": "code",
   "execution_count": 59,
   "id": "02426f15",
   "metadata": {},
   "outputs": [
    {
     "data": {
      "text/plain": [
       "216"
      ]
     },
     "execution_count": 59,
     "metadata": {},
     "output_type": "execute_result"
    }
   ],
   "source": [
    "len(permutation)"
   ]
  },
  {
   "cell_type": "code",
   "execution_count": 60,
   "id": "f78d2d86",
   "metadata": {},
   "outputs": [
    {
     "data": {
      "text/plain": [
       "[(1, 1, 1),\n",
       " (1, 1, 2),\n",
       " (1, 1, 3),\n",
       " (1, 1, 4),\n",
       " (1, 1, 5),\n",
       " (1, 1, 6),\n",
       " (1, 2, 1),\n",
       " (1, 2, 2),\n",
       " (1, 2, 3),\n",
       " (1, 2, 4),\n",
       " (1, 2, 5),\n",
       " (1, 2, 6),\n",
       " (1, 3, 1),\n",
       " (1, 3, 2),\n",
       " (1, 3, 3),\n",
       " (1, 3, 4),\n",
       " (1, 3, 5),\n",
       " (1, 3, 6),\n",
       " (1, 4, 1),\n",
       " (1, 4, 2),\n",
       " (1, 4, 3),\n",
       " (1, 4, 4),\n",
       " (1, 4, 5),\n",
       " (1, 4, 6),\n",
       " (1, 5, 1),\n",
       " (1, 5, 2),\n",
       " (1, 5, 3),\n",
       " (1, 5, 4),\n",
       " (1, 5, 5),\n",
       " (1, 5, 6),\n",
       " (1, 6, 1),\n",
       " (1, 6, 2),\n",
       " (1, 6, 3),\n",
       " (1, 6, 4),\n",
       " (1, 6, 5),\n",
       " (1, 6, 6),\n",
       " (2, 1, 1),\n",
       " (2, 1, 2),\n",
       " (2, 1, 3),\n",
       " (2, 1, 4),\n",
       " (2, 1, 5),\n",
       " (2, 1, 6),\n",
       " (2, 2, 1),\n",
       " (2, 2, 2),\n",
       " (2, 2, 3),\n",
       " (2, 2, 4),\n",
       " (2, 2, 5),\n",
       " (2, 2, 6),\n",
       " (2, 3, 1),\n",
       " (2, 3, 2),\n",
       " (2, 3, 3),\n",
       " (2, 3, 4),\n",
       " (2, 3, 5),\n",
       " (2, 3, 6),\n",
       " (2, 4, 1),\n",
       " (2, 4, 2),\n",
       " (2, 4, 3),\n",
       " (2, 4, 4),\n",
       " (2, 4, 5),\n",
       " (2, 4, 6),\n",
       " (2, 5, 1),\n",
       " (2, 5, 2),\n",
       " (2, 5, 3),\n",
       " (2, 5, 4),\n",
       " (2, 5, 5),\n",
       " (2, 5, 6),\n",
       " (2, 6, 1),\n",
       " (2, 6, 2),\n",
       " (2, 6, 3),\n",
       " (2, 6, 4),\n",
       " (2, 6, 5),\n",
       " (2, 6, 6),\n",
       " (3, 1, 1),\n",
       " (3, 1, 2),\n",
       " (3, 1, 3),\n",
       " (3, 1, 4),\n",
       " (3, 1, 5),\n",
       " (3, 1, 6),\n",
       " (3, 2, 1),\n",
       " (3, 2, 2),\n",
       " (3, 2, 3),\n",
       " (3, 2, 4),\n",
       " (3, 2, 5),\n",
       " (3, 2, 6),\n",
       " (3, 3, 1),\n",
       " (3, 3, 2),\n",
       " (3, 3, 3),\n",
       " (3, 3, 4),\n",
       " (3, 3, 5),\n",
       " (3, 3, 6),\n",
       " (3, 4, 1),\n",
       " (3, 4, 2),\n",
       " (3, 4, 3),\n",
       " (3, 4, 4),\n",
       " (3, 4, 5),\n",
       " (3, 4, 6),\n",
       " (3, 5, 1),\n",
       " (3, 5, 2),\n",
       " (3, 5, 3),\n",
       " (3, 5, 4),\n",
       " (3, 5, 5),\n",
       " (3, 5, 6),\n",
       " (3, 6, 1),\n",
       " (3, 6, 2),\n",
       " (3, 6, 3),\n",
       " (3, 6, 4),\n",
       " (3, 6, 5),\n",
       " (3, 6, 6),\n",
       " (4, 1, 1),\n",
       " (4, 1, 2),\n",
       " (4, 1, 3),\n",
       " (4, 1, 4),\n",
       " (4, 1, 5),\n",
       " (4, 1, 6),\n",
       " (4, 2, 1),\n",
       " (4, 2, 2),\n",
       " (4, 2, 3),\n",
       " (4, 2, 4),\n",
       " (4, 2, 5),\n",
       " (4, 2, 6),\n",
       " (4, 3, 1),\n",
       " (4, 3, 2),\n",
       " (4, 3, 3),\n",
       " (4, 3, 4),\n",
       " (4, 3, 5),\n",
       " (4, 3, 6),\n",
       " (4, 4, 1),\n",
       " (4, 4, 2),\n",
       " (4, 4, 3),\n",
       " (4, 4, 4),\n",
       " (4, 4, 5),\n",
       " (4, 4, 6),\n",
       " (4, 5, 1),\n",
       " (4, 5, 2),\n",
       " (4, 5, 3),\n",
       " (4, 5, 4),\n",
       " (4, 5, 5),\n",
       " (4, 5, 6),\n",
       " (4, 6, 1),\n",
       " (4, 6, 2),\n",
       " (4, 6, 3),\n",
       " (4, 6, 4),\n",
       " (4, 6, 5),\n",
       " (4, 6, 6),\n",
       " (5, 1, 1),\n",
       " (5, 1, 2),\n",
       " (5, 1, 3),\n",
       " (5, 1, 4),\n",
       " (5, 1, 5),\n",
       " (5, 1, 6),\n",
       " (5, 2, 1),\n",
       " (5, 2, 2),\n",
       " (5, 2, 3),\n",
       " (5, 2, 4),\n",
       " (5, 2, 5),\n",
       " (5, 2, 6),\n",
       " (5, 3, 1),\n",
       " (5, 3, 2),\n",
       " (5, 3, 3),\n",
       " (5, 3, 4),\n",
       " (5, 3, 5),\n",
       " (5, 3, 6),\n",
       " (5, 4, 1),\n",
       " (5, 4, 2),\n",
       " (5, 4, 3),\n",
       " (5, 4, 4),\n",
       " (5, 4, 5),\n",
       " (5, 4, 6),\n",
       " (5, 5, 1),\n",
       " (5, 5, 2),\n",
       " (5, 5, 3),\n",
       " (5, 5, 4),\n",
       " (5, 5, 5),\n",
       " (5, 5, 6),\n",
       " (5, 6, 1),\n",
       " (5, 6, 2),\n",
       " (5, 6, 3),\n",
       " (5, 6, 4),\n",
       " (5, 6, 5),\n",
       " (5, 6, 6),\n",
       " (6, 1, 1),\n",
       " (6, 1, 2),\n",
       " (6, 1, 3),\n",
       " (6, 1, 4),\n",
       " (6, 1, 5),\n",
       " (6, 1, 6),\n",
       " (6, 2, 1),\n",
       " (6, 2, 2),\n",
       " (6, 2, 3),\n",
       " (6, 2, 4),\n",
       " (6, 2, 5),\n",
       " (6, 2, 6),\n",
       " (6, 3, 1),\n",
       " (6, 3, 2),\n",
       " (6, 3, 3),\n",
       " (6, 3, 4),\n",
       " (6, 3, 5),\n",
       " (6, 3, 6),\n",
       " (6, 4, 1),\n",
       " (6, 4, 2),\n",
       " (6, 4, 3),\n",
       " (6, 4, 4),\n",
       " (6, 4, 5),\n",
       " (6, 4, 6),\n",
       " (6, 5, 1),\n",
       " (6, 5, 2),\n",
       " (6, 5, 3),\n",
       " (6, 5, 4),\n",
       " (6, 5, 5),\n",
       " (6, 5, 6),\n",
       " (6, 6, 1),\n",
       " (6, 6, 2),\n",
       " (6, 6, 3),\n",
       " (6, 6, 4),\n",
       " (6, 6, 5),\n",
       " (6, 6, 6)]"
      ]
     },
     "execution_count": 60,
     "metadata": {},
     "output_type": "execute_result"
    }
   ],
   "source": [
    "permutation"
   ]
  },
  {
   "cell_type": "code",
   "execution_count": null,
   "id": "9ee958db",
   "metadata": {},
   "outputs": [],
   "source": []
  },
  {
   "cell_type": "code",
   "execution_count": 28,
   "id": "92439d1c",
   "metadata": {},
   "outputs": [],
   "source": [
    "action_space = gym.spaces.Discrete(cardinality)"
   ]
  },
  {
   "cell_type": "code",
   "execution_count": 30,
   "id": "a9c8b3b1",
   "metadata": {},
   "outputs": [],
   "source": [
    "observation_space = gym.spaces.Dict(\n",
    "    {\"x_position\": gym.spaces.Box(low=0, high=6, shape=(max_sit,), dtype=np.uint8),\n",
    "     \"y_position\": gym.spaces.Box(low=0, high=6, shape=(max_sit,), dtype=np.uint8),\n",
    "     \"cluster\": gym.spaces.Box(low=0, high=6, shape=(max_sit,), dtype=np.uint8),\n",
    "     \"project\": gym.spaces.Box(low=0, high=6, shape=(max_sit,), dtype=np.uint8),\n",
    "     \"energy_consumption\": gym.spaces.Box(low=0, high=1, shape=(max_sit,)),\n",
    "     \"emp_project\": gym.spaces.Box(low=0, high=6, shape=(1,), dtype=np.int32),\n",
    "     \"emp_energy_consumption\": gym.spaces.Box(low=0.0, high=1.0, shape=(1,), dtype=np.float32)\n",
    "     }\n",
    "        )"
   ]
  },
  {
   "cell_type": "code",
   "execution_count": 39,
   "id": "18396e39",
   "metadata": {},
   "outputs": [
    {
     "data": {
      "text/plain": [
       "73"
      ]
     },
     "execution_count": 39,
     "metadata": {},
     "output_type": "execute_result"
    }
   ],
   "source": [
    "action_space.sample()"
   ]
  },
  {
   "cell_type": "code",
   "execution_count": 62,
   "id": "76b8cd41",
   "metadata": {},
   "outputs": [
    {
     "data": {
      "text/plain": [
       "OrderedDict([('cluster', array([0, 5, 6, 5, 2, 2, 5, 1, 1, 4], dtype=uint8)),\n",
       "             ('emp_energy_consumption', array([0.50524443], dtype=float32)),\n",
       "             ('emp_project', array([3])),\n",
       "             ('energy_consumption',\n",
       "              array([0.36610463, 0.11285978, 0.1599028 , 0.5271701 , 0.2904107 ,\n",
       "                     0.20655759, 0.4966377 , 0.7428235 , 0.58080435, 0.2606677 ],\n",
       "                    dtype=float32)),\n",
       "             ('project', array([0, 2, 1, 3, 6, 5, 1, 6, 6, 0], dtype=uint8)),\n",
       "             ('x_position',\n",
       "              array([3, 1, 0, 2, 5, 0, 4, 1, 0, 3], dtype=uint8)),\n",
       "             ('y_position',\n",
       "              array([3, 5, 3, 0, 3, 0, 2, 5, 2, 0], dtype=uint8))])"
      ]
     },
     "execution_count": 62,
     "metadata": {},
     "output_type": "execute_result"
    }
   ],
   "source": [
    "observation_space.sample()"
   ]
  },
  {
   "cell_type": "code",
   "execution_count": 1,
   "id": "0d0d0312",
   "metadata": {},
   "outputs": [],
   "source": [
    "import pandas as pd"
   ]
  },
  {
   "cell_type": "code",
   "execution_count": 2,
   "id": "5ee364b7",
   "metadata": {},
   "outputs": [],
   "source": [
    "#!dir"
   ]
  },
  {
   "cell_type": "code",
   "execution_count": 3,
   "id": "7cb444a6",
   "metadata": {},
   "outputs": [],
   "source": [
    "df= pd.read_csv(\"test_dataset.csv\")"
   ]
  },
  {
   "cell_type": "code",
   "execution_count": 4,
   "id": "274887e6",
   "metadata": {},
   "outputs": [],
   "source": [
    "##project\n",
    "#energy_consumption"
   ]
  },
  {
   "cell_type": "code",
   "execution_count": null,
   "id": "c3542a82",
   "metadata": {},
   "outputs": [],
   "source": []
  },
  {
   "cell_type": "code",
   "execution_count": 5,
   "id": "9d2ed2df",
   "metadata": {},
   "outputs": [
    {
     "data": {
      "text/html": [
       "<div>\n",
       "<style scoped>\n",
       "    .dataframe tbody tr th:only-of-type {\n",
       "        vertical-align: middle;\n",
       "    }\n",
       "\n",
       "    .dataframe tbody tr th {\n",
       "        vertical-align: top;\n",
       "    }\n",
       "\n",
       "    .dataframe thead th {\n",
       "        text-align: right;\n",
       "    }\n",
       "</style>\n",
       "<table border=\"1\" class=\"dataframe\">\n",
       "  <thead>\n",
       "    <tr style=\"text-align: right;\">\n",
       "      <th></th>\n",
       "      <th>x_coord</th>\n",
       "      <th>y_coord</th>\n",
       "      <th>building</th>\n",
       "      <th>floor</th>\n",
       "      <th>seat_id</th>\n",
       "      <th>island</th>\n",
       "    </tr>\n",
       "  </thead>\n",
       "  <tbody>\n",
       "    <tr>\n",
       "      <th>0</th>\n",
       "      <td>18.0</td>\n",
       "      <td>694.0</td>\n",
       "      <td>bari</td>\n",
       "      <td>floor_1</td>\n",
       "      <td>0</td>\n",
       "      <td>7</td>\n",
       "    </tr>\n",
       "    <tr>\n",
       "      <th>1</th>\n",
       "      <td>521.0</td>\n",
       "      <td>311.0</td>\n",
       "      <td>bari</td>\n",
       "      <td>floor_1</td>\n",
       "      <td>1</td>\n",
       "      <td>3</td>\n",
       "    </tr>\n",
       "    <tr>\n",
       "      <th>2</th>\n",
       "      <td>188.0</td>\n",
       "      <td>298.0</td>\n",
       "      <td>bari</td>\n",
       "      <td>floor_1</td>\n",
       "      <td>2</td>\n",
       "      <td>9</td>\n",
       "    </tr>\n",
       "    <tr>\n",
       "      <th>3</th>\n",
       "      <td>557.0</td>\n",
       "      <td>294.0</td>\n",
       "      <td>bari</td>\n",
       "      <td>floor_1</td>\n",
       "      <td>3</td>\n",
       "      <td>3</td>\n",
       "    </tr>\n",
       "    <tr>\n",
       "      <th>4</th>\n",
       "      <td>423.0</td>\n",
       "      <td>290.0</td>\n",
       "      <td>bari</td>\n",
       "      <td>floor_1</td>\n",
       "      <td>4</td>\n",
       "      <td>2</td>\n",
       "    </tr>\n",
       "  </tbody>\n",
       "</table>\n",
       "</div>"
      ],
      "text/plain": [
       "   x_coord  y_coord building    floor  seat_id  island\n",
       "0     18.0    694.0     bari  floor_1        0       7\n",
       "1    521.0    311.0     bari  floor_1        1       3\n",
       "2    188.0    298.0     bari  floor_1        2       9\n",
       "3    557.0    294.0     bari  floor_1        3       3\n",
       "4    423.0    290.0     bari  floor_1        4       2"
      ]
     },
     "execution_count": 5,
     "metadata": {},
     "output_type": "execute_result"
    }
   ],
   "source": [
    "df.head()"
   ]
  },
  {
   "cell_type": "code",
   "execution_count": 68,
   "id": "e69bb177",
   "metadata": {},
   "outputs": [
    {
     "data": {
      "text/plain": [
       "(999, 6)"
      ]
     },
     "execution_count": 68,
     "metadata": {},
     "output_type": "execute_result"
    }
   ],
   "source": [
    "df.shape"
   ]
  },
  {
   "cell_type": "code",
   "execution_count": 6,
   "id": "87e53240",
   "metadata": {},
   "outputs": [],
   "source": [
    "import numpy as np\n",
    "df['project'] = np.random.randint(1, 6, df.shape[0])"
   ]
  },
  {
   "cell_type": "code",
   "execution_count": 7,
   "id": "7a3c6a4a",
   "metadata": {},
   "outputs": [],
   "source": [
    "import numpy as np\n",
    "df['energy_consumption'] = np.random.randint(1, 6, df.shape[0])"
   ]
  },
  {
   "cell_type": "code",
   "execution_count": 8,
   "id": "facf78ec",
   "metadata": {},
   "outputs": [],
   "source": [
    "import numpy as np\n",
    "df['emp_project'] = np.random.randint(1, 6, df.shape[0])"
   ]
  },
  {
   "cell_type": "code",
   "execution_count": 10,
   "id": "846741d6",
   "metadata": {},
   "outputs": [],
   "source": [
    "df['emp_energy_consumption'] = np.random.randint(1, 6, df.shape[0])"
   ]
  },
  {
   "cell_type": "code",
   "execution_count": null,
   "id": "adf98757",
   "metadata": {},
   "outputs": [],
   "source": []
  },
  {
   "cell_type": "code",
   "execution_count": 11,
   "id": "b2a0c5ec",
   "metadata": {},
   "outputs": [
    {
     "data": {
      "text/html": [
       "<div>\n",
       "<style scoped>\n",
       "    .dataframe tbody tr th:only-of-type {\n",
       "        vertical-align: middle;\n",
       "    }\n",
       "\n",
       "    .dataframe tbody tr th {\n",
       "        vertical-align: top;\n",
       "    }\n",
       "\n",
       "    .dataframe thead th {\n",
       "        text-align: right;\n",
       "    }\n",
       "</style>\n",
       "<table border=\"1\" class=\"dataframe\">\n",
       "  <thead>\n",
       "    <tr style=\"text-align: right;\">\n",
       "      <th></th>\n",
       "      <th>x_coord</th>\n",
       "      <th>y_coord</th>\n",
       "      <th>building</th>\n",
       "      <th>floor</th>\n",
       "      <th>seat_id</th>\n",
       "      <th>island</th>\n",
       "      <th>project</th>\n",
       "      <th>energy_consumption</th>\n",
       "      <th>emp_project</th>\n",
       "      <th>emp_energy_consumption</th>\n",
       "    </tr>\n",
       "  </thead>\n",
       "  <tbody>\n",
       "    <tr>\n",
       "      <th>0</th>\n",
       "      <td>18.0</td>\n",
       "      <td>694.0</td>\n",
       "      <td>bari</td>\n",
       "      <td>floor_1</td>\n",
       "      <td>0</td>\n",
       "      <td>7</td>\n",
       "      <td>5</td>\n",
       "      <td>1</td>\n",
       "      <td>5</td>\n",
       "      <td>4</td>\n",
       "    </tr>\n",
       "    <tr>\n",
       "      <th>1</th>\n",
       "      <td>521.0</td>\n",
       "      <td>311.0</td>\n",
       "      <td>bari</td>\n",
       "      <td>floor_1</td>\n",
       "      <td>1</td>\n",
       "      <td>3</td>\n",
       "      <td>4</td>\n",
       "      <td>3</td>\n",
       "      <td>4</td>\n",
       "      <td>4</td>\n",
       "    </tr>\n",
       "    <tr>\n",
       "      <th>2</th>\n",
       "      <td>188.0</td>\n",
       "      <td>298.0</td>\n",
       "      <td>bari</td>\n",
       "      <td>floor_1</td>\n",
       "      <td>2</td>\n",
       "      <td>9</td>\n",
       "      <td>1</td>\n",
       "      <td>3</td>\n",
       "      <td>5</td>\n",
       "      <td>3</td>\n",
       "    </tr>\n",
       "    <tr>\n",
       "      <th>3</th>\n",
       "      <td>557.0</td>\n",
       "      <td>294.0</td>\n",
       "      <td>bari</td>\n",
       "      <td>floor_1</td>\n",
       "      <td>3</td>\n",
       "      <td>3</td>\n",
       "      <td>5</td>\n",
       "      <td>4</td>\n",
       "      <td>2</td>\n",
       "      <td>2</td>\n",
       "    </tr>\n",
       "    <tr>\n",
       "      <th>4</th>\n",
       "      <td>423.0</td>\n",
       "      <td>290.0</td>\n",
       "      <td>bari</td>\n",
       "      <td>floor_1</td>\n",
       "      <td>4</td>\n",
       "      <td>2</td>\n",
       "      <td>4</td>\n",
       "      <td>5</td>\n",
       "      <td>1</td>\n",
       "      <td>5</td>\n",
       "    </tr>\n",
       "  </tbody>\n",
       "</table>\n",
       "</div>"
      ],
      "text/plain": [
       "   x_coord  y_coord building    floor  seat_id  island  project  \\\n",
       "0     18.0    694.0     bari  floor_1        0       7        5   \n",
       "1    521.0    311.0     bari  floor_1        1       3        4   \n",
       "2    188.0    298.0     bari  floor_1        2       9        1   \n",
       "3    557.0    294.0     bari  floor_1        3       3        5   \n",
       "4    423.0    290.0     bari  floor_1        4       2        4   \n",
       "\n",
       "   energy_consumption  emp_project  emp_energy_consumption  \n",
       "0                   1            5                       4  \n",
       "1                   3            4                       4  \n",
       "2                   3            5                       3  \n",
       "3                   4            2                       2  \n",
       "4                   5            1                       5  "
      ]
     },
     "execution_count": 11,
     "metadata": {},
     "output_type": "execute_result"
    }
   ],
   "source": [
    "df.head()"
   ]
  },
  {
   "cell_type": "code",
   "execution_count": 13,
   "id": "519aec8a",
   "metadata": {},
   "outputs": [],
   "source": [
    "import gym"
   ]
  },
  {
   "cell_type": "code",
   "execution_count": 14,
   "id": "57fc1c20",
   "metadata": {},
   "outputs": [
    {
     "data": {
      "text/plain": [
       "Box(0, 6, (5,), uint8)"
      ]
     },
     "execution_count": 14,
     "metadata": {},
     "output_type": "execute_result"
    }
   ],
   "source": [
    "gym.spaces.Box(low=0, high=6, shape=(5,), dtype=np.uint8)"
   ]
  },
  {
   "cell_type": "code",
   "execution_count": 16,
   "id": "72e02811",
   "metadata": {},
   "outputs": [],
   "source": [
    "observation_space = gym.spaces.Dict(\n",
    "    {\"x_position\": gym.spaces.Box(low=0, high=6, shape=(10,), dtype=np.uint8),\n",
    "     }\n",
    "        )"
   ]
  },
  {
   "cell_type": "code",
   "execution_count": 24,
   "id": "9963ee0a",
   "metadata": {
    "scrolled": true
   },
   "outputs": [
    {
     "data": {
      "text/plain": [
       "OrderedDict([('x_position',\n",
       "              array([1, 3, 3, 5, 0, 5, 0, 5, 0, 0], dtype=uint8))])"
      ]
     },
     "execution_count": 24,
     "metadata": {},
     "output_type": "execute_result"
    }
   ],
   "source": [
    "observation_space.sample()"
   ]
  },
  {
   "cell_type": "code",
   "execution_count": 34,
   "id": "6d57f15e",
   "metadata": {},
   "outputs": [],
   "source": [
    "from gym.spaces import Dict, Discrete\n"
   ]
  },
  {
   "cell_type": "code",
   "execution_count": 56,
   "id": "0fe19827",
   "metadata": {},
   "outputs": [
    {
     "ename": "TypeError",
     "evalue": "'module' object is not callable",
     "output_type": "error",
     "traceback": [
      "\u001b[1;31m---------------------------------------------------------------------------\u001b[0m",
      "\u001b[1;31mTypeError\u001b[0m                                 Traceback (most recent call last)",
      "\u001b[1;32m~\\AppData\\Local\\Temp\\ipykernel_16724\\1168321532.py\u001b[0m in \u001b[0;36m<module>\u001b[1;34m\u001b[0m\n\u001b[1;32m----> 1\u001b[1;33m \u001b[0maction_space\u001b[0m \u001b[1;33m=\u001b[0m \u001b[0mgym\u001b[0m\u001b[1;33m.\u001b[0m\u001b[0mspaces\u001b[0m\u001b[1;33m.\u001b[0m\u001b[0mtuple\u001b[0m\u001b[1;33m(\u001b[0m\u001b[1;33m[\u001b[0m\u001b[1;36m1\u001b[0m\u001b[1;33m]\u001b[0m\u001b[1;33m)\u001b[0m\u001b[1;33m\u001b[0m\u001b[0m\n\u001b[0m",
      "\u001b[1;31mTypeError\u001b[0m: 'module' object is not callable"
     ]
    }
   ],
   "source": [
    "\n",
    "action_space = gym.spaces.tuple([1])"
   ]
  },
  {
   "cell_type": "code",
   "execution_count": 55,
   "id": "06cc78cd",
   "metadata": {},
   "outputs": [
    {
     "data": {
      "text/plain": [
       "array([-0.9240274], dtype=float32)"
      ]
     },
     "execution_count": 55,
     "metadata": {},
     "output_type": "execute_result"
    }
   ],
   "source": [
    "action_space.sample()"
   ]
  },
  {
   "cell_type": "code",
   "execution_count": 19,
   "id": "8da17eb5",
   "metadata": {},
   "outputs": [],
   "source": [
    "s_array = df[[\"x_coord\"]].to_numpy()"
   ]
  },
  {
   "cell_type": "code",
   "execution_count": 40,
   "id": "62e84ac1",
   "metadata": {},
   "outputs": [],
   "source": [
    "observation_space = gym.spaces.Dict(\n",
    "    {\"x_position\": gym.spaces.Box(low=0, high=6, shape=(10,), dtype=np.uint8),\n",
    "     }\n",
    "        )"
   ]
  },
  {
   "cell_type": "code",
   "execution_count": 22,
   "id": "2fcd30d4",
   "metadata": {},
   "outputs": [
    {
     "data": {
      "text/plain": [
       "['Space',\n",
       " 'Tuple',\n",
       " '__builtins__',\n",
       " '__cached__',\n",
       " '__doc__',\n",
       " '__file__',\n",
       " '__loader__',\n",
       " '__name__',\n",
       " '__package__',\n",
       " '__spec__',\n",
       " 'np']"
      ]
     },
     "execution_count": 22,
     "metadata": {},
     "output_type": "execute_result"
    }
   ],
   "source": [
    "dir(gym.spaces.tuple)\n"
   ]
  },
  {
   "cell_type": "code",
   "execution_count": 21,
   "id": "295512b1",
   "metadata": {},
   "outputs": [
    {
     "data": {
      "text/plain": [
       "['Box',\n",
       " 'Dict',\n",
       " 'Discrete',\n",
       " 'MultiBinary',\n",
       " 'MultiDiscrete',\n",
       " 'Space',\n",
       " 'Tuple',\n",
       " '__all__',\n",
       " '__builtins__',\n",
       " '__cached__',\n",
       " '__doc__',\n",
       " '__file__',\n",
       " '__loader__',\n",
       " '__name__',\n",
       " '__package__',\n",
       " '__path__',\n",
       " '__spec__',\n",
       " 'box',\n",
       " 'dict',\n",
       " 'discrete',\n",
       " 'flatdim',\n",
       " 'flatten',\n",
       " 'flatten_space',\n",
       " 'multi_binary',\n",
       " 'multi_discrete',\n",
       " 'space',\n",
       " 'tuple',\n",
       " 'unflatten',\n",
       " 'utils']"
      ]
     },
     "execution_count": 21,
     "metadata": {},
     "output_type": "execute_result"
    }
   ],
   "source": [
    "dir(gym.spaces)"
   ]
  },
  {
   "cell_type": "code",
   "execution_count": null,
   "id": "f1503c42",
   "metadata": {},
   "outputs": [],
   "source": []
  }
 ],
 "metadata": {
  "kernelspec": {
   "display_name": "Python (Gym)",
   "language": "python",
   "name": "gym"
  },
  "language_info": {
   "codemirror_mode": {
    "name": "ipython",
    "version": 3
   },
   "file_extension": ".py",
   "mimetype": "text/x-python",
   "name": "python",
   "nbconvert_exporter": "python",
   "pygments_lexer": "ipython3",
   "version": "3.7.0"
  }
 },
 "nbformat": 4,
 "nbformat_minor": 5
}
