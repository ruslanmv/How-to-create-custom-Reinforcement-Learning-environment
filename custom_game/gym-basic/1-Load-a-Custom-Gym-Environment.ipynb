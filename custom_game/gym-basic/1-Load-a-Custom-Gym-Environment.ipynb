{
 "cells": [
  {
   "cell_type": "code",
   "execution_count": 1,
   "id": "aec783f0",
   "metadata": {},
   "outputs": [],
   "source": [
    "import time\n",
    "import matplotlib.pyplot as plt\n",
    "import gym"
   ]
  },
  {
   "cell_type": "markdown",
   "id": "38025e61",
   "metadata": {},
   "source": [
    "# Method 1: Use local test class"
   ]
  },
  {
   "cell_type": "code",
   "execution_count": 2,
   "id": "6d6783e2",
   "metadata": {},
   "outputs": [],
   "source": [
    "import gym\n",
    "from gym import spaces\n",
    "class BasicEnv(gym.Env):\n",
    "    metadata = {'render.modes': ['human']}\n",
    "\n",
    "    def __init__(self):\n",
    "        # There are two actions, first will get reward of 1, second reward of -1. \n",
    "        self.action_space = spaces.Discrete(5)\n",
    "        self.observation_space = spaces.Discrete(2)\n",
    "\n",
    "    def step(self, action):\n",
    "\n",
    "        # if we took an action, we were in state 1\n",
    "        state = 1\n",
    "    \n",
    "        if action == 2:\n",
    "            reward = 1\n",
    "        else:\n",
    "            reward = -1\n",
    "            \n",
    "        # regardless of the action, game is done after a single step\n",
    "        done = True\n",
    "\n",
    "        info = {}\n",
    "\n",
    "        return state, reward, done, info\n",
    "\n",
    "    def reset(self):\n",
    "        state = 0\n",
    "        return state\n",
    "  \n",
    "    def render(self, mode='human'):\n",
    "        pass\n",
    "\n",
    "    def close(self):\n",
    "        pass"
   ]
  },
  {
   "cell_type": "code",
   "execution_count": 60,
   "id": "9fe43dee",
   "metadata": {},
   "outputs": [],
   "source": [
    "# method 1 - use local test class\n",
    "env = BasicEnv()"
   ]
  },
  {
   "cell_type": "markdown",
   "id": "61c4f6d7",
   "metadata": {},
   "source": [
    "We start at state = 0"
   ]
  },
  {
   "cell_type": "code",
   "execution_count": 61,
   "id": "b5a19e73",
   "metadata": {},
   "outputs": [
    {
     "data": {
      "text/plain": [
       "0"
      ]
     },
     "execution_count": 61,
     "metadata": {},
     "output_type": "execute_result"
    }
   ],
   "source": [
    "env.reset()"
   ]
  },
  {
   "cell_type": "markdown",
   "id": "9f24c6d0",
   "metadata": {},
   "source": [
    "and the agent can choose between 5 actions, numbered 0 to 4."
   ]
  },
  {
   "cell_type": "code",
   "execution_count": 62,
   "id": "316a60fb",
   "metadata": {},
   "outputs": [],
   "source": [
    "env.render(\"human\")"
   ]
  },
  {
   "cell_type": "code",
   "execution_count": 63,
   "id": "140594a1",
   "metadata": {},
   "outputs": [
    {
     "name": "stdout",
     "output_type": "stream",
     "text": [
      "1\n"
     ]
    }
   ],
   "source": [
    "action = env.action_space.sample()\n",
    "print(action)"
   ]
  },
  {
   "cell_type": "markdown",
   "id": "53a16eb9",
   "metadata": {},
   "source": [
    "If they pick action = 2, they get a reward of 1, otherwise, the reward is -1. "
   ]
  },
  {
   "cell_type": "code",
   "execution_count": 64,
   "id": "91aefb3b",
   "metadata": {},
   "outputs": [
    {
     "name": "stdout",
     "output_type": "stream",
     "text": [
      "1 -1 True {}\n",
      "Reward = -1 with action = 1\n"
     ]
    }
   ],
   "source": [
    "state, reward, done, info = env.step(1)\n",
    "print(state,reward, done, info)\n",
    "print(\"Reward = {} with action = {}\".format(reward,action))"
   ]
  },
  {
   "cell_type": "markdown",
   "id": "4a442f16",
   "metadata": {},
   "source": [
    "If we pick action = 2, they get a reward of 1"
   ]
  },
  {
   "cell_type": "markdown",
   "id": "57040629",
   "metadata": {},
   "source": [
    "We just reset the state"
   ]
  },
  {
   "cell_type": "code",
   "execution_count": 65,
   "id": "a72d3a1e",
   "metadata": {
    "scrolled": true
   },
   "outputs": [
    {
     "data": {
      "text/plain": [
       "0"
      ]
     },
     "execution_count": 65,
     "metadata": {},
     "output_type": "execute_result"
    }
   ],
   "source": [
    "env.reset()"
   ]
  },
  {
   "cell_type": "markdown",
   "id": "bf0ca95c",
   "metadata": {},
   "source": [
    "We can define the action by hand inside the step"
   ]
  },
  {
   "cell_type": "code",
   "execution_count": 66,
   "id": "862ace5a",
   "metadata": {},
   "outputs": [
    {
     "name": "stdout",
     "output_type": "stream",
     "text": [
      "1 1 True {}\n",
      "Reward = 1 with action = 2\n"
     ]
    }
   ],
   "source": [
    "action=2\n",
    "state, reward, done, info = env.step(action)\n",
    "print(state,reward, done, info)\n",
    "print(\"Reward = {} with action = {}\".format(reward,action))"
   ]
  },
  {
   "cell_type": "markdown",
   "id": "9a8c503d",
   "metadata": {},
   "source": [
    "otherwise"
   ]
  },
  {
   "cell_type": "code",
   "execution_count": 67,
   "id": "0d0b1f77",
   "metadata": {},
   "outputs": [
    {
     "name": "stdout",
     "output_type": "stream",
     "text": [
      "1 -1 True {}\n",
      "Reward = -1 with action = 1\n"
     ]
    }
   ],
   "source": [
    "action=1\n",
    "state, reward, done, info = env.step(action)\n",
    "print(state,reward, done, info)\n",
    "print(\"Reward = {} with action = {}\".format(reward,action))"
   ]
  },
  {
   "cell_type": "markdown",
   "id": "c2acb041",
   "metadata": {},
   "source": [
    "Once we have lerned how to pass the actions inside the step we can test further enviroments "
   ]
  },
  {
   "cell_type": "code",
   "execution_count": 68,
   "id": "0d229637",
   "metadata": {},
   "outputs": [],
   "source": [
    "import numpy as np\n",
    "from gym import spaces\n",
    "# same as BasicEnv, with one difference: the reward for each action is a normal variable\n",
    "# purpose is to see if we can use libraries\n",
    "\n",
    "class BasicEnv2(gym.Env):\n",
    "    metadata = {'render.modes': ['human']}\n",
    "\n",
    "    def __init__(self):\n",
    "        # There are two actions, first will get reward of 1, second reward of -1. \n",
    "        self.action_space = gym.spaces.Discrete(5)\n",
    "        self.observation_space = gym.spaces.Discrete(2)\n",
    "\n",
    "    def step(self, action):\n",
    "\n",
    "        # if we took an action, we were in state 1\n",
    "        state = 1\n",
    "    \n",
    "        reward = np.random.normal(loc = action, scale = action)\n",
    "            \n",
    "        # regardless of the action, game is done after a single step\n",
    "        done = True\n",
    "\n",
    "        info = {}\n",
    "\n",
    "        return state, reward, done, info\n",
    "\n",
    "    def reset(self):\n",
    "        state = 0\n",
    "        return state\n",
    "  \n",
    "    def render(self, mode='human'):\n",
    "        pass\n",
    "\n",
    "    def close(self):\n",
    "        pass"
   ]
  },
  {
   "cell_type": "code",
   "execution_count": 69,
   "id": "04e7c453",
   "metadata": {},
   "outputs": [],
   "source": [
    "# method 1 - use local test class\n",
    "env = BasicEnv2()"
   ]
  },
  {
   "cell_type": "code",
   "execution_count": 70,
   "id": "974346d8",
   "metadata": {},
   "outputs": [
    {
     "data": {
      "text/plain": [
       "0"
      ]
     },
     "execution_count": 70,
     "metadata": {},
     "output_type": "execute_result"
    }
   ],
   "source": [
    "env.reset()"
   ]
  },
  {
   "cell_type": "code",
   "execution_count": 71,
   "id": "e1139ddc",
   "metadata": {},
   "outputs": [],
   "source": [
    "env.render(\"human\")"
   ]
  },
  {
   "cell_type": "code",
   "execution_count": 72,
   "id": "f16dce44",
   "metadata": {},
   "outputs": [],
   "source": [
    "action = env.action_space.sample()"
   ]
  },
  {
   "cell_type": "code",
   "execution_count": 73,
   "id": "358a6f6b",
   "metadata": {},
   "outputs": [
    {
     "name": "stdout",
     "output_type": "stream",
     "text": [
      "2\n"
     ]
    }
   ],
   "source": [
    "print(action)"
   ]
  },
  {
   "cell_type": "code",
   "execution_count": 74,
   "id": "3d44f6ca",
   "metadata": {},
   "outputs": [
    {
     "name": "stdout",
     "output_type": "stream",
     "text": [
      "1 2.789265547053389 True {}\n",
      "Reward = 2.789265547053389 with action = 2\n"
     ]
    }
   ],
   "source": [
    "state, reward, done, info = env.step(1)\n",
    "print(state,reward, done, info)\n",
    "print(\"Reward = {} with action = {}\".format(reward,action))"
   ]
  },
  {
   "cell_type": "markdown",
   "id": "56cf3372",
   "metadata": {},
   "source": [
    "# Method 2: Build from gym package"
   ]
  },
  {
   "cell_type": "markdown",
   "id": "ae69debc",
   "metadata": {},
   "source": [
    "Once the Enviroment were created \n",
    "``` \n",
    "gym-basic/\n",
    "  setup.py\n",
    "  gym_basic/\n",
    "    __init__.py\n",
    "    envs/\n",
    "      __init__.py\n",
    "      basic_env.py\n",
    "      basic_env_2.py\n",
    "```\n",
    "\n",
    "pip install -e gym-basic"
   ]
  },
  {
   "cell_type": "code",
   "execution_count": 4,
   "id": "72b45300",
   "metadata": {},
   "outputs": [],
   "source": [
    "import gym\n",
    "# method 2 - build from gym package\n",
    "env = gym.make(\"gym_basic:basic-v0\")"
   ]
  },
  {
   "cell_type": "code",
   "execution_count": 21,
   "id": "bb531d03",
   "metadata": {},
   "outputs": [
    {
     "name": "stdout",
     "output_type": "stream",
     "text": [
      "0\n"
     ]
    }
   ],
   "source": [
    "env.reset()\n",
    "env.render(\"human\")\n",
    "action = env.action_space.sample()\n",
    "print(action)"
   ]
  },
  {
   "cell_type": "code",
   "execution_count": 22,
   "id": "f37d83e7",
   "metadata": {},
   "outputs": [
    {
     "name": "stdout",
     "output_type": "stream",
     "text": [
      "1 -1 True {}\n",
      "Reward = -1 with action = 0\n"
     ]
    }
   ],
   "source": [
    "state, reward, done, info = env.step(action)\n",
    "print(state,reward, done, info)\n",
    "print(\"Reward = {} with action = {}\".format(reward,action))"
   ]
  },
  {
   "cell_type": "code",
   "execution_count": 9,
   "id": "fd7739fe",
   "metadata": {},
   "outputs": [
    {
     "name": "stdout",
     "output_type": "stream",
     "text": [
      "1 1 True {}\n",
      "Reward = 1 with action = 2\n"
     ]
    }
   ],
   "source": [
    "action=2\n",
    "state, reward, done, info = env.step(action)\n",
    "print(state,reward, done, info)\n",
    "print(\"Reward = {} with action = {}\".format(reward,action))"
   ]
  },
  {
   "cell_type": "code",
   "execution_count": null,
   "id": "8c7029bc",
   "metadata": {},
   "outputs": [],
   "source": []
  },
  {
   "cell_type": "code",
   "execution_count": 31,
   "id": "3585fd0d",
   "metadata": {},
   "outputs": [],
   "source": [
    "# method 1 - build from gym package\n",
    "env = gym.make(\"gym_basic:basic-v2\")"
   ]
  },
  {
   "cell_type": "code",
   "execution_count": 34,
   "id": "a7367716",
   "metadata": {},
   "outputs": [],
   "source": [
    "env.reset()\n",
    "env.render(\"human\")"
   ]
  },
  {
   "cell_type": "code",
   "execution_count": 35,
   "id": "b17579f5",
   "metadata": {},
   "outputs": [
    {
     "name": "stdout",
     "output_type": "stream",
     "text": [
      "3\n"
     ]
    }
   ],
   "source": [
    "action = env.action_space.sample()\n",
    "print(action)"
   ]
  },
  {
   "cell_type": "code",
   "execution_count": 36,
   "id": "b0aa7179",
   "metadata": {},
   "outputs": [
    {
     "name": "stdout",
     "output_type": "stream",
     "text": [
      "1 3.311051392573194 True {}\n",
      "Reward = 3.311051392573194 with action = 3\n"
     ]
    }
   ],
   "source": [
    "state, reward, done, info = env.step(1)\n",
    "print(state,reward, done, info)\n",
    "print(\"Reward = {} with action = {}\".format(reward,action))"
   ]
  },
  {
   "cell_type": "markdown",
   "id": "ae7e85e0",
   "metadata": {},
   "source": [
    "# Rendering - Part 1"
   ]
  },
  {
   "cell_type": "markdown",
   "id": "79243b92",
   "metadata": {},
   "source": [
    "The next step is load an image called \n",
    "**point_blue.png**, we just pointed the image at one fixed position.\n",
    "\n",
    "We take the first enviroment **BasicEnv** and we modify as follows:"
   ]
  },
  {
   "cell_type": "code",
   "execution_count": 48,
   "id": "c0dbab41",
   "metadata": {},
   "outputs": [],
   "source": [
    "import gym\n",
    "from gym import spaces\n",
    "\n",
    "import numpy as np\n",
    "\n",
    "import pygame\n",
    "from pygame import display\n",
    "from pygame.surfarray import array3d\n",
    "\n",
    "# --- New code begin---\n",
    "BLACK = pygame.Color(0, 0, 0)\n",
    "WHITE = pygame.Color(255, 255, 255)\n",
    "RED = pygame.Color(255, 0, 0)\n",
    "GREEN = pygame.Color(0, 255, 0)\n",
    "BLUE = pygame.Color(0, 0, 255)\n",
    "\n",
    "#Load images\n",
    "worker_image = pygame.image.load(\"point_blue.png\")\n",
    "#To the image we assing a kind of gym object\n",
    "worker_rect = worker_image.get_rect()\n",
    "# Moreover we add a position in the screen display\n",
    "worker_rect.topleft = (25, 25)\n",
    "\n",
    "# --- New code end---  \n",
    "\n",
    "class BasicEnv3(gym.Env):\n",
    "    metadata = {'render.modes': ['human']}\n",
    "\n",
    "    def __init__(self):\n",
    "        # There are two actions, first will get reward of 1, second reward of -1. \n",
    "        self.action_space = spaces.Discrete(5)\n",
    "        self.observation_space = spaces.Discrete(2)\n",
    "        \n",
    "        # --- New code begin---\n",
    "        \n",
    "        # We inizialize the display\n",
    "        self.frame_size_x = 200\n",
    "        self.frame_size_y = 200\n",
    "        self.game_window = pygame.display.set_mode((self.frame_size_x, self.frame_size_y))        \n",
    "        # --- New code end--- \n",
    "\n",
    "    def step(self, action):\n",
    "\n",
    "        # if we took an action, we were in state 1\n",
    "        state = 1\n",
    "    \n",
    "        if action == 2:\n",
    "            reward = 1\n",
    "        else:\n",
    "            reward = -1\n",
    "            \n",
    "        # regardless of the action, game is done after a single step\n",
    "        done = True\n",
    "\n",
    "        info = {}\n",
    "        \n",
    "        \n",
    "        # --- New code begin---        \n",
    "        # We update the state with an image\n",
    "        self.update_game_state()\n",
    "        img = self.get_image_array_from_game()\n",
    "        \n",
    "        state=img\n",
    "        # --- New code end---\n",
    "        \n",
    "        return state, reward, done, info\n",
    "    \n",
    "    \n",
    "    def update_game_state(self):\n",
    "        #We fill the screen to white\n",
    "        self.game_window.fill(WHITE)\n",
    "        \n",
    "        #Blit assets ( we add the image to the game window)\n",
    "        self.game_window.blit(worker_image, worker_rect)\n",
    "        \n",
    "    def get_image_array_from_game(self):\n",
    "        img = array3d(display.get_surface())\n",
    "        #Preprocessing of channels ( needed for tensorflow)\n",
    "        img = np.swapaxes(img, 0, 1)\n",
    "        return img    \n",
    "    \n",
    "    def reset(self):\n",
    "        state = 0\n",
    "        return state\n",
    "  \n",
    "    def render(self, mode='human'):\n",
    "        if mode == \"human\":\n",
    "            display.update()        \n",
    "\n",
    "    def close(self):\n",
    "        pass"
   ]
  },
  {
   "cell_type": "code",
   "execution_count": 49,
   "id": "be4cf627",
   "metadata": {},
   "outputs": [
    {
     "name": "stdout",
     "output_type": "stream",
     "text": [
      "1\n"
     ]
    }
   ],
   "source": [
    "# method 1 - use local test class\n",
    "env = BasicEnv3()\n",
    "env.reset()\n",
    "action = env.action_space.sample()\n",
    "print(action)\n",
    "state, reward, done, info = env.step(action)\n",
    "print(\"Reward = {} with action = {}\".format(reward,action))"
   ]
  },
  {
   "cell_type": "code",
   "execution_count": 51,
   "id": "08e772eb",
   "metadata": {},
   "outputs": [
    {
     "name": "stdout",
     "output_type": "stream",
     "text": [
      "-1 True {}\n"
     ]
    },
    {
     "data": {
      "text/plain": [
       "<matplotlib.image.AxesImage at 0x1dd8a609cf8>"
      ]
     },
     "execution_count": 51,
     "metadata": {},
     "output_type": "execute_result"
    },
    {
     "data": {
      "image/png": "[encoded data removed]",
      "text/plain": [
       "<Figure size 640x480 with 1 Axes>"
      ]
     },
     "metadata": {},
     "output_type": "display_data"
    }
   ],
   "source": [
    "import matplotlib.pyplot as plt\n",
    "print(reward, done, info)\n",
    "plt.figure()\n",
    "plt.imshow(state)"
   ]
  },
  {
   "cell_type": "markdown",
   "id": "7bce1e36",
   "metadata": {},
   "source": [
    "# Rendering - Part 2\n",
    "We are interested now, to add an additional red point that will be the target \n"
   ]
  },
  {
   "cell_type": "code",
   "execution_count": 16,
   "id": "f5818f92",
   "metadata": {},
   "outputs": [
    {
     "name": "stdout",
     "output_type": "stream",
     "text": [
      "Initial position 100 100\n"
     ]
    }
   ],
   "source": [
    "import gym\n",
    "from gym import spaces\n",
    "import numpy as np\n",
    "\n",
    "import pygame\n",
    "from pygame import display\n",
    "from pygame.surfarray import array3d\n",
    "import random\n",
    "\n",
    "BLACK = pygame.Color(0, 0, 0)\n",
    "WHITE = pygame.Color(255, 255, 255)\n",
    "RED = pygame.Color(255, 0, 0)\n",
    "GREEN = pygame.Color(0, 255, 0)\n",
    "BLUE = pygame.Color(0, 0, 255)\n",
    "\n",
    "#Load images\n",
    "worker_image = pygame.image.load(\"point_blue.png\")\n",
    "#To the image we assing a kind of gym object\n",
    "worker_rect = worker_image.get_rect()\n",
    "# Moreover we add a position in the screen display\n",
    "worker_rect.topleft = (25, 25)\n",
    "\n",
    "#Target image and position\n",
    "position_coordinates=[(50,50),\n",
    "                      (100,50),\n",
    "                      (150,50)]\n",
    "target_image = pygame.image.load(\"point_red.png\")\n",
    "target_rect = target_image.get_rect()\n",
    "print('Initial position',100,100)\n",
    "target_rect.center = (100, 100)\n",
    "\n",
    "class BasicEnv4(gym.Env):\n",
    "    metadata = {'render.modes': ['human']}\n",
    "\n",
    "    def __init__(self):\n",
    "        # There are two actions, first will get reward of 1, second reward of -1. \n",
    "        self.action_space = spaces.Discrete(5)\n",
    "        self.observation_space = spaces.Discrete(2)\n",
    "        \n",
    "        # We inizialize the display\n",
    "        self.frame_size_x = 200\n",
    "        self.frame_size_y = 200\n",
    "        self.game_window = pygame.display.set_mode((self.frame_size_x, self.frame_size_y))        \n",
    "        # --- New code end--- \n",
    "\n",
    "    def step(self, action):\n",
    "\n",
    "        # if we took an action, we were in state 1\n",
    "        state = 1\n",
    "    \n",
    "        if action == 2:\n",
    "            reward = 1\n",
    "        else:\n",
    "            reward = -1\n",
    "            \n",
    "        # regardless of the action, game is done after a single step\n",
    "        done = True\n",
    "\n",
    "        info = {}\n",
    "         \n",
    "              \n",
    "        # We update the state with an image\n",
    "        self.update_game_state()\n",
    "        img = self.get_image_array_from_game()\n",
    "        state=img\n",
    "    \n",
    "        \n",
    "        return state, reward, done, info\n",
    "    \n",
    "    \n",
    "    def update_game_state(self):\n",
    "        #We fill the screen to white\n",
    "        self.game_window.fill(WHITE)\n",
    "        \n",
    "        #Blit assets ( we add the image to the game window)\n",
    "        self.game_window.blit(worker_image, worker_rect)\n",
    "        self.game_window.blit(target_image, target_rect)\n",
    "        \n",
    "        \n",
    "    def get_image_array_from_game(self):\n",
    "        img = array3d(display.get_surface())\n",
    "        #Preprocessing of channels ( needed for tensorflow)\n",
    "        img = np.swapaxes(img, 0, 1)\n",
    "        return img    \n",
    "    \n",
    "    def reset(self):\n",
    "        \n",
    "        \n",
    "        target_pos=random.choice(position_coordinates)\n",
    "        print('Target position',target_pos[0], target_pos[1])\n",
    "        target_rect.center = (target_pos[0], target_pos[1])\n",
    "\n",
    "\n",
    "        state = 0\n",
    "        return state\n",
    "  \n",
    "    def render(self, mode='human'):\n",
    "        if mode == \"human\":\n",
    "            display.update()        \n",
    "\n",
    "    def close(self):\n",
    "        pass"
   ]
  },
  {
   "cell_type": "code",
   "execution_count": null,
   "id": "c938a6d8",
   "metadata": {},
   "outputs": [],
   "source": []
  },
  {
   "cell_type": "code",
   "execution_count": 21,
   "id": "a41b2738",
   "metadata": {},
   "outputs": [
    {
     "name": "stdout",
     "output_type": "stream",
     "text": [
      "Target position 150 50\n",
      "0\n",
      "Reward = -1 with action = 0\n",
      "-1 True {}\n"
     ]
    },
    {
     "data": {
      "text/plain": [
       "<matplotlib.image.AxesImage at 0x1780c6cdd30>"
      ]
     },
     "execution_count": 21,
     "metadata": {},
     "output_type": "execute_result"
    },
    {
     "data": {
      "image/png": "[encoded data removed]",
      "text/plain": [
       "<Figure size 640x480 with 1 Axes>"
      ]
     },
     "metadata": {},
     "output_type": "display_data"
    }
   ],
   "source": [
    "# method 1 - use local test class\n",
    "env = BasicEnv4()\n",
    "env.reset()\n",
    "action = env.action_space.sample()\n",
    "print(action)\n",
    "state, reward, done, info = env.step(action)\n",
    "print(\"Reward = {} with action = {}\".format(reward,action))\n",
    "import matplotlib.pyplot as plt\n",
    "print(reward, done, info)\n",
    "plt.figure()\n",
    "plt.imshow(state)"
   ]
  },
  {
   "cell_type": "markdown",
   "id": "1b46e0af",
   "metadata": {},
   "source": [
    "# Action - Part 1\n",
    "We are interested now to add the input to the enviroment, let add just the four keys, up, down, left, right"
   ]
  },
  {
   "cell_type": "code",
   "execution_count": 1,
   "id": "27286add",
   "metadata": {},
   "outputs": [
    {
     "name": "stdout",
     "output_type": "stream",
     "text": [
      "pygame 2.1.2 (SDL 2.0.18, Python 3.7.0)\n",
      "Hello from the pygame community. https://www.pygame.org/contribute.html\n",
      "Initial position 100 100\n"
     ]
    }
   ],
   "source": [
    "import gym\n",
    "from gym import spaces\n",
    "import numpy as np\n",
    "\n",
    "import pygame\n",
    "from pygame import display\n",
    "from pygame.surfarray import array3d\n",
    "import random\n",
    "\n",
    "BLACK = pygame.Color(0, 0, 0)\n",
    "WHITE = pygame.Color(255, 255, 255)\n",
    "RED = pygame.Color(255, 0, 0)\n",
    "GREEN = pygame.Color(0, 255, 0)\n",
    "BLUE = pygame.Color(0, 0, 255)\n",
    "\n",
    "#Load images\n",
    "worker_image = pygame.image.load(\"point_blue.png\")\n",
    "#To the image we assing a kind of gym object\n",
    "worker_rect = worker_image.get_rect()\n",
    "worker_pos=[25,25]\n",
    "# Moreover we add a position in the screen display\n",
    "worker_rect.center = (worker_pos[0], worker_pos[1])\n",
    "\n",
    "#Target image and position\n",
    "position_coordinates=[(50,50),\n",
    "                      (100,50),\n",
    "                      (150,50)]\n",
    "\n",
    "target_image = pygame.image.load(\"point_red.png\")\n",
    "target_rect = target_image.get_rect()\n",
    "print('Initial position',100,100)\n",
    "target_rect.center = (100, 100)\n",
    "\n",
    "class BasicEnv5(gym.Env):\n",
    "    metadata = {'render.modes': ['human']}\n",
    "\n",
    "    def __init__(self):\n",
    "        # There are two actions, first will get reward of 1, second reward of -1. \n",
    "        self.action_space = spaces.Discrete(5)\n",
    "        self.observation_space = spaces.Discrete(2)\n",
    "        \n",
    "        # We inizialize the display\n",
    "        self.frame_size_x = 200\n",
    "        self.frame_size_y = 200\n",
    "        self.game_window = pygame.display.set_mode((self.frame_size_x, self.frame_size_y))   \n",
    "        self.worker_pos=[25,25]\n",
    "        \n",
    "        \n",
    "        #Load images\n",
    "        self.worker_image = pygame.image.load(\"point_blue.png\")\n",
    "        #To the image we assing a kind of gym object\n",
    "        self.worker_rect = worker_image.get_rect()\n",
    "        self.worker_pos=[25,25]\n",
    "        # Moreover we add a position in the screen display\n",
    "        self.worker_rect.center = (worker_pos[0], worker_pos[1])        \n",
    "        \n",
    "    \n",
    "    def step(self, action):\n",
    "        reward = 0\n",
    "        self.worker_pos = env.move(action, self.worker_pos)\n",
    "        #reward = self.seat_handler()\n",
    "        # regardless of the action, game is done after a single step\n",
    "        done = True\n",
    "        info = {}\n",
    "        # We update the state with an image\n",
    "        self.update_game_state()\n",
    "        img = self.get_image_array_from_game()\n",
    "        state=img\n",
    "        return state, reward, done, info\n",
    "    \n",
    "\n",
    "    def worker_step(self,event):   \n",
    "        '''\n",
    "        Takes human keyboard event and then returns it as an action string\n",
    "        '''\n",
    "        \n",
    "        action = None\n",
    "        \n",
    "        if event.type == pygame.QUIT:\n",
    "            pygame.quit()\n",
    "            sys.exit()\n",
    "        ################################################ \n",
    "        ########## CONVERT KEYPRESS TO DIRECTION ###### \n",
    "        ############################################## \n",
    "        elif event.type == pygame.KEYDOWN:\n",
    "            \n",
    "            if event.key == pygame.K_UP:\n",
    "                action = 'UP'\n",
    "            if event.key == pygame.K_DOWN:\n",
    "                action = 'DOWN'\n",
    "            if event.key == pygame.K_LEFT:\n",
    "                action = 'LEFT'\n",
    "            if event.key == pygame.K_RIGHT:\n",
    "                action = 'RIGHT'\n",
    "            # Esc -> Create event to quit the game\n",
    "            if event.key == pygame.K_ESCAPE:\n",
    "                pygame.event.post(pygame.event.Event(pygame.QUIT))\n",
    "                \n",
    "        return action    \n",
    "    \n",
    "    def update_game_state(self):\n",
    "        #We fill the screen to white\n",
    "        self.game_window.fill(WHITE)\n",
    "        self.worker_rect.x=worker_pos[0]\n",
    "        self.worker_rect.y=worker_pos[1]\n",
    "        #Draw rectangles to represent the rect's of each object\n",
    "        pygame.draw.rect(self.game_window, (0, 255, 0), target_rect, 1)\n",
    "        pygame.draw.rect(self.game_window, (255, 255, 0), worker_rect, 1)\n",
    "        #Blit assets\n",
    "        self.game_window.blit(target_image, target_rect)\n",
    "        self.game_window.blit(worker_image, worker_rect)\n",
    "        \n",
    "        \n",
    "    def get_image_array_from_game(self):\n",
    "        img = array3d(display.get_surface())\n",
    "        #Preprocessing of channels ( needed for tensorflow)\n",
    "        img = np.swapaxes(img, 0, 1)\n",
    "        return img    \n",
    "    \n",
    "    def reset(self):\n",
    "        target_pos=random.choice(position_coordinates)\n",
    "        print('Target position',target_pos[0], target_pos[1])\n",
    "        target_rect.center = (target_pos[0], target_pos[1])\n",
    "        state = 0\n",
    "        return state\n",
    "    \n",
    "    def move(self,action,worker_pos):\n",
    "        '''\n",
    "        Changes direction based on action input.\n",
    "        Updates Office_pos list to reflect direction change.\n",
    "        '''\n",
    "        if action == 'UP':\n",
    "            worker_pos[1] -= 10\n",
    "        if action == 'DOWN':\n",
    "            worker_pos[1] += 10\n",
    "        if action == 'LEFT':\n",
    "            worker_pos[0] -= 10\n",
    "        if action == 'RIGHT':\n",
    "            worker_pos[0] += 10\n",
    "        return worker_pos    \n",
    "    \n",
    "  \n",
    "    def render(self, mode='human'):\n",
    "        if mode == \"human\":\n",
    "            display.update()        \n",
    "\n",
    "    def close(self):\n",
    "        pass"
   ]
  },
  {
   "cell_type": "code",
   "execution_count": 3,
   "id": "0324b16c",
   "metadata": {},
   "outputs": [
    {
     "name": "stdout",
     "output_type": "stream",
     "text": [
      "Target position 100 50\n",
      "4\n",
      "Reward = 0 with action = 4\n",
      "0 True {}\n"
     ]
    },
    {
     "data": {
      "text/plain": [
       "<matplotlib.image.AxesImage at 0x1e0b518def0>"
      ]
     },
     "execution_count": 3,
     "metadata": {},
     "output_type": "execute_result"
    },
    {
     "data": {
      "image/png": "[encoded data removed]",
      "text/plain": [
       "<Figure size 640x480 with 1 Axes>"
      ]
     },
     "metadata": {},
     "output_type": "display_data"
    }
   ],
   "source": [
    "# method 1 - use local test class\n",
    "env = BasicEnv5()\n",
    "env.reset()\n",
    "action = env.action_space.sample()\n",
    "print(action)\n",
    "state, reward, done, info = env.step(action)\n",
    "print(\"Reward = {} with action = {}\".format(reward,action))\n",
    "import matplotlib.pyplot as plt\n",
    "print(reward, done, info)\n",
    "plt.figure()\n",
    "plt.imshow(state)"
   ]
  },
  {
   "cell_type": "code",
   "execution_count": 5,
   "id": "2aa00dfe",
   "metadata": {},
   "outputs": [
    {
     "name": "stdout",
     "output_type": "stream",
     "text": [
      "[25, 25]\n",
      "[25, 25]\n",
      "[25, 25]\n",
      "[25, 25]\n",
      "[25, 25]\n",
      "[25, 25]\n",
      "[25, 25]\n",
      "[25, 25]\n",
      "[25, 25]\n",
      "[25, 25]\n",
      "[25, 25]\n",
      "[25, 25]\n",
      "[25, 25]\n",
      "[25, 25]\n",
      "[25, 25]\n",
      "[25, 25]\n",
      "[25, 25]\n",
      "[25, 25]\n",
      "[25, 25]\n",
      "[25, 35]\n",
      "[25, 35]\n",
      "[25, 35]\n",
      "[25, 35]\n",
      "[25, 45]\n",
      "[25, 45]\n",
      "[25, 55]\n",
      "[25, 55]\n",
      "[25, 65]\n",
      "[25, 65]\n",
      "[25, 65]\n",
      "[25, 65]\n",
      "[25, 65]\n",
      "[25, 65]\n",
      "[35, 65]\n",
      "[35, 65]\n",
      "[45, 65]\n",
      "[45, 65]\n",
      "[55, 65]\n",
      "[55, 65]\n",
      "[65, 65]\n",
      "[65, 65]\n",
      "[75, 65]\n",
      "[85, 65]\n",
      "[85, 65]\n",
      "[95, 65]\n",
      "[95, 65]\n",
      "[105, 65]\n",
      "[115, 65]\n",
      "[115, 65]\n",
      "[115, 65]\n",
      "[115, 65]\n",
      "[105, 65]\n",
      "[95, 65]\n",
      "[85, 65]\n",
      "[75, 65]\n",
      "[65, 65]\n",
      "[55, 65]\n",
      "[45, 65]\n",
      "[35, 65]\n",
      "[25, 65]\n",
      "[35, 65]\n",
      "[45, 65]\n",
      "[55, 65]\n",
      "[65, 65]\n",
      "[75, 65]\n",
      "[85, 65]\n",
      "[95, 65]\n",
      "[105, 65]\n",
      "[115, 65]\n",
      "[125, 65]\n",
      "[125, 65]\n",
      "[125, 65]\n",
      "[125, 65]\n",
      "[125, 65]\n",
      "[125, 65]\n",
      "[125, 65]\n",
      "[125, 65]\n",
      "[125, 55]\n",
      "[125, 45]\n",
      "[125, 35]\n",
      "[125, 25]\n",
      "[125, 15]\n",
      "[125, 15]\n",
      "[125, 15]\n",
      "[125, 15]\n",
      "[115, 15]\n",
      "[105, 15]\n",
      "[95, 15]\n",
      "[85, 15]\n",
      "[75, 15]\n",
      "[65, 15]\n",
      "[55, 15]\n",
      "[55, 15]\n",
      "[55, 15]\n",
      "[55, 15]\n",
      "[55, 15]\n",
      "[55, 15]\n",
      "[55, 25]\n",
      "[55, 35]\n",
      "[55, 45]\n",
      "[55, 55]\n",
      "[55, 65]\n",
      "[55, 75]\n",
      "[55, 85]\n",
      "[55, 85]\n",
      "[55, 85]\n",
      "[65, 85]\n",
      "[75, 85]\n",
      "[85, 85]\n",
      "[95, 85]\n",
      "[105, 85]\n",
      "[115, 85]\n",
      "[115, 85]\n",
      "[115, 85]\n",
      "[105, 85]\n",
      "[95, 85]\n",
      "[85, 85]\n",
      "[75, 85]\n",
      "[65, 85]\n",
      "[55, 85]\n",
      "[55, 75]\n",
      "[55, 65]\n",
      "[55, 65]\n",
      "[55, 55]\n",
      "[55, 55]\n",
      "[55, 55]\n",
      "[55, 55]\n",
      "[55, 55]\n",
      "[55, 55]\n",
      "[55, 55]\n",
      "[65, 55]\n",
      "[75, 55]\n",
      "[85, 55]\n",
      "[95, 55]\n",
      "[95, 55]\n",
      "[95, 55]\n",
      "[95, 55]\n",
      "[95, 55]\n",
      "[95, 45]\n",
      "[95, 35]\n",
      "[95, 25]\n",
      "[95, 15]\n",
      "[95, 5]\n",
      "[95, 5]\n",
      "[85, 5]\n",
      "[75, 5]\n",
      "[65, 5]\n",
      "[55, 5]\n",
      "[55, 15]\n",
      "[55, 15]\n",
      "[55, 15]\n",
      "[55, 15]\n",
      "[55, 15]\n",
      "[55, 15]\n",
      "[55, 15]\n",
      "[55, 15]\n",
      "[55, 15]\n",
      "[55, 15]\n",
      "[55, 15]\n",
      "[55, 15]\n",
      "[55, 15]\n",
      "[55, 15]\n",
      "[55, 15]\n",
      "[55, 15]\n",
      "[55, 15]\n",
      "[55, 15]\n",
      "[55, 15]\n",
      "[55, 15]\n",
      "[55, 15]\n",
      "[55, 15]\n",
      "[55, 15]\n",
      "[55, 15]\n",
      "[55, 15]\n",
      "[55, 15]\n"
     ]
    },
    {
     "ename": "SystemExit",
     "evalue": "",
     "output_type": "error",
     "traceback": [
      "An exception has occurred, use %tb to see the full traceback.\n",
      "\u001b[1;31mSystemExit\u001b[0m\n"
     ]
    }
   ],
   "source": [
    "import sys\n",
    "env = BasicEnv5()\n",
    "# This is technically a FPS Refresh rate\n",
    "FPS = 10\n",
    "# FPS (frames per second) controller\n",
    "fps_controller = pygame.time.Clock()\n",
    "# Checks for errors encountered\n",
    "check_errors = pygame.init()\n",
    "# Initialise game window\n",
    "pygame.display.set_caption('Testing Game') \n",
    "#The main game loop\n",
    "running = True\n",
    "while running:\n",
    "    # Check Input from Human Step \n",
    "    for event in pygame.event.get():\n",
    "        env.action = env.worker_step(event)    \n",
    "        if event.type == pygame.QUIT:\n",
    "            running = False\n",
    "\n",
    "    #state, reward, done, info = env.step(action)\n",
    "    #print(\"Reward = {} with action = {}\".format(reward,action))        \n",
    "   \n",
    "    # Check for move change based on action and Update worker Position\n",
    "    worker_pos = env.move(env.action,env.worker_pos)\n",
    "    print(worker_pos)\n",
    "    #Draw the Screen\n",
    "    env.game_window.fill(WHITE)\n",
    "\n",
    "    #bg = pygame.image.load(\"background.png\")\n",
    "    #env.game_window.blit(bg, (0, 0))    \n",
    "        \n",
    "    worker_rect.x=worker_pos[0]\n",
    "    worker_rect.y=worker_pos[1]\n",
    "    # Draw desktop\n",
    "    \n",
    "    #Draw rectangles to represent the rect's of each object\n",
    "    pygame.draw.rect(env.game_window, (0, 255, 0), target_rect, 1)\n",
    "    pygame.draw.rect(env.game_window, (255, 255, 0), worker_rect, 1)\n",
    " \n",
    "    #Blit assets\n",
    "    env.game_window.blit(target_image, target_rect)\n",
    "    env.game_window.blit(worker_image, worker_rect)\n",
    "\n",
    "    # Check if we lost\n",
    "    #env.game_over()\n",
    "    #env.display_score(BLACK, 'consolas', 20)\n",
    "    # Refresh game screen\n",
    "    pygame.display.update()\n",
    "    # Refresh rate\n",
    "    fps_controller.tick(FPS)\n",
    "    img = array3d(env.game_window)"
   ]
  },
  {
   "cell_type": "code",
   "execution_count": null,
   "id": "6b0ea627",
   "metadata": {},
   "outputs": [],
   "source": []
  }
 ],
 "metadata": {
  "kernelspec": {
   "display_name": "Python (Gym)",
   "language": "python",
   "name": "gym"
  },
  "language_info": {
   "codemirror_mode": {
    "name": "ipython",
    "version": 3
   },
   "file_extension": ".py",
   "mimetype": "text/x-python",
   "name": "python",
   "nbconvert_exporter": "python",
   "pygments_lexer": "ipython3",
   "version": "3.7.0"
  }
 },
 "nbformat": 4,
 "nbformat_minor": 5
}
