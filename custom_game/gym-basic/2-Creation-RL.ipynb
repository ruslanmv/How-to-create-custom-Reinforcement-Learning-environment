{
 "cells": [
  {
   "cell_type": "markdown",
   "id": "c27882b9",
   "metadata": {},
   "source": [
    "# 2- Creation of the RL model\n",
    "once we have created the simple enviroment we can pass to the second step that is the creation of the RL Model.\n",
    "\n",
    "First we will consider the gym local enviroment BasicEnv13\n"
   ]
  },
  {
   "cell_type": "code",
   "execution_count": 176,
   "id": "472a074f",
   "metadata": {},
   "outputs": [],
   "source": [
    "import gym\n",
    "from gym import spaces\n",
    "import numpy as np\n",
    "import matplotlib.pyplot as plt\n",
    "import pygame\n",
    "from pygame import display\n",
    "from pygame.surfarray import array3d\n",
    "import random\n",
    "import pandas as pd\n",
    "from PIL import Image\n",
    "\n",
    "training=True\n",
    "\n",
    "df= pd.read_csv(\"test.csv\")\n",
    "feature1=df['island'].max()\n",
    "feature2=df['project'].max()\n",
    "feature3=df['energy_consumption'].max()\n",
    "feature4=df['emp_project'].max()\n",
    "feature5=df['emp_energy_consumption'].max()\n",
    "feature6=df['occupied'].max()\n",
    "\n",
    "max_colors=df['island'].nunique()\n",
    "low_x=int(df['x_coord'].min())\n",
    "high_x=int(df['x_coord'].max())\n",
    "low_y=int(df['y_coord'].min())\n",
    "high_y=int(df['y_coord'].max())\n",
    "possible_clicks=df.shape[0]\n",
    "pos_x=possible_clicks\n",
    "pos_y=possible_clicks\n",
    "max_sit=possible_clicks\n",
    "\n",
    "# get image\n",
    "filepath = \"bg.jpg\"\n",
    "img_bg = Image.open(filepath)\n",
    "# get width and height\n",
    "width = img_bg.width\n",
    "height = img_bg.height\n",
    "  \n",
    "font_color=(0,50,250)\n",
    "WHITE = pygame.Color(255, 255, 255)\n",
    "RED = (200,0,0)\n",
    "GREEN = (0, 255, 0)\n",
    "BLUE = (0, 0, 255)\n",
    "\n",
    "#Load images\n",
    "#To the image we assing a kind of gym object\n",
    "worker_pos=[25,25]\n",
    "#Target image and position\n",
    "position_coordinates=[(50,50),\n",
    "                      (100,50),\n",
    "                      (150,50)]\n",
    "\n",
    "target_rects={}\n",
    "target_images={}\n",
    "counts = df.groupby(['island'])['island'].count()\n",
    "reward_dict=counts.to_dict()\n",
    "\n",
    "def convert_colormap_to_hex(cmap, x, vmin=0, vmax=1):\n",
    "    \"\"\"\n",
    "    Example::\n",
    "        >>> seaborn.palplot(seaborn.color_palette(\"RdBu_r\", 7))\n",
    "        >>> colorMapRGB = seaborn.color_palette(\"RdBu_r\", 61)\n",
    "        >>> colormap = seaborn.blend_palette(colorMapRGB, as_cmap=True, input='rgb')\n",
    "        >>> [convert_colormap_to_hex(colormap, x, vmin=-2, vmax=2) for x in range(-2, 3)]\n",
    "        ['#09386d', '#72b1d3', '#f7f6f5', '#e7866a', '#730421']\n",
    "    \"\"\"\n",
    "    norm = colors.Normalize(vmin, vmax)\n",
    "    color_rgb = plt.cm.get_cmap(cmap)(norm(x))\n",
    "    color_hex = colors.rgb2hex(color_rgb)\n",
    "    return color_hex\n",
    "\n",
    "import  seaborn\n",
    "from matplotlib import colors\n",
    "from PIL import ImageColor\n",
    "colorMapRGB = seaborn.color_palette(\"RdBu_r\", max_colors)\n",
    "colormap = seaborn.blend_palette(colorMapRGB, as_cmap=True, input='rgb')\n",
    "cmap_list=[convert_colormap_to_hex(colormap, x, vmin=-int(max_colors/2)-1, vmax=int(max_colors/2)+1) for x in range(-int(max_colors/2)-1, int(max_colors/2)+1)]\n",
    "\n",
    "\n",
    "class BasicEnv13(gym.Env):\n",
    "    metadata = {'render.modes': ['human']}\n",
    "\n",
    "    def __init__(self):\n",
    "        # There are two actions, first will get reward of 1, second reward of -1. \n",
    "        self.action_space = spaces.Discrete(possible_clicks)\n",
    "        self.observation_space = gym.spaces.Dict(\n",
    "    {\"feature1\": gym.spaces.Box(low=0, high=feature1, shape=(1,), dtype=np.uint8),\n",
    "     \"y_position\": gym.spaces.Box(low=low_y, high=high_y, shape=(1,), dtype=np.uint8),\n",
    "     \"x_position\": gym.spaces.Box(low=low_x, high=high_x, shape=(1,), dtype=np.uint8)\n",
    "     }\n",
    "        )\n",
    "        # We inizialize the display\n",
    "        self.frame_size_x = width # high_x\n",
    "        self.frame_size_y = height# high_y\n",
    "        self.game_window = pygame.display.set_mode((self.frame_size_x, self.frame_size_y))   \n",
    "        \n",
    "        #Load images\n",
    "        #To the image we assing a kind of gym object\n",
    "        self.worker_pos=[25,25]\n",
    "        self.worker_rect=pygame.draw.circle(self.game_window,BLUE,(self.worker_pos[0], self.worker_pos[1]),6) # DRAW CIRCLE\n",
    "\n",
    "        # Moreover we add a position in the screen display\n",
    "\n",
    "        self.target_rects={} \n",
    "        n_space=df.shape[0]\n",
    "        for num in range(n_space):\n",
    "            targets=int(df['x_coord'][num]), int(df['y_coord'][num])\n",
    "            numero_cluster=df['island'][num]\n",
    "            cmap_color=cmap_list[numero_cluster-1]\n",
    "            target_images[num] = pygame.draw.circle(self.game_window,cmap_color,(targets[0], targets[1]),6) # DRAW CIRCLE\n",
    "            self.target_rects[num] = target_images[num]\n",
    "            #print('Initial positions',targets)\n",
    "            self.target_rects[num].center = targets\n",
    "    \n",
    "        self.state = None\n",
    "                \n",
    "        # Adding text\n",
    "        pygame.init()\n",
    "        self.font_color=(0,50,250)                                       # Step 1  Color RGB code\n",
    "        self.font_obj=pygame.font.Font(\"C:\\Windows\\Fonts\\Arial.ttf\",20)  # Step 2  Select the font type\n",
    "        # Render the objects\n",
    "        self.text_obj=self.font_obj.render(\"Reward:\",True,self.font_color) # Step 3  Creation of object text\n",
    "        \n",
    "    def reward_value(self,worker,target,num):\n",
    "        \n",
    "        #print(Reward check: )\n",
    "        #Check for collision between two rects            \n",
    "        if worker.colliderect(target):\n",
    "            '''\n",
    "            Reward 1 - The more dense is the cluster more reward  \n",
    "            Gives the value of the island   number of seats\n",
    "                0    2\n",
    "                1    4\n",
    "                2    4\n",
    "                3    4\n",
    "                4    1\n",
    "            '''\n",
    "            number_island=df['island'].iloc[num]\n",
    "            reward1=reward_dict[number_island]\n",
    "\n",
    "            '''\n",
    "            Reward 2 - Check if is occupied\n",
    "                0 - occupied\n",
    "                1 - free\n",
    "            '''\n",
    "            is_occupied=df['occupied'].iloc[num]\n",
    "           \n",
    "            '''\n",
    "            Reward 3 - More neighbors more reward\n",
    "            '''\n",
    "            reward3=len(df[(df['island']==number_island) & (df['occupied']==0 )])\n",
    "            reward=(reward1+reward3)*is_occupied\n",
    "            \n",
    "            if is_occupied == 0:\n",
    "                print('is_occupied',is_occupied)\n",
    "            else:\n",
    "                print('reward',reward)\n",
    "            \n",
    "            return reward\n",
    "        \n",
    "        else:\n",
    "            \n",
    "            reward = 0\n",
    "            return reward\n",
    "        \n",
    "        \n",
    "    def step(self, action):\n",
    "        reward = 0\n",
    "        self.worker_pos = action\n",
    "        # We update the state with an image\n",
    "        self.update_game_state()\n",
    "\n",
    "        rewards=[]\n",
    "        # regardless of the action, game is done after a single step\n",
    "        if action != None:\n",
    "            print(\"The action is :\", action)\n",
    "            \n",
    "            n_space=df.shape[0]\n",
    "            for num in range(n_space):\n",
    "                reward = self.reward_value(self.worker_rect,self.target_rects[num],num)\n",
    "                #print('num',num)\n",
    "\n",
    "                if reward !=0:\n",
    "                    \n",
    "                    print(\"The worker rect is :\",self.worker_rect)\n",
    "                    print(\"The target rect is :\",self.target_rects[num] ) \n",
    "                    rewards.append(reward)\n",
    "                    print(\"rewards\",rewards)\n",
    "                    \n",
    "        if len(rewards) < 1:\n",
    "            reward=0\n",
    "        else:\n",
    "            reward=rewards[0]\n",
    "        \n",
    "\n",
    "        if training == False:\n",
    "            # Render the objects\n",
    "            self.text_obj=self.font_obj.render(\"Reward :\" + str(reward),True,self.font_color) # Step 3  Creation of object text\n",
    "            #Display text\n",
    "            self.game_window.blit(self.text_obj,(300,0))         \n",
    "\n",
    "\n",
    "        img = self.get_image_array_from_game()\n",
    "        state=img\n",
    "        \n",
    "        done = True\n",
    "        info = {}\n",
    "        \n",
    "        print('reward, done, info',reward, done, info)\n",
    "        return state, reward, done, info\n",
    "    \n",
    "    def worker_step(self,event):   \n",
    "        '''\n",
    "        Takes human keyboard event and then returns it as an action string\n",
    "        '''\n",
    "        action = None\n",
    "        if event.type == pygame.QUIT:\n",
    "            pygame.quit()\n",
    "            sys.exit()\n",
    "            \n",
    "        #Move based on mouse clicks\n",
    "        if event.type == pygame.MOUSEBUTTONDOWN:\n",
    "            #print(event)\n",
    "            mouse_x = event.pos[0]\n",
    "            mouse_y = event.pos[1]\n",
    "\n",
    "            #'CLICK'\n",
    "            action = mouse_x, mouse_y\n",
    "        \n",
    "        #Drag the object when the mouse button is clicked\n",
    "        if event.type == pygame.MOUSEMOTION and event.buttons[0] == 1:\n",
    "            #print(event)\n",
    "            mouse_x = event.pos[0]\n",
    "            mouse_y = event.pos[1]\n",
    "    \n",
    "            #'CLICK'\n",
    "            action = mouse_x, mouse_y\n",
    "        \n",
    "        elif event.type == pygame.KEYDOWN:\n",
    "        \n",
    "            # Esc -> Create event to quit the game\n",
    "            if event.key == pygame.K_ESCAPE:\n",
    "                pygame.event.post(pygame.event.Event(pygame.QUIT))                       \n",
    "        return action    \n",
    "    \n",
    "    def update_game_state(self):\n",
    "        #We fill the screen to white\n",
    "        if training == True:\n",
    "            self.game_window.fill(WHITE)\n",
    "        else:    \n",
    "            bg = pygame.image.load(\"bg.jpg\")\n",
    "            #Give a background color to the display\n",
    "            self.game_window.blit(bg, (0, 0))\n",
    "            \n",
    "        \n",
    "        # -------------WORKER--------------\n",
    "        \n",
    "        print('worker_pos',self.worker_pos[0],self.worker_pos[1])\n",
    "        self.worker_rect.x=self.worker_pos[0]\n",
    "        self.worker_rect.y=self.worker_pos[1]\n",
    "        #Draw rectangles to represent the rect's of each object\n",
    "        self.worker_rect=pygame.draw.circle(self.game_window,BLUE,(self.worker_rect.x,self.worker_rect.y),6) # DRAW CIRCLE\n",
    "        \n",
    "        #-------------- Multiple points TARGETS------------------\n",
    "        n_space=df.shape[0]\n",
    "        for num in range(n_space):\n",
    "            numero_cluster=df['island'][num]\n",
    "            cmap_color=cmap_list[numero_cluster-1]\n",
    "            occupied=df['occupied'][num]\n",
    "            if occupied == 0:\n",
    "                color=RED\n",
    "            else:\n",
    "                color=GREEN\n",
    "            pygame.draw.circle(self.game_window,color,(self.target_rects[num].x,self.target_rects[num].y),6) # DRAW CIRCLE\n",
    "            \n",
    "    def get_image_array_from_game(self):\n",
    "        img = array3d(display.get_surface())\n",
    "        #Preprocessing of channels ( needed for tensorflow)\n",
    "        img = np.swapaxes(img, 0, 1)\n",
    "        return img    \n",
    "    def reset(self):\n",
    "        action=(0,0)\n",
    "        state, reward, done, info = env.step(action)\n",
    "\n",
    "        \n",
    "    def render(self, mode='human'):\n",
    "        if mode == \"human\":\n",
    "            display.update()        \n",
    "    def close(self):\n",
    "        pass"
   ]
  },
  {
   "cell_type": "code",
   "execution_count": 177,
   "id": "a1ff35ce",
   "metadata": {},
   "outputs": [
    {
     "name": "stdout",
     "output_type": "stream",
     "text": [
      "worker_pos 0 0\n",
      "The action is : (0, 0)\n",
      "reward, done, info 0 True {}\n",
      "action_n 11\n",
      "(337, 204)\n",
      "worker_pos 337 204\n",
      "The action is : (337, 204)\n",
      "is_occupied 0\n",
      "reward, done, info 0 True {}\n",
      "Reward = 0 with action = (337, 204)\n",
      "0 True {}\n"
     ]
    },
    {
     "data": {
      "text/plain": [
       "<matplotlib.image.AxesImage at 0x20a07cb8f60>"
      ]
     },
     "execution_count": 177,
     "metadata": {},
     "output_type": "execute_result"
    },
    {
     "data": {
      "image/png": "[encoded data removed]",
      "text/plain": [
       "<Figure size 640x480 with 1 Axes>"
      ]
     },
     "metadata": {},
     "output_type": "display_data"
    }
   ],
   "source": [
    "# method 1 - use local test class\n",
    "env = BasicEnv13()\n",
    "env.reset()\n",
    "action_n = env.action_space.sample()\n",
    "print('action_n',action_n)\n",
    "action=int(df['x_coord'][action_n]), int(df['y_coord'][action_n])\n",
    "print(action)\n",
    "state, reward, done, info = env.step(action)\n",
    "print(\"Reward = {} with action = {}\".format(reward,action))\n",
    "#print(state)\n",
    "import matplotlib.pyplot as plt\n",
    "print(reward, done, info)\n",
    "plt.figure()\n",
    "plt.imshow(state)"
   ]
  },
  {
   "cell_type": "code",
   "execution_count": 175,
   "id": "c5eecb52",
   "metadata": {},
   "outputs": [
    {
     "data": {
      "text/plain": [
       "(719, 609, 3)"
      ]
     },
     "execution_count": 175,
     "metadata": {},
     "output_type": "execute_result"
    }
   ],
   "source": [
    "state.shape"
   ]
  },
  {
   "cell_type": "code",
   "execution_count": 178,
   "id": "a55eb7ea",
   "metadata": {},
   "outputs": [
    {
     "data": {
      "text/plain": [
       "<matplotlib.image.AxesImage at 0x20a07f094a8>"
      ]
     },
     "execution_count": 178,
     "metadata": {},
     "output_type": "execute_result"
    },
    {
     "data": {
      "image/png": "[encoded data removed]",
      "text/plain": [
       "<Figure size 640x480 with 1 Axes>"
      ]
     },
     "metadata": {},
     "output_type": "display_data"
    }
   ],
   "source": [
    "plt.figure()\n",
    "whiteFrame = 255 * np.ones((640,480,3), np.uint8)\n",
    "plt.imshow(whiteFrame)"
   ]
  },
  {
   "cell_type": "code",
   "execution_count": null,
   "id": "a7dbb9aa",
   "metadata": {},
   "outputs": [],
   "source": []
  },
  {
   "cell_type": "code",
   "execution_count": 80,
   "id": "03007d8e",
   "metadata": {},
   "outputs": [],
   "source": [
    "def process_observation_test(observation):\n",
    "    if type(observation) == type(None):\n",
    "        whiteFrame= 255 * np.ones((640,480,3), np.uint8)\n",
    "        observation=whiteFrame\n",
    "    # First convert the numpy array to a PIL Image\n",
    "    img = Image.fromarray(observation)\n",
    "    # Then resize the image\n",
    "    img = img.resize(IMG_SHAPE)\n",
    "    # And convert it to grayscale  (The L stands for luminance)\n",
    "    #img = img.convert(\"L\")\n",
    "    # Convert the image back to a numpy array and finally return the image\n",
    "    img = np.array(img)\n",
    "    return img.astype('uint8')  # saves storage in experience memory"
   ]
  },
  {
   "cell_type": "code",
   "execution_count": 179,
   "id": "d69d722d",
   "metadata": {},
   "outputs": [
    {
     "data": {
      "text/plain": [
       "(84, 84, 3)"
      ]
     },
     "execution_count": 179,
     "metadata": {},
     "output_type": "execute_result"
    }
   ],
   "source": [
    "process_observation_test(None).shape"
   ]
  },
  {
   "cell_type": "code",
   "execution_count": 180,
   "id": "006c9ec4",
   "metadata": {},
   "outputs": [
    {
     "data": {
      "text/plain": [
       "(84, 84, 3)"
      ]
     },
     "execution_count": 180,
     "metadata": {},
     "output_type": "execute_result"
    }
   ],
   "source": [
    "process_observation_test(state).shape"
   ]
  },
  {
   "cell_type": "code",
   "execution_count": 181,
   "id": "c47b780b",
   "metadata": {},
   "outputs": [],
   "source": [
    "from PIL import Image  # To transform the image in the Processor\n",
    "import numpy as np\n",
    "import gym\n",
    "\n",
    "# Convolutional Backbone Network\n",
    "from tensorflow.keras.models import Sequential\n",
    "from tensorflow.keras.layers import Dense, Activation, Flatten, Convolution2D, Permute\n",
    "from tensorflow.keras.optimizers import Adam\n",
    "\n",
    "# Keras-RL\n",
    "from rl.agents.dqn import DQNAgent\n",
    "from rl.policy import LinearAnnealedPolicy, EpsGreedyQPolicy\n",
    "from rl.memory import SequentialMemory\n",
    "from rl.core import Processor\n",
    "from rl.callbacks import FileLogger, ModelIntervalCheckpoint\n"
   ]
  },
  {
   "cell_type": "code",
   "execution_count": 182,
   "id": "6c52c308",
   "metadata": {},
   "outputs": [],
   "source": [
    "nb_actions = env.action_space.n"
   ]
  },
  {
   "cell_type": "code",
   "execution_count": 183,
   "id": "2c9b6ff4",
   "metadata": {},
   "outputs": [
    {
     "data": {
      "text/plain": [
       "20"
      ]
     },
     "execution_count": 183,
     "metadata": {},
     "output_type": "execute_result"
    }
   ],
   "source": [
    "nb_actions"
   ]
  },
  {
   "cell_type": "code",
   "execution_count": 184,
   "id": "47188909",
   "metadata": {},
   "outputs": [],
   "source": [
    "IMG_SHAPE = (84, 84)\n",
    "WINDOW_LENGTH = 20"
   ]
  },
  {
   "cell_type": "code",
   "execution_count": 185,
   "id": "465f8abe",
   "metadata": {},
   "outputs": [],
   "source": [
    "class ImageProcessor(Processor):\n",
    "    def process_observation(self,observation):\n",
    "        if type(observation) == type(None):\n",
    "            whiteFrame= 255 * np.ones((640,480,3), np.uint8)\n",
    "            observation=whiteFrame\n",
    "        # First convert the numpy array to a PIL Image\n",
    "        img = Image.fromarray(observation)\n",
    "        # Then resize the image\n",
    "        img = img.resize(IMG_SHAPE)\n",
    "        # And convert it to grayscale  (The L stands for luminance)\n",
    "        #img = img.convert(\"L\")\n",
    "        # Convert the image back to a numpy array and finally return the image\n",
    "        img = np.array(img)\n",
    "        return img.astype('uint8')  # saves storage in experience memory\n",
    "\n",
    "    def process_state_batch(self, batch):\n",
    "\n",
    "        # We divide the observations by 255 to compress it into the intervall [0, 1].\n",
    "        # This supports the training of the network\n",
    "        # We perform this operation here to save memory.\n",
    "        processed_batch = batch.astype('float32') / 255.\n",
    "        return processed_batch\n",
    "\n",
    "    def process_reward(self, reward):\n",
    "        return np.clip(reward, -1., 1.)\n"
   ]
  },
  {
   "cell_type": "markdown",
   "id": "0c538800",
   "metadata": {},
   "source": [
    "## Model Creation\n",
    "\n",
    "**NOTE: Depending on your custom environment, this model will vary greatly, try reading papers that are solving similar problems to your own!**"
   ]
  },
  {
   "cell_type": "code",
   "execution_count": 186,
   "id": "73941892",
   "metadata": {},
   "outputs": [
    {
     "data": {
      "text/plain": [
       "(84, 84, 3)"
      ]
     },
     "execution_count": 186,
     "metadata": {},
     "output_type": "execute_result"
    }
   ],
   "source": [
    "input_shape = (IMG_SHAPE[0], IMG_SHAPE[1],3)\n",
    "input_shape"
   ]
  },
  {
   "cell_type": "code",
   "execution_count": 187,
   "id": "74c72eeb",
   "metadata": {
    "scrolled": true
   },
   "outputs": [
    {
     "data": {
      "text/plain": [
       "\"\\nmodel = Sequential()\\nmodel.add(Permute((2, 3, 1), input_shape=input_shape))\\nmodel.add(Convolution2D(32, (8, 8), strides=(4, 4),kernel_initializer='he_normal'))\\nmodel.add(Activation('relu'))\\nmodel.add(Convolution2D(64, (4, 4), strides=(2, 2), kernel_initializer='he_normal'))\\nmodel.add(Activation('relu'))\\nmodel.add(Convolution2D(64, (3, 3), strides=(1, 1), kernel_initializer='he_normal'))\\nmodel.add(Activation('relu'))\\nmodel.add(Flatten())\\nmodel.add(Dense(512))\\nmodel.add(Activation('relu'))\\nmodel.add(Dense(nb_actions))\\nmodel.add(Activation('linear'))\\nprint(model.summary())\\n\\n\""
      ]
     },
     "execution_count": 187,
     "metadata": {},
     "output_type": "execute_result"
    }
   ],
   "source": [
    "'''\n",
    "model = Sequential()\n",
    "model.add(Permute((2, 3, 1), input_shape=input_shape))\n",
    "model.add(Convolution2D(32, (8, 8), strides=(4, 4),kernel_initializer='he_normal'))\n",
    "model.add(Activation('relu'))\n",
    "model.add(Convolution2D(64, (4, 4), strides=(2, 2), kernel_initializer='he_normal'))\n",
    "model.add(Activation('relu'))\n",
    "model.add(Convolution2D(64, (3, 3), strides=(1, 1), kernel_initializer='he_normal'))\n",
    "model.add(Activation('relu'))\n",
    "model.add(Flatten())\n",
    "model.add(Dense(512))\n",
    "model.add(Activation('relu'))\n",
    "model.add(Dense(nb_actions))\n",
    "model.add(Activation('linear'))\n",
    "print(model.summary())\n",
    "\n",
    "'''"
   ]
  },
  {
   "cell_type": "code",
   "execution_count": 188,
   "id": "7cad3824",
   "metadata": {},
   "outputs": [
    {
     "name": "stdout",
     "output_type": "stream",
     "text": [
      "Model: \"sequential_13\"\n",
      "_________________________________________________________________\n",
      " Layer (type)                Output Shape              Param #   \n",
      "=================================================================\n",
      " conv2d_37 (Conv2D)          (None, 82, 82, 64)        1792      \n",
      "                                                                 \n",
      " conv2d_38 (Conv2D)          (None, 80, 80, 32)        18464     \n",
      "                                                                 \n",
      " flatten_10 (Flatten)        (None, 204800)            0         \n",
      "                                                                 \n",
      " dense_19 (Dense)            (None, 20)                4096020   \n",
      "                                                                 \n",
      "=================================================================\n",
      "Total params: 4,116,276\n",
      "Trainable params: 4,116,276\n",
      "Non-trainable params: 0\n",
      "_________________________________________________________________\n",
      "None\n"
     ]
    }
   ],
   "source": [
    "from keras.models import Sequential\n",
    "from keras.layers import Dense, Conv2D, Flatten\n",
    "#create model\n",
    "model = Sequential()\n",
    "#add model layers\n",
    "model.add(Conv2D(64, kernel_size=3, activation='relu', input_shape=input_shape))  # (28,28,1)))\n",
    "model.add(Conv2D(32, kernel_size=3, activation='relu'))\n",
    "model.add(Flatten())\n",
    "model.add(Dense(nb_actions, activation='softmax'))\n",
    "print(model.summary())\n"
   ]
  },
  {
   "cell_type": "markdown",
   "id": "29a8adae",
   "metadata": {},
   "source": [
    "----\n",
    "## Creating the Agent"
   ]
  },
  {
   "cell_type": "code",
   "execution_count": 189,
   "id": "33e3d97e",
   "metadata": {},
   "outputs": [],
   "source": [
    "memory = SequentialMemory(limit=1000000, window_length=WINDOW_LENGTH)"
   ]
  },
  {
   "cell_type": "code",
   "execution_count": 190,
   "id": "eaeaefae",
   "metadata": {},
   "outputs": [],
   "source": [
    "processor = ImageProcessor()"
   ]
  },
  {
   "cell_type": "code",
   "execution_count": 191,
   "id": "2a22057e",
   "metadata": {},
   "outputs": [],
   "source": [
    "policy = LinearAnnealedPolicy(EpsGreedyQPolicy(), attr='eps', value_max=1., value_min=.1, value_test=.05,\n",
    "                              nb_steps=1000000)"
   ]
  },
  {
   "cell_type": "code",
   "execution_count": 192,
   "id": "f875d8a1",
   "metadata": {},
   "outputs": [],
   "source": [
    "dqn = DQNAgent(model=model, nb_actions=nb_actions, policy=policy, memory=memory,\n",
    "               processor=processor, nb_steps_warmup=50000, gamma=.99, target_model_update=10000,\n",
    "              train_interval=4, delta_clip=1)"
   ]
  },
  {
   "cell_type": "code",
   "execution_count": 193,
   "id": "c094512a",
   "metadata": {},
   "outputs": [],
   "source": [
    "dqn.compile(Adam(learning_rate=.00025), metrics=['mae'])"
   ]
  },
  {
   "cell_type": "code",
   "execution_count": 194,
   "id": "4cf87824",
   "metadata": {},
   "outputs": [],
   "source": [
    "weights_filename = 'test_dqn_worker_weights.h5f'\n",
    "checkpoint_weights_filename = 'test_dqn_' + \"worker\" + '_weights_{step}.h5f'\n",
    "checkpoint_callback = ModelIntervalCheckpoint(checkpoint_weights_filename, interval=100000)"
   ]
  },
  {
   "cell_type": "code",
   "execution_count": 195,
   "id": "3edc2ed9",
   "metadata": {},
   "outputs": [
    {
     "name": "stdout",
     "output_type": "stream",
     "text": [
      "Training for 1500000 steps ...\n",
      "worker_pos 0 0\n",
      "The action is : (0, 0)\n",
      "reward, done, info 0 True {}\n",
      "Interval 1 (0 steps performed)\n"
     ]
    },
    {
     "ename": "ValueError",
     "evalue": "Error when checking input: expected conv2d_37_input to have 4 dimensions, but got array with shape (1, 20, 84, 84, 3)",
     "output_type": "error",
     "traceback": [
      "\u001b[1;31m---------------------------------------------------------------------------\u001b[0m",
      "\u001b[1;31mValueError\u001b[0m                                Traceback (most recent call last)",
      "\u001b[1;32m~\\AppData\\Local\\Temp\\ipykernel_2360\\1447580431.py\u001b[0m in \u001b[0;36m<module>\u001b[1;34m\u001b[0m\n\u001b[1;32m----> 1\u001b[1;33m \u001b[0mdqn\u001b[0m\u001b[1;33m.\u001b[0m\u001b[0mfit\u001b[0m\u001b[1;33m(\u001b[0m\u001b[0menv\u001b[0m\u001b[1;33m,\u001b[0m \u001b[0mnb_steps\u001b[0m\u001b[1;33m=\u001b[0m\u001b[1;36m1500000\u001b[0m\u001b[1;33m,\u001b[0m \u001b[0mcallbacks\u001b[0m\u001b[1;33m=\u001b[0m\u001b[1;33m[\u001b[0m\u001b[0mcheckpoint_callback\u001b[0m\u001b[1;33m]\u001b[0m\u001b[1;33m,\u001b[0m \u001b[0mlog_interval\u001b[0m\u001b[1;33m=\u001b[0m\u001b[1;36m100000\u001b[0m\u001b[1;33m,\u001b[0m \u001b[0mvisualize\u001b[0m\u001b[1;33m=\u001b[0m\u001b[1;32mFalse\u001b[0m\u001b[1;33m)\u001b[0m\u001b[1;33m\u001b[0m\u001b[0m\n\u001b[0m\u001b[0;32m      2\u001b[0m \u001b[1;31m# After training is done, we save the final weights one more time.\u001b[0m\u001b[1;33m\u001b[0m\u001b[1;33m\u001b[0m\u001b[0m\n\u001b[0;32m      3\u001b[0m \u001b[0mdqn\u001b[0m\u001b[1;33m.\u001b[0m\u001b[0msave_weights\u001b[0m\u001b[1;33m(\u001b[0m\u001b[0mweights_filename\u001b[0m\u001b[1;33m,\u001b[0m \u001b[0moverwrite\u001b[0m\u001b[1;33m=\u001b[0m\u001b[1;32mTrue\u001b[0m\u001b[1;33m)\u001b[0m\u001b[1;33m\u001b[0m\u001b[0m\n",
      "\u001b[1;32m~\\Anaconda3\\envs\\gym\\lib\\site-packages\\rl\\core.py\u001b[0m in \u001b[0;36mfit\u001b[1;34m(self, env, nb_steps, action_repetition, callbacks, verbose, visualize, nb_max_start_steps, start_step_policy, log_interval, nb_max_episode_steps)\u001b[0m\n\u001b[0;32m    166\u001b[0m                 \u001b[1;31m# This is were all of the work happens. We first perceive and compute the action\u001b[0m\u001b[1;33m\u001b[0m\u001b[1;33m\u001b[0m\u001b[0m\n\u001b[0;32m    167\u001b[0m                 \u001b[1;31m# (forward step) and then use the reward to improve (backward step).\u001b[0m\u001b[1;33m\u001b[0m\u001b[1;33m\u001b[0m\u001b[0m\n\u001b[1;32m--> 168\u001b[1;33m                 \u001b[0maction\u001b[0m \u001b[1;33m=\u001b[0m \u001b[0mself\u001b[0m\u001b[1;33m.\u001b[0m\u001b[0mforward\u001b[0m\u001b[1;33m(\u001b[0m\u001b[0mobservation\u001b[0m\u001b[1;33m)\u001b[0m\u001b[1;33m\u001b[0m\u001b[0m\n\u001b[0m\u001b[0;32m    169\u001b[0m                 \u001b[1;32mif\u001b[0m \u001b[0mself\u001b[0m\u001b[1;33m.\u001b[0m\u001b[0mprocessor\u001b[0m \u001b[1;32mis\u001b[0m \u001b[1;32mnot\u001b[0m \u001b[1;32mNone\u001b[0m\u001b[1;33m:\u001b[0m\u001b[1;33m\u001b[0m\u001b[0m\n\u001b[0;32m    170\u001b[0m                     \u001b[0maction\u001b[0m \u001b[1;33m=\u001b[0m \u001b[0mself\u001b[0m\u001b[1;33m.\u001b[0m\u001b[0mprocessor\u001b[0m\u001b[1;33m.\u001b[0m\u001b[0mprocess_action\u001b[0m\u001b[1;33m(\u001b[0m\u001b[0maction\u001b[0m\u001b[1;33m)\u001b[0m\u001b[1;33m\u001b[0m\u001b[0m\n",
      "\u001b[1;32m~\\Anaconda3\\envs\\gym\\lib\\site-packages\\rl\\agents\\dqn.py\u001b[0m in \u001b[0;36mforward\u001b[1;34m(self, observation)\u001b[0m\n\u001b[0;32m    222\u001b[0m         \u001b[1;31m# Select an action.\u001b[0m\u001b[1;33m\u001b[0m\u001b[1;33m\u001b[0m\u001b[0m\n\u001b[0;32m    223\u001b[0m         \u001b[0mstate\u001b[0m \u001b[1;33m=\u001b[0m \u001b[0mself\u001b[0m\u001b[1;33m.\u001b[0m\u001b[0mmemory\u001b[0m\u001b[1;33m.\u001b[0m\u001b[0mget_recent_state\u001b[0m\u001b[1;33m(\u001b[0m\u001b[0mobservation\u001b[0m\u001b[1;33m)\u001b[0m\u001b[1;33m\u001b[0m\u001b[0m\n\u001b[1;32m--> 224\u001b[1;33m         \u001b[0mq_values\u001b[0m \u001b[1;33m=\u001b[0m \u001b[0mself\u001b[0m\u001b[1;33m.\u001b[0m\u001b[0mcompute_q_values\u001b[0m\u001b[1;33m(\u001b[0m\u001b[0mstate\u001b[0m\u001b[1;33m)\u001b[0m\u001b[1;33m\u001b[0m\u001b[0m\n\u001b[0m\u001b[0;32m    225\u001b[0m         \u001b[1;32mif\u001b[0m \u001b[0mself\u001b[0m\u001b[1;33m.\u001b[0m\u001b[0mtraining\u001b[0m\u001b[1;33m:\u001b[0m\u001b[1;33m\u001b[0m\u001b[0m\n\u001b[0;32m    226\u001b[0m             \u001b[0maction\u001b[0m \u001b[1;33m=\u001b[0m \u001b[0mself\u001b[0m\u001b[1;33m.\u001b[0m\u001b[0mpolicy\u001b[0m\u001b[1;33m.\u001b[0m\u001b[0mselect_action\u001b[0m\u001b[1;33m(\u001b[0m\u001b[0mq_values\u001b[0m\u001b[1;33m=\u001b[0m\u001b[0mq_values\u001b[0m\u001b[1;33m)\u001b[0m\u001b[1;33m\u001b[0m\u001b[0m\n",
      "\u001b[1;32m~\\Anaconda3\\envs\\gym\\lib\\site-packages\\rl\\agents\\dqn.py\u001b[0m in \u001b[0;36mcompute_q_values\u001b[1;34m(self, state)\u001b[0m\n\u001b[0;32m     66\u001b[0m \u001b[1;33m\u001b[0m\u001b[0m\n\u001b[0;32m     67\u001b[0m     \u001b[1;32mdef\u001b[0m \u001b[0mcompute_q_values\u001b[0m\u001b[1;33m(\u001b[0m\u001b[0mself\u001b[0m\u001b[1;33m,\u001b[0m \u001b[0mstate\u001b[0m\u001b[1;33m)\u001b[0m\u001b[1;33m:\u001b[0m\u001b[1;33m\u001b[0m\u001b[0m\n\u001b[1;32m---> 68\u001b[1;33m         \u001b[0mq_values\u001b[0m \u001b[1;33m=\u001b[0m \u001b[0mself\u001b[0m\u001b[1;33m.\u001b[0m\u001b[0mcompute_batch_q_values\u001b[0m\u001b[1;33m(\u001b[0m\u001b[1;33m[\u001b[0m\u001b[0mstate\u001b[0m\u001b[1;33m]\u001b[0m\u001b[1;33m)\u001b[0m\u001b[1;33m.\u001b[0m\u001b[0mflatten\u001b[0m\u001b[1;33m(\u001b[0m\u001b[1;33m)\u001b[0m\u001b[1;33m\u001b[0m\u001b[0m\n\u001b[0m\u001b[0;32m     69\u001b[0m         \u001b[1;32massert\u001b[0m \u001b[0mq_values\u001b[0m\u001b[1;33m.\u001b[0m\u001b[0mshape\u001b[0m \u001b[1;33m==\u001b[0m \u001b[1;33m(\u001b[0m\u001b[0mself\u001b[0m\u001b[1;33m.\u001b[0m\u001b[0mnb_actions\u001b[0m\u001b[1;33m,\u001b[0m\u001b[1;33m)\u001b[0m\u001b[1;33m\u001b[0m\u001b[0m\n\u001b[0;32m     70\u001b[0m         \u001b[1;32mreturn\u001b[0m \u001b[0mq_values\u001b[0m\u001b[1;33m\u001b[0m\u001b[0m\n",
      "\u001b[1;32m~\\Anaconda3\\envs\\gym\\lib\\site-packages\\rl\\agents\\dqn.py\u001b[0m in \u001b[0;36mcompute_batch_q_values\u001b[1;34m(self, state_batch)\u001b[0m\n\u001b[0;32m     61\u001b[0m     \u001b[1;32mdef\u001b[0m \u001b[0mcompute_batch_q_values\u001b[0m\u001b[1;33m(\u001b[0m\u001b[0mself\u001b[0m\u001b[1;33m,\u001b[0m \u001b[0mstate_batch\u001b[0m\u001b[1;33m)\u001b[0m\u001b[1;33m:\u001b[0m\u001b[1;33m\u001b[0m\u001b[0m\n\u001b[0;32m     62\u001b[0m         \u001b[0mbatch\u001b[0m \u001b[1;33m=\u001b[0m \u001b[0mself\u001b[0m\u001b[1;33m.\u001b[0m\u001b[0mprocess_state_batch\u001b[0m\u001b[1;33m(\u001b[0m\u001b[0mstate_batch\u001b[0m\u001b[1;33m)\u001b[0m\u001b[1;33m\u001b[0m\u001b[0m\n\u001b[1;32m---> 63\u001b[1;33m         \u001b[0mq_values\u001b[0m \u001b[1;33m=\u001b[0m \u001b[0mself\u001b[0m\u001b[1;33m.\u001b[0m\u001b[0mmodel\u001b[0m\u001b[1;33m.\u001b[0m\u001b[0mpredict_on_batch\u001b[0m\u001b[1;33m(\u001b[0m\u001b[0mbatch\u001b[0m\u001b[1;33m)\u001b[0m\u001b[1;33m\u001b[0m\u001b[0m\n\u001b[0m\u001b[0;32m     64\u001b[0m         \u001b[1;32massert\u001b[0m \u001b[0mq_values\u001b[0m\u001b[1;33m.\u001b[0m\u001b[0mshape\u001b[0m \u001b[1;33m==\u001b[0m \u001b[1;33m(\u001b[0m\u001b[0mlen\u001b[0m\u001b[1;33m(\u001b[0m\u001b[0mstate_batch\u001b[0m\u001b[1;33m)\u001b[0m\u001b[1;33m,\u001b[0m \u001b[0mself\u001b[0m\u001b[1;33m.\u001b[0m\u001b[0mnb_actions\u001b[0m\u001b[1;33m)\u001b[0m\u001b[1;33m\u001b[0m\u001b[0m\n\u001b[0;32m     65\u001b[0m         \u001b[1;32mreturn\u001b[0m \u001b[0mq_values\u001b[0m\u001b[1;33m\u001b[0m\u001b[0m\n",
      "\u001b[1;32m~\\Anaconda3\\envs\\gym\\lib\\site-packages\\keras\\engine\\training_v1.py\u001b[0m in \u001b[0;36mpredict_on_batch\u001b[1;34m(self, x)\u001b[0m\n\u001b[0;32m   1303\u001b[0m         \u001b[1;31m# Validate and standardize user data.\u001b[0m\u001b[1;33m\u001b[0m\u001b[1;33m\u001b[0m\u001b[0m\n\u001b[0;32m   1304\u001b[0m         inputs, _, _ = self._standardize_user_data(\n\u001b[1;32m-> 1305\u001b[1;33m             \u001b[0mx\u001b[0m\u001b[1;33m,\u001b[0m \u001b[0mextract_tensors_from_dataset\u001b[0m\u001b[1;33m=\u001b[0m\u001b[1;32mTrue\u001b[0m\u001b[1;33m\u001b[0m\u001b[0m\n\u001b[0m\u001b[0;32m   1306\u001b[0m         )\n\u001b[0;32m   1307\u001b[0m         \u001b[1;31m# If `self._distribution_strategy` is True, then we are in a replica\u001b[0m\u001b[1;33m\u001b[0m\u001b[1;33m\u001b[0m\u001b[0m\n",
      "\u001b[1;32m~\\Anaconda3\\envs\\gym\\lib\\site-packages\\keras\\engine\\training_v1.py\u001b[0m in \u001b[0;36m_standardize_user_data\u001b[1;34m(self, x, y, sample_weight, class_weight, batch_size, check_steps, steps_name, steps, validation_split, shuffle, extract_tensors_from_dataset)\u001b[0m\n\u001b[0;32m   2655\u001b[0m             \u001b[0mis_dataset\u001b[0m\u001b[1;33m=\u001b[0m\u001b[0mis_dataset\u001b[0m\u001b[1;33m,\u001b[0m\u001b[1;33m\u001b[0m\u001b[0m\n\u001b[0;32m   2656\u001b[0m             \u001b[0mclass_weight\u001b[0m\u001b[1;33m=\u001b[0m\u001b[0mclass_weight\u001b[0m\u001b[1;33m,\u001b[0m\u001b[1;33m\u001b[0m\u001b[0m\n\u001b[1;32m-> 2657\u001b[1;33m             \u001b[0mbatch_size\u001b[0m\u001b[1;33m=\u001b[0m\u001b[0mbatch_size\u001b[0m\u001b[1;33m,\u001b[0m\u001b[1;33m\u001b[0m\u001b[0m\n\u001b[0m\u001b[0;32m   2658\u001b[0m         )\n\u001b[0;32m   2659\u001b[0m \u001b[1;33m\u001b[0m\u001b[0m\n",
      "\u001b[1;32m~\\Anaconda3\\envs\\gym\\lib\\site-packages\\keras\\engine\\training_v1.py\u001b[0m in \u001b[0;36m_standardize_tensors\u001b[1;34m(self, x, y, sample_weight, run_eagerly, dict_inputs, is_dataset, class_weight, batch_size)\u001b[0m\n\u001b[0;32m   2693\u001b[0m                 \u001b[0mfeed_input_shapes\u001b[0m\u001b[1;33m,\u001b[0m\u001b[1;33m\u001b[0m\u001b[0m\n\u001b[0;32m   2694\u001b[0m                 \u001b[0mcheck_batch_axis\u001b[0m\u001b[1;33m=\u001b[0m\u001b[1;32mFalse\u001b[0m\u001b[1;33m,\u001b[0m  \u001b[1;31m# Don't enforce the batch size.\u001b[0m\u001b[1;33m\u001b[0m\u001b[0m\n\u001b[1;32m-> 2695\u001b[1;33m                 \u001b[0mexception_prefix\u001b[0m\u001b[1;33m=\u001b[0m\u001b[1;34m\"input\"\u001b[0m\u001b[1;33m,\u001b[0m\u001b[1;33m\u001b[0m\u001b[0m\n\u001b[0m\u001b[0;32m   2696\u001b[0m             )\n\u001b[0;32m   2697\u001b[0m \u001b[1;33m\u001b[0m\u001b[0m\n",
      "\u001b[1;32m~\\Anaconda3\\envs\\gym\\lib\\site-packages\\keras\\engine\\training_utils_v1.py\u001b[0m in \u001b[0;36mstandardize_input_data\u001b[1;34m(data, names, shapes, check_batch_axis, exception_prefix)\u001b[0m\n\u001b[0;32m    720\u001b[0m                         \u001b[1;33m+\u001b[0m \u001b[0mstr\u001b[0m\u001b[1;33m(\u001b[0m\u001b[0mlen\u001b[0m\u001b[1;33m(\u001b[0m\u001b[0mshape\u001b[0m\u001b[1;33m)\u001b[0m\u001b[1;33m)\u001b[0m\u001b[1;33m\u001b[0m\u001b[0m\n\u001b[0;32m    721\u001b[0m                         \u001b[1;33m+\u001b[0m \u001b[1;34m\" dimensions, but got array \"\u001b[0m\u001b[1;33m\u001b[0m\u001b[0m\n\u001b[1;32m--> 722\u001b[1;33m                         \u001b[1;34m\"with shape \"\u001b[0m \u001b[1;33m+\u001b[0m \u001b[0mstr\u001b[0m\u001b[1;33m(\u001b[0m\u001b[0mdata_shape\u001b[0m\u001b[1;33m)\u001b[0m\u001b[1;33m\u001b[0m\u001b[0m\n\u001b[0m\u001b[0;32m    723\u001b[0m                     )\n\u001b[0;32m    724\u001b[0m                 \u001b[1;32mif\u001b[0m \u001b[1;32mnot\u001b[0m \u001b[0mcheck_batch_axis\u001b[0m\u001b[1;33m:\u001b[0m\u001b[1;33m\u001b[0m\u001b[0m\n",
      "\u001b[1;31mValueError\u001b[0m: Error when checking input: expected conv2d_37_input to have 4 dimensions, but got array with shape (1, 20, 84, 84, 3)"
     ]
    }
   ],
   "source": [
    "dqn.fit(env, nb_steps=1500000, callbacks=[checkpoint_callback], log_interval=100000, visualize=False)\n",
    "# After training is done, we save the final weights one more time.\n",
    "dqn.save_weights(weights_filename, overwrite=True)"
   ]
  },
  {
   "cell_type": "code",
   "execution_count": null,
   "id": "e0848b17",
   "metadata": {},
   "outputs": [],
   "source": []
  }
 ],
 "metadata": {
  "kernelspec": {
   "display_name": "Python (Gym)",
   "language": "python",
   "name": "gym"
  },
  "language_info": {
   "codemirror_mode": {
    "name": "ipython",
    "version": 3
   },
   "file_extension": ".py",
   "mimetype": "text/x-python",
   "name": "python",
   "nbconvert_exporter": "python",
   "pygments_lexer": "ipython3",
   "version": "3.7.0"
  }
 },
 "nbformat": 4,
 "nbformat_minor": 5
}
