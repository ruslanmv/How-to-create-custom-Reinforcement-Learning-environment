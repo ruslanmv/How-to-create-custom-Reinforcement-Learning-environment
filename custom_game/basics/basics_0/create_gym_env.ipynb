{
 "cells": [
  {
   "cell_type": "code",
   "execution_count": 2,
   "id": "7ffdb502",
   "metadata": {},
   "outputs": [
    {
     "name": "stdout",
     "output_type": "stream",
     "text": [
      "worker:\r\n",
      "total 20\r\n",
      "drwxrwxr-x 4 franec franec 4096 nov 24 00:15 .\r\n",
      "drwxrwxr-x 8 franec franec 4096 nov 24 00:21 ..\r\n",
      "drwxrwxr-x 2 franec franec 4096 nov 24 00:21 gymworker.egg-info\r\n",
      "-rw-rw-r-- 1 franec franec  150 nov 23 22:30 setup.py\r\n",
      "drwxrwxr-x 4 franec franec 4096 nov 24 00:15 worker\r\n",
      "\r\n",
      "worker/gymworker.egg-info:\r\n",
      "total 28\r\n",
      "drwxrwxr-x 2 franec franec 4096 nov 24 00:21 .\r\n",
      "drwxrwxr-x 4 franec franec 4096 nov 24 00:15 ..\r\n",
      "-rw-rw-r-- 1 franec franec    1 nov 24 00:21 dependency_links.txt\r\n",
      "-rw-rw-r-- 1 franec franec   53 nov 24 00:21 PKG-INFO\r\n",
      "-rw-rw-r-- 1 franec franec    4 nov 24 00:21 requires.txt\r\n",
      "-rw-rw-r-- 1 franec franec  406 nov 24 00:21 SOURCES.txt\r\n",
      "-rw-rw-r-- 1 franec franec    7 nov 24 00:21 top_level.txt\r\n",
      "\r\n",
      "worker/worker:\r\n",
      "total 20\r\n",
      "drwxrwxr-x 4 franec franec 4096 nov 24 00:15 .\r\n",
      "drwxrwxr-x 4 franec franec 4096 nov 24 00:15 ..\r\n",
      "drwxrwxr-x 6 franec franec 4096 nov 24 00:15 envs\r\n",
      "-rw-rw-r-- 1 franec franec  120 nov 23 23:43 __init__.py\r\n",
      "drwxrwxr-x 2 franec franec 4096 nov 24 00:15 __pycache__\r\n",
      "\r\n",
      "worker/worker/envs:\r\n",
      "total 32\r\n",
      "drwxrwxr-x 6 franec franec 4096 nov 24 00:15 .\r\n",
      "drwxrwxr-x 4 franec franec 4096 nov 24 00:15 ..\r\n",
      "drwxrwxr-x 2 franec franec 4096 nov 23 22:32 data\r\n",
      "drwxrwxr-x 2 franec franec 4096 nov 23 22:32 images\r\n",
      "-rw-rw-r-- 1 franec franec   48 nov 23 23:42 __init__.py\r\n",
      "drwxrwxr-x 2 franec franec 4096 nov 24 00:15 __pycache__\r\n",
      "drwxrwxr-x 2 franec franec 4096 nov 23 23:57 src\r\n",
      "-rw-rw-r-- 1 franec franec 3244 nov 24 00:13 worker_env.py\r\n",
      "\r\n",
      "worker/worker/envs/data:\r\n",
      "total 12\r\n",
      "drwxrwxr-x 2 franec franec 4096 nov 23 22:32 .\r\n",
      "drwxrwxr-x 6 franec franec 4096 nov 24 00:15 ..\r\n",
      "-rw-rw-r-- 1 franec franec 1830 nov 23 22:32 seats.pkl\r\n",
      "\r\n",
      "worker/worker/envs/images:\r\n",
      "total 244\r\n",
      "drwxrwxr-x 2 franec franec   4096 nov 23 22:32 .\r\n",
      "drwxrwxr-x 6 franec franec   4096 nov 24 00:15 ..\r\n",
      "-rw-rw-r-- 1 franec franec 240691 nov 23 22:32 background.png\r\n",
      "\r\n",
      "worker/worker/envs/__pycache__:\r\n",
      "total 20\r\n",
      "drwxrwxr-x 2 franec franec 4096 nov 24 00:15 .\r\n",
      "drwxrwxr-x 6 franec franec 4096 nov 24 00:15 ..\r\n",
      "-rw-rw-r-- 1 franec franec  343 nov 24 00:15 __init__.cpython-311.pyc\r\n",
      "-rw-rw-r-- 1 franec franec 6131 nov 24 00:15 worker_env.cpython-311.pyc\r\n",
      "\r\n",
      "worker/worker/envs/src:\r\n",
      "total 36\r\n",
      "drwxrwxr-x 2 franec franec 4096 nov 23 23:57 .\r\n",
      "drwxrwxr-x 6 franec franec 4096 nov 24 00:15 ..\r\n",
      "-rw-rw-r-- 1 franec franec 2497 nov 23 22:32 configs.py\r\n",
      "-rw-rw-r-- 1 franec franec  288 nov 23 22:32 libs.py\r\n",
      "-rw-rw-r-- 1 franec franec 3579 nov 23 22:32 play_game.py\r\n",
      "-rw-rw-r-- 1 franec franec  894 nov 23 22:32 setup_game.py\r\n",
      "-rw-rw-r-- 1 franec franec  914 nov 23 22:32 utils.py\r\n",
      "-rw-rw-r-- 1 franec franec 4737 nov 23 22:32 worker_env.py\r\n",
      "\r\n",
      "worker/worker/__pycache__:\r\n",
      "total 12\r\n",
      "drwxrwxr-x 2 franec franec 4096 nov 24 00:15 .\r\n",
      "drwxrwxr-x 4 franec franec 4096 nov 24 00:15 ..\r\n",
      "-rw-rw-r-- 1 franec franec  450 nov 24 00:15 __init__.cpython-311.pyc\r\n"
     ]
    }
   ],
   "source": [
    "!ls -laR worker"
   ]
  },
  {
   "cell_type": "code",
   "execution_count": 2,
   "id": "f136846a",
   "metadata": {},
   "outputs": [
    {
     "name": "stdout",
     "output_type": "stream",
     "text": [
      "Obtaining file:///home/franec/Documents/data_game_project/repos/How-to-create-custom-Reinforcement-Learning-environment/custom_game/basics/basics_0/worker\n",
      "  Preparing metadata (setup.py) ... \u001b[?25ldone\n",
      "\u001b[?25hRequirement already satisfied: gym in /home/franec/anaconda3/envs/data_game_env/lib/python3.11/site-packages (from gymworker==0.0.1) (0.26.2)\n",
      "Requirement already satisfied: numpy>=1.18.0 in /home/franec/anaconda3/envs/data_game_env/lib/python3.11/site-packages (from gym->gymworker==0.0.1) (1.23.5)\n",
      "Requirement already satisfied: cloudpickle>=1.2.0 in /home/franec/anaconda3/envs/data_game_env/lib/python3.11/site-packages (from gym->gymworker==0.0.1) (2.2.0)\n",
      "Requirement already satisfied: gym-notices>=0.0.4 in /home/franec/anaconda3/envs/data_game_env/lib/python3.11/site-packages (from gym->gymworker==0.0.1) (0.0.8)\n",
      "Installing collected packages: gymworker\n",
      "  Attempting uninstall: gymworker\n",
      "    Found existing installation: gymworker 0.0.1\n",
      "    Uninstalling gymworker-0.0.1:\n",
      "      Successfully uninstalled gymworker-0.0.1\n",
      "  Running setup.py develop for gymworker\n",
      "Successfully installed gymworker-0.0.1\n"
     ]
    }
   ],
   "source": [
    "!pip3 install -e worker"
   ]
  },
  {
   "cell_type": "code",
   "execution_count": 3,
   "id": "6c7efc9f",
   "metadata": {},
   "outputs": [
    {
     "ename": "AssertionError",
     "evalue": "The environment must specify an observation space. https://www.gymlibrary.dev/content/environment_creation/",
     "output_type": "error",
     "traceback": [
      "\u001b[0;31m---------------------------------------------------------------------------\u001b[0m",
      "\u001b[0;31mAssertionError\u001b[0m                            Traceback (most recent call last)",
      "Cell \u001b[0;32mIn [3], line 7\u001b[0m\n\u001b[1;32m      4\u001b[0m \u001b[38;5;28;01mfrom\u001b[39;00m \u001b[38;5;21;01msrc\u001b[39;00m\u001b[38;5;21;01m.\u001b[39;00m\u001b[38;5;21;01mconfigs\u001b[39;00m \u001b[38;5;28;01mimport\u001b[39;00m RENDER_MODE\n\u001b[1;32m      6\u001b[0m \u001b[38;5;66;03m# env = gym.make(f\"{RENDER_MODE}:{RENDER_MODE}-v0\")\u001b[39;00m\n\u001b[0;32m----> 7\u001b[0m env \u001b[38;5;241m=\u001b[39m gym\u001b[38;5;241m.\u001b[39mmake(\u001b[38;5;124mf\u001b[39m\u001b[38;5;124m\"\u001b[39m\u001b[38;5;124mworker:worker-v0\u001b[39m\u001b[38;5;124m\"\u001b[39m)\n\u001b[1;32m      9\u001b[0m env\u001b[38;5;241m.\u001b[39mreset()\n\u001b[1;32m     10\u001b[0m env\u001b[38;5;241m.\u001b[39mrender(\u001b[38;5;124mf\u001b[39m\u001b[38;5;124m\"\u001b[39m\u001b[38;5;124mhuman\u001b[39m\u001b[38;5;124m\"\u001b[39m)\n",
      "File \u001b[0;32m~/anaconda3/envs/data_game_env/lib/python3.11/site-packages/gym/envs/registration.py:669\u001b[0m, in \u001b[0;36mmake\u001b[0;34m(id, max_episode_steps, autoreset, apply_api_compatibility, disable_env_checker, **kwargs)\u001b[0m\n\u001b[1;32m    665\u001b[0m \u001b[38;5;66;03m# Run the environment checker as the lowest level wrapper\u001b[39;00m\n\u001b[1;32m    666\u001b[0m \u001b[38;5;28;01mif\u001b[39;00m disable_env_checker \u001b[38;5;129;01mis\u001b[39;00m \u001b[38;5;28;01mFalse\u001b[39;00m \u001b[38;5;129;01mor\u001b[39;00m (\n\u001b[1;32m    667\u001b[0m     disable_env_checker \u001b[38;5;129;01mis\u001b[39;00m \u001b[38;5;28;01mNone\u001b[39;00m \u001b[38;5;129;01mand\u001b[39;00m spec_\u001b[38;5;241m.\u001b[39mdisable_env_checker \u001b[38;5;129;01mis\u001b[39;00m \u001b[38;5;28;01mFalse\u001b[39;00m\n\u001b[1;32m    668\u001b[0m ):\n\u001b[0;32m--> 669\u001b[0m     env \u001b[38;5;241m=\u001b[39m PassiveEnvChecker(env)\n\u001b[1;32m    671\u001b[0m \u001b[38;5;66;03m# Add the order enforcing wrapper\u001b[39;00m\n\u001b[1;32m    672\u001b[0m \u001b[38;5;28;01mif\u001b[39;00m spec_\u001b[38;5;241m.\u001b[39morder_enforce:\n",
      "File \u001b[0;32m~/anaconda3/envs/data_game_env/lib/python3.11/site-packages/gym/wrappers/env_checker.py:24\u001b[0m, in \u001b[0;36mPassiveEnvChecker.__init__\u001b[0;34m(self, env)\u001b[0m\n\u001b[1;32m     20\u001b[0m \u001b[38;5;28;01massert\u001b[39;00m \u001b[38;5;28mhasattr\u001b[39m(\n\u001b[1;32m     21\u001b[0m     env, \u001b[38;5;124m\"\u001b[39m\u001b[38;5;124maction_space\u001b[39m\u001b[38;5;124m\"\u001b[39m\n\u001b[1;32m     22\u001b[0m ), \u001b[38;5;124m\"\u001b[39m\u001b[38;5;124mThe environment must specify an action space. https://www.gymlibrary.dev/content/environment_creation/\u001b[39m\u001b[38;5;124m\"\u001b[39m\n\u001b[1;32m     23\u001b[0m check_action_space(env\u001b[38;5;241m.\u001b[39maction_space)\n\u001b[0;32m---> 24\u001b[0m \u001b[38;5;28;01massert\u001b[39;00m \u001b[38;5;28mhasattr\u001b[39m(\n\u001b[1;32m     25\u001b[0m     env, \u001b[38;5;124m\"\u001b[39m\u001b[38;5;124mobservation_space\u001b[39m\u001b[38;5;124m\"\u001b[39m\n\u001b[1;32m     26\u001b[0m ), \u001b[38;5;124m\"\u001b[39m\u001b[38;5;124mThe environment must specify an observation space. https://www.gymlibrary.dev/content/environment_creation/\u001b[39m\u001b[38;5;124m\"\u001b[39m\n\u001b[1;32m     27\u001b[0m check_observation_space(env\u001b[38;5;241m.\u001b[39mobservation_space)\n\u001b[1;32m     29\u001b[0m \u001b[38;5;28mself\u001b[39m\u001b[38;5;241m.\u001b[39mchecked_reset \u001b[38;5;241m=\u001b[39m \u001b[38;5;28;01mFalse\u001b[39;00m\n",
      "\u001b[0;31mAssertionError\u001b[0m: The environment must specify an observation space. https://www.gymlibrary.dev/content/environment_creation/"
     ]
    }
   ],
   "source": [
    "import time\n",
    "import matplotlib.pyplot as plt\n",
    "import gym\n",
    "from src.configs import RENDER_MODE\n",
    "\n",
    "# env = gym.make(f\"{RENDER_MODE}:{RENDER_MODE}-v0\")\n",
    "env = gym.make(f\"worker:worker-v0\")\n",
    "\n",
    "env.reset()\n",
    "env.render(f\"human\")\n",
    "action = env.action_space.sample()\n",
    "img, reward, done, info = env.step(1)\n",
    "print(reward, done, info)\n",
    "plt.figure()\n",
    "plt.imshow(img)\n",
    "# plt.show()"
   ]
  },
  {
   "cell_type": "code",
   "execution_count": 1,
   "id": "6c7e1a6c",
   "metadata": {},
   "outputs": [
    {
     "ename": "NameError",
     "evalue": "name 'env' is not defined",
     "output_type": "error",
     "traceback": [
      "\u001b[0;31m---------------------------------------------------------------------------\u001b[0m",
      "\u001b[0;31mNameError\u001b[0m                                 Traceback (most recent call last)",
      "Cell \u001b[0;32mIn [1], line 1\u001b[0m\n\u001b[0;32m----> 1\u001b[0m env\u001b[38;5;241m.\u001b[39mreset()\n\u001b[1;32m      2\u001b[0m \u001b[38;5;28;01mfor\u001b[39;00m i \u001b[38;5;129;01min\u001b[39;00m \u001b[38;5;28mrange\u001b[39m(\u001b[38;5;241m100\u001b[39m):\n\u001b[1;32m      3\u001b[0m     env\u001b[38;5;241m.\u001b[39mrender(\u001b[38;5;124mf\u001b[39m\u001b[38;5;124m\"\u001b[39m\u001b[38;5;132;01m{\u001b[39;00mRENDER_MODE\u001b[38;5;132;01m}\u001b[39;00m\u001b[38;5;124m\"\u001b[39m)\n",
      "\u001b[0;31mNameError\u001b[0m: name 'env' is not defined"
     ]
    }
   ],
   "source": [
    "env.reset()\n",
    "for i in range(100):\n",
    "    env.render(f\"{RENDER_MODE}\")\n",
    "    action = env.action_space.sample()\n",
    "    img, reward, done, info = env.step(action)\n",
    "    time.sleep(0.1)"
   ]
  },
  {
   "cell_type": "code",
   "execution_count": null,
   "id": "9f2016de",
   "metadata": {},
   "outputs": [],
   "source": []
  }
 ],
 "metadata": {
  "kernelspec": {
   "display_name": "Python (Gym)",
   "language": "python",
   "name": "gym"
  },
  "language_info": {
   "codemirror_mode": {
    "name": "ipython",
    "version": 3
   },
   "file_extension": ".py",
   "mimetype": "text/x-python",
   "name": "python",
   "nbconvert_exporter": "python",
   "pygments_lexer": "ipython3",
   "version": "3.11.0"
  }
 },
 "nbformat": 4,
 "nbformat_minor": 5
}
