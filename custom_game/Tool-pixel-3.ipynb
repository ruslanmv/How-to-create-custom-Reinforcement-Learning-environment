{
 "cells": [
  {
   "cell_type": "markdown",
   "id": "9a6ad1c6",
   "metadata": {},
   "source": [
    "# Search based on circles"
   ]
  },
  {
   "cell_type": "code",
   "execution_count": null,
   "id": "f3071403",
   "metadata": {},
   "outputs": [],
   "source": [
    "import cv2\n",
    "import matplotlib.pyplot as plt\n",
    "import numpy as np\n",
    "# Read image.\n",
    "import os\n",
    "import sys\n",
    "#to get the current working directory\n",
    "dir_name = os.getcwd()\n",
    "base_filename='background'\n",
    "suffix = '.png'\n",
    "path=os.path.join(dir_name, base_filename + suffix)\n",
    "\n",
    "\n",
    "img = cv2.imread(path)\n",
    "blur_hor = cv2.filter2D(img[:, :, 0], cv2.CV_32F, kernel=np.ones((11,1,1), np.float32)/11.0, borderType=cv2.BORDER_CONSTANT)\n",
    "blur_vert = cv2.filter2D(img[:, :, 0], cv2.CV_32F, kernel=np.ones((1,11,1), np.float32)/11.0, borderType=cv2.BORDER_CONSTANT)\n",
    "mask = ((img[:,:,0]>blur_hor*1.2) | (img[:,:,0]>blur_vert*1.2)).astype(np.uint8)*255\n",
    "plt.imshow(mask)"
   ]
  },
  {
   "cell_type": "code",
   "execution_count": null,
   "id": "6840ab70",
   "metadata": {},
   "outputs": [],
   "source": [
    "'''\n",
    "The most important parameters for your HoughCircles call are:\n",
    "param1: because you are using cv2.HOUGH_GRADIENT, param1 is the higher threshold for the edge detection algorithm and param1 / 2 is the lower threshold.\n",
    "param2: it represents the accumulator threshold, so the lower the value, the more circles will be returned.\n",
    "minRadius and maxRadius: the blue circles in the example have a diameter of roughly 20 pixels, so using 70 pixels for maxRadius is the reason why so many circles are being returned by the algorithm.\n",
    "minDist: the minimum distance between the centers of two circles.\n",
    "The parameterization defined below:\n",
    "'''"
   ]
  },
  {
   "cell_type": "code",
   "execution_count": null,
   "id": "f057a60f",
   "metadata": {},
   "outputs": [],
   "source": [
    "circles = cv2.HoughCircles(mask,\n",
    "                           cv2.HOUGH_GRADIENT,\n",
    "                           minDist=8,\n",
    "                           dp=1,\n",
    "                           param1=150,\n",
    "                           param2=12,\n",
    "                           minRadius=4,\n",
    "                           maxRadius=10)\n",
    "output = img.copy()\n",
    "count = 0\n",
    "for (x, y, r) in circles[0, :, :]:\n",
    "    print(x,y,r)      \n",
    "    cv2.circle(output, (int(x), int(y)), int(r), (0, 255, 0), 1)\n",
    "    count += 1\n",
    "# show the output image\n",
    "print('Number of Seats: {}'.format(count))\n",
    "cv2.imshow(\"output\", np.hstack([output]))\n",
    "# cv2.imwrite('output.jpg',np.hstack([output]),[cv2.IMWRITE_JPEG_QUALITY, 70])\n",
    "cv2.waitKey(0)"
   ]
  },
  {
   "cell_type": "markdown",
   "id": "74b932ea",
   "metadata": {},
   "source": [
    "# Search based on color green"
   ]
  },
  {
   "cell_type": "code",
   "execution_count": null,
   "id": "d2fc6032",
   "metadata": {},
   "outputs": [],
   "source": [
    "#contours_found=seats_coordinates[0]\n",
    "#get_coordinates_from_countour(contours_found)\n",
    "def get_coordinates_from_countour(contours_found):\n",
    "    for c in contours_found:\n",
    "            if cv2.contourArea(c) <= 50 :\n",
    "                continue    \n",
    "            x,y,w,h = cv2.boundingRect(c)\n",
    "            #cv2.rectangle(im, (x, y), (x + w, y + h), (0, 255,0), 2)\n",
    "            center = (x,y)\n",
    "            #print (center)\n",
    "            return center"
   ]
  },
  {
   "cell_type": "code",
   "execution_count": null,
   "id": "feca70ed",
   "metadata": {},
   "outputs": [],
   "source": [
    "import numpy as np\n",
    "import cv2\n",
    "import os\n",
    "dir_name = os.getcwd()\n",
    "base_filename='background'\n",
    "suffix = '.png'\n",
    "path=os.path.join(dir_name, base_filename + suffix)\n",
    "image = cv2.imread(path)\n",
    "original = image.copy()\n",
    "image = cv2.cvtColor(image, cv2.COLOR_BGR2HSV)\n",
    "lower = np.array([0, 208, 94], dtype=\"uint8\")\n",
    "upper = np.array([179, 255, 232], dtype=\"uint8\")\n",
    "mask = cv2.inRange(image, lower, upper)\n",
    "\n",
    "# Find contours\n",
    "cnts = cv2.findContours(mask, cv2.RETR_EXTERNAL, cv2.CHAIN_APPROX_SIMPLE)\n",
    "# Extract contours depending on OpenCV version\n",
    "cnts = cnts[0] if len(cnts) == 2 else cnts[1]\n",
    "count = 0\n",
    "seats_coordinates=[]\n",
    "# Iterate through contours and filter by the number of vertices \n",
    "for c in cnts:\n",
    "    perimeter = cv2.arcLength(c, True)\n",
    "    approx = cv2.approxPolyDP(c, 0.04 * perimeter, True)\n",
    "    if len(approx) > 5:\n",
    "        cv2.drawContours(original, [c], -1, (36, 255, 12), -1)\n",
    "        #print([c])\n",
    "        contours_found = [c]\n",
    "        coordinates=get_coordinates_from_countour(contours_found)\n",
    "        print(coordinates)\n",
    "        seats_coordinates.append([coordinates])\n",
    "        count += 1\n",
    "print('Number of Seats : {}'.format(count))\n",
    "cv2.imshow('mask', mask)\n",
    "cv2.imshow('original', original)\n",
    "cv2.imwrite('mask.png', mask)\n",
    "cv2.imwrite('original.png', original)\n",
    "cv2.waitKey()\n"
   ]
  },
  {
   "cell_type": "code",
   "execution_count": null,
   "id": "28c6ef2b",
   "metadata": {},
   "outputs": [],
   "source": [
    "seats_coordinates[0]"
   ]
  },
  {
   "cell_type": "code",
   "execution_count": null,
   "id": "bb339644",
   "metadata": {},
   "outputs": [],
   "source": []
  },
  {
   "cell_type": "code",
   "execution_count": null,
   "id": "2331e0db",
   "metadata": {},
   "outputs": [],
   "source": [
    "seats_clean = [list(i[0]) for i in seats_coordinates if i[0] is not None]"
   ]
  },
  {
   "cell_type": "code",
   "execution_count": null,
   "id": "51ebf001",
   "metadata": {
    "scrolled": true
   },
   "outputs": [],
   "source": [
    "len(seats_clean)"
   ]
  },
  {
   "cell_type": "code",
   "execution_count": null,
   "id": "a97e6065",
   "metadata": {},
   "outputs": [],
   "source": [
    "seats_clean[0:2]"
   ]
  },
  {
   "cell_type": "code",
   "execution_count": null,
   "id": "1567a564",
   "metadata": {},
   "outputs": [],
   "source": [
    "import os\n",
    "import sys\n",
    "import matplotlib.image as mpimg\n",
    "import numpy as np\n",
    "import matplotlib.pyplot as plt\n",
    "#to get the current working directory\n",
    "dir_name = os.getcwd()\n",
    "base_filename='background'\n",
    "suffix = '.png'\n",
    "path=os.path.join(dir_name, base_filename + suffix)\n",
    "image = mpimg.imread(path)\n",
    "#seats=[[98, 98], [124, 95], [106, 123], [128, 125], [89, 144], [102, 142], [122, 140], [94, 166], [105, 165], [125, 165], [88, 181], [107, 183], [124, 176]]\n",
    "seats=seats_clean\n",
    "pts = np.array(seats)\n",
    "plt.imshow(image)\n",
    "plt.plot(1024, 768, \"og\", markersize=10)  # og:shorthand for green circle\n",
    "plt.scatter(pts[:, 0], pts[:, 1], marker=\"x\", color=\"red\", s=3)\n",
    "plt.show()"
   ]
  },
  {
   "cell_type": "code",
   "execution_count": null,
   "id": "ee48ba81",
   "metadata": {},
   "outputs": [],
   "source": []
  },
  {
   "cell_type": "code",
   "execution_count": null,
   "id": "94202c27",
   "metadata": {},
   "outputs": [],
   "source": [
    "import pickle\n",
    "with open('seats.pkl', 'wb') as f:\n",
    "    pickle.dump(seats, f)"
   ]
  },
  {
   "cell_type": "code",
   "execution_count": null,
   "id": "a07535d1",
   "metadata": {},
   "outputs": [],
   "source": [
    "import pickle\n",
    "with open('seats.pkl', 'rb') as f:\n",
    "    seats_coordinates = pickle.load(f)"
   ]
  },
  {
   "cell_type": "code",
   "execution_count": null,
   "id": "7e2931ee",
   "metadata": {},
   "outputs": [],
   "source": [
    "seats_coordinates"
   ]
  },
  {
   "cell_type": "code",
   "execution_count": null,
   "id": "04b95563",
   "metadata": {},
   "outputs": [],
   "source": [
    "import random\n",
    "print(random.choice(seats_coordinates))"
   ]
  },
  {
   "cell_type": "code",
   "execution_count": null,
   "id": "01e2eeb5",
   "metadata": {},
   "outputs": [],
   "source": []
  }
 ],
 "metadata": {
  "kernelspec": {
   "display_name": "Python ('data_game_env')",
   "language": "python",
   "name": "python3"
  },
  "language_info": {
   "codemirror_mode": {
    "name": "ipython",
    "version": 3
   },
   "file_extension": ".py",
   "mimetype": "text/x-python",
   "name": "python",
   "nbconvert_exporter": "python",
   "pygments_lexer": "ipython3",
   "version": ""
  },
  "vscode": {
   "interpreter": {
    "hash": "25a19fbe0a9132dfb9279d48d161753c6352f8f9478c2e74383d340069b907c3"
   }
  }
 },
 "nbformat": 4,
 "nbformat_minor": 5
}
